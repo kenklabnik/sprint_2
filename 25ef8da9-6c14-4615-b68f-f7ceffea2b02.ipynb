{
 "cells": [
  {
   "cell_type": "markdown",
   "id": "d9e5777c",
   "metadata": {},
   "source": [
    "<div style=\"border:solid green 2px; padding: 20px\">\n",
    "    \n",
    "<div class=\"alert alert-success\">\n",
    "<b>Review summary, v. 2</b> \n",
    "    \n",
    "Hello Ken. Thanks for the prompt update. You fixed all the red comments. Thanks for taking into account the recommendations as well. I'm happy to say that your project is approved!\n",
    "    \n",
    "Keep up the good work. And good luck to you with the following sprints."
   ]
  },
  {
   "cell_type": "markdown",
   "id": "f8a77f76",
   "metadata": {},
   "source": [
    "<div style=\"border:solid blue 2px; padding: 20px\">\n",
    "  \n",
    "**Hello Ken.**\n",
    "\n",
    "I'm happy to review your project today. \n",
    "\n",
    "You will find my comments in coloured cells marked as 'Reviewer's comment'. The cell colour will vary based on the contents - I am explaining it further below. \n",
    "\n",
    "**Note:** Please do not remove or change my comments - they will help me in my future reviews and will make the process smoother for both of us. \n",
    "\n",
    "<div class=\"alert alert-success\"; style=\"border-left: 7px solid green\">\n",
    "<b>✅ Reviewer's comment</b> \n",
    "    \n",
    "Such comment will mark efficient solutions and good ideas that can be used in other projects.\n",
    "</div>\n",
    "\n",
    "<div class=\"alert alert-warning\"; style=\"border-left: 7px solid gold\">\n",
    "<b>⚠️ Reviewer's comment</b> \n",
    "    \n",
    "The parts marked with yellow comments indicate that there is room for optimisation. Though the correction is not necessary it is good if you implement it.\n",
    "</div>\n",
    "\n",
    "<div class=\"alert alert-danger\"; style=\"border-left: 7px solid red\">\n",
    "<b>⛔️ Reviewer's comment</b> \n",
    "    \n",
    "If you see such a comment, it means that there is a problem that needs to be fixed. Please note that I won't be able to accept your project until the issue is resolved.\n",
    "</div>\n",
    "\n",
    "You are also very welcome to leave your comments / describe the corrections you've done / ask me questions, marking them with a different colour. You can use the example below: \n",
    "\n",
    "<div class=\"alert alert-info\"; style=\"border-left: 7px solid blue\">\n",
    "<b>Student's comment</b>"
   ]
  },
  {
   "cell_type": "markdown",
   "id": "1243efb9",
   "metadata": {},
   "source": [
    "<div style=\"border:solid green 2px; padding: 20px\">\n",
    "    \n",
    "<div class=\"alert alert-success\">\n",
    "<b>Review summary</b> \n",
    "    \n",
    "Ken, thanks for submitting the project. You've done a very good job and I enjoyed reviewing it.\n",
    "    \n",
    "- You followed the project structure.\n",
    "- You studied the data thoroughly.\n",
    "- You treated the missing values very well.\n",
    "- The charts you plotted clearly answered the questions.\n",
    "       \n",
    "    \n",
    "    \n",
    "<div class=\"alert alert-danger\">\n",
    "    \n",
    "\n",
    "    \n",
    "There are only a few critical comments that need to be corrected. You will find them in the red-coloured cells in relevant sections. Could you please try to correct them and send the project back to me?\n",
    "\n",
    "</div>\n",
    "    \n",
    "You may also work on the yellow comments. If you have any questions please write them when you return your project. \n",
    "    \n",
    "I'll be looking forward to getting your updated notebook."
   ]
  },
  {
   "cell_type": "markdown",
   "id": "4ed4cb82",
   "metadata": {},
   "source": [
    "<div class=\"alert alert-success\"; style=\"border-left: 7px solid green\">\n",
    "<b>✅ Reviewer's comment, v. 2</b> \n",
    "    \n",
    "✔️ \n",
    "    \n",
    "\n",
    "\n",
    "<div class=\"alert alert-danger\"; style=\"border-left: 7px solid red\">\n",
    "<b>⛔️ Reviewer's comment, v. 1</b> \n",
    "\n",
    "\n",
    "    \n",
    "Title and introduction are required for every project. Could you please add them? And make sure you do not forget to include it in your further projects. \n",
    "    \n",
    "It is optimal if introduction consists of:\n",
    "    \n",
    "- brief description of the situation;\n",
    "- goal of the project;\n",
    "- description of the data we are going to use.\n",
    "</div>\n"
   ]
  },
  {
   "cell_type": "markdown",
   "id": "fa0a2116",
   "metadata": {},
   "source": [
    "<div class=\"alert alert-info\"; style=\"border-left: 7px solid blue\">\n",
    "Very well!"
   ]
  },
  {
   "cell_type": "markdown",
   "id": "7ae13b06",
   "metadata": {},
   "source": [
    "# Sprint 2 Project: Instacart Data Analysis\n",
    "\n",
    "We have been provided data pertaining to Instacart orders from 2017.\n",
    "\n",
    "The goal of this project is to analyze this data, which involves cleaning up duplicate and missing data as well as asking and answering questions about it.\n",
    "\n",
    "The data we have access to includes: \n",
    "\n",
    "- instacart_orders.csv: includes information on orders, such as the user id associated with an order, the day of the week it was made, the time of day it was made, and how long it had been since the user had previously ordered from Instacart\n",
    "- products.csv: includes the ids and names of products, as well as the aisle and departments where those items are found\n",
    "- order_products.csv: includes information about the contents of orders; this includes product ids, the order in which items were added to carts, and whether that item was a reorder\n",
    "- aisles.csv: includes aisle ids and names\n",
    "- departments.csv: includes department ids and names"
   ]
  },
  {
   "cell_type": "code",
   "execution_count": 1,
   "id": "fbf1adab",
   "metadata": {},
   "outputs": [],
   "source": [
    "import pandas as pd\n",
    "from matplotlib import pyplot as plt"
   ]
  },
  {
   "cell_type": "code",
   "execution_count": 2,
   "id": "ad36396d",
   "metadata": {},
   "outputs": [
    {
     "name": "stdout",
     "output_type": "stream",
     "text": [
      "<class 'pandas.core.frame.DataFrame'>\n",
      "RangeIndex: 478967 entries, 0 to 478966\n",
      "Data columns (total 6 columns):\n",
      " #   Column                  Non-Null Count   Dtype  \n",
      "---  ------                  --------------   -----  \n",
      " 0   order_id                478967 non-null  int64  \n",
      " 1   user_id                 478967 non-null  int64  \n",
      " 2   order_number            478967 non-null  int64  \n",
      " 3   order_dow               478967 non-null  int64  \n",
      " 4   order_hour_of_day       478967 non-null  int64  \n",
      " 5   days_since_prior_order  450148 non-null  float64\n",
      "dtypes: float64(1), int64(5)\n",
      "memory usage: 21.9 MB\n"
     ]
    }
   ],
   "source": [
    "df_orders = pd.read_csv('/datasets/instacart_orders.csv', sep=';')\n",
    "df_orders.info()"
   ]
  },
  {
   "cell_type": "code",
   "execution_count": 3,
   "id": "ad6a1efa",
   "metadata": {},
   "outputs": [
    {
     "name": "stdout",
     "output_type": "stream",
     "text": [
      "<class 'pandas.core.frame.DataFrame'>\n",
      "RangeIndex: 49694 entries, 0 to 49693\n",
      "Data columns (total 4 columns):\n",
      " #   Column         Non-Null Count  Dtype \n",
      "---  ------         --------------  ----- \n",
      " 0   product_id     49694 non-null  int64 \n",
      " 1   product_name   48436 non-null  object\n",
      " 2   aisle_id       49694 non-null  int64 \n",
      " 3   department_id  49694 non-null  int64 \n",
      "dtypes: int64(3), object(1)\n",
      "memory usage: 1.5+ MB\n"
     ]
    }
   ],
   "source": [
    "df_products = pd.read_csv('/datasets/products.csv', sep=';')\n",
    "df_products.info()"
   ]
  },
  {
   "cell_type": "code",
   "execution_count": 4,
   "id": "5130e05e",
   "metadata": {},
   "outputs": [
    {
     "name": "stdout",
     "output_type": "stream",
     "text": [
      "<class 'pandas.core.frame.DataFrame'>\n",
      "RangeIndex: 4545007 entries, 0 to 4545006\n",
      "Data columns (total 4 columns):\n",
      " #   Column             Non-Null Count    Dtype  \n",
      "---  ------             --------------    -----  \n",
      " 0   order_id           4545007 non-null  int64  \n",
      " 1   product_id         4545007 non-null  int64  \n",
      " 2   add_to_cart_order  4544171 non-null  float64\n",
      " 3   reordered          4545007 non-null  int64  \n",
      "dtypes: float64(1), int64(3)\n",
      "memory usage: 138.7 MB\n"
     ]
    }
   ],
   "source": [
    "df_order_products = pd.read_csv('/datasets/order_products.csv', sep=';')\n",
    "df_order_products.info(show_counts=True)"
   ]
  },
  {
   "cell_type": "code",
   "execution_count": 5,
   "id": "d8370c05",
   "metadata": {},
   "outputs": [
    {
     "name": "stdout",
     "output_type": "stream",
     "text": [
      "<class 'pandas.core.frame.DataFrame'>\n",
      "RangeIndex: 134 entries, 0 to 133\n",
      "Data columns (total 2 columns):\n",
      " #   Column    Non-Null Count  Dtype \n",
      "---  ------    --------------  ----- \n",
      " 0   aisle_id  134 non-null    int64 \n",
      " 1   aisle     134 non-null    object\n",
      "dtypes: int64(1), object(1)\n",
      "memory usage: 2.2+ KB\n"
     ]
    }
   ],
   "source": [
    "df_aisles = pd.read_csv('/datasets/aisles.csv', sep=';')\n",
    "df_aisles.info()"
   ]
  },
  {
   "cell_type": "code",
   "execution_count": 6,
   "id": "59e2090f",
   "metadata": {},
   "outputs": [
    {
     "name": "stdout",
     "output_type": "stream",
     "text": [
      "<class 'pandas.core.frame.DataFrame'>\n",
      "RangeIndex: 21 entries, 0 to 20\n",
      "Data columns (total 2 columns):\n",
      " #   Column         Non-Null Count  Dtype \n",
      "---  ------         --------------  ----- \n",
      " 0   department_id  21 non-null     int64 \n",
      " 1   department     21 non-null     object\n",
      "dtypes: int64(1), object(1)\n",
      "memory usage: 464.0+ bytes\n"
     ]
    }
   ],
   "source": [
    "df_dept = pd.read_csv('/datasets/departments.csv', sep=';')\n",
    "df_dept.info()"
   ]
  },
  {
   "cell_type": "markdown",
   "id": "e1fbdd8f",
   "metadata": {},
   "source": [
    "<div class=\"alert alert-success\"; style=\"border-left: 7px solid green\">\n",
    "<b>✅ Reviewer's comment, v. 2</b> \n",
    "    \n",
    "✔️ Yes, helps you to understand how the data looks like.\n",
    "    \n",
    "\n",
    "\n",
    "<div class=\"alert alert-danger\"; style=\"border-left: 7px solid red\">\n",
    "<b>⛔️ Reviewer's comment, v. 1</b> \n",
    "\n",
    "In this section, please also get familiar with the datasets by looking at the data - first, use `head()` method to display first lines. \n",
    "    \n",
    "    \n",
    "After you've studied the data don't forget to write a brief summary of your observations."
   ]
  },
  {
   "cell_type": "markdown",
   "id": "a41b1038",
   "metadata": {},
   "source": [
    "<div class=\"alert alert-info\"; style=\"border-left: 7px solid blue\">\n",
    "Sure thing! I tended to use head() and similar methods for checking later in the project, but you're right that it probably just makes more sense to do that right away."
   ]
  },
  {
   "cell_type": "code",
   "execution_count": 7,
   "id": "ff1144fb",
   "metadata": {
    "scrolled": true
   },
   "outputs": [
    {
     "data": {
      "text/html": [
       "<div>\n",
       "<style scoped>\n",
       "    .dataframe tbody tr th:only-of-type {\n",
       "        vertical-align: middle;\n",
       "    }\n",
       "\n",
       "    .dataframe tbody tr th {\n",
       "        vertical-align: top;\n",
       "    }\n",
       "\n",
       "    .dataframe thead th {\n",
       "        text-align: right;\n",
       "    }\n",
       "</style>\n",
       "<table border=\"1\" class=\"dataframe\">\n",
       "  <thead>\n",
       "    <tr style=\"text-align: right;\">\n",
       "      <th></th>\n",
       "      <th>order_id</th>\n",
       "      <th>user_id</th>\n",
       "      <th>order_number</th>\n",
       "      <th>order_dow</th>\n",
       "      <th>order_hour_of_day</th>\n",
       "      <th>days_since_prior_order</th>\n",
       "    </tr>\n",
       "  </thead>\n",
       "  <tbody>\n",
       "    <tr>\n",
       "      <th>0</th>\n",
       "      <td>1515936</td>\n",
       "      <td>183418</td>\n",
       "      <td>11</td>\n",
       "      <td>6</td>\n",
       "      <td>13</td>\n",
       "      <td>30.0</td>\n",
       "    </tr>\n",
       "    <tr>\n",
       "      <th>1</th>\n",
       "      <td>1690866</td>\n",
       "      <td>163593</td>\n",
       "      <td>5</td>\n",
       "      <td>5</td>\n",
       "      <td>12</td>\n",
       "      <td>9.0</td>\n",
       "    </tr>\n",
       "    <tr>\n",
       "      <th>2</th>\n",
       "      <td>1454967</td>\n",
       "      <td>39980</td>\n",
       "      <td>4</td>\n",
       "      <td>5</td>\n",
       "      <td>19</td>\n",
       "      <td>2.0</td>\n",
       "    </tr>\n",
       "    <tr>\n",
       "      <th>3</th>\n",
       "      <td>1768857</td>\n",
       "      <td>82516</td>\n",
       "      <td>56</td>\n",
       "      <td>0</td>\n",
       "      <td>20</td>\n",
       "      <td>10.0</td>\n",
       "    </tr>\n",
       "    <tr>\n",
       "      <th>4</th>\n",
       "      <td>3007858</td>\n",
       "      <td>196724</td>\n",
       "      <td>2</td>\n",
       "      <td>4</td>\n",
       "      <td>12</td>\n",
       "      <td>17.0</td>\n",
       "    </tr>\n",
       "  </tbody>\n",
       "</table>\n",
       "</div>"
      ],
      "text/plain": [
       "   order_id  user_id  order_number  order_dow  order_hour_of_day  \\\n",
       "0   1515936   183418            11          6                 13   \n",
       "1   1690866   163593             5          5                 12   \n",
       "2   1454967    39980             4          5                 19   \n",
       "3   1768857    82516            56          0                 20   \n",
       "4   3007858   196724             2          4                 12   \n",
       "\n",
       "   days_since_prior_order  \n",
       "0                    30.0  \n",
       "1                     9.0  \n",
       "2                     2.0  \n",
       "3                    10.0  \n",
       "4                    17.0  "
      ]
     },
     "execution_count": 7,
     "metadata": {},
     "output_type": "execute_result"
    }
   ],
   "source": [
    "df_orders.head()"
   ]
  },
  {
   "cell_type": "markdown",
   "id": "8e0ad80c",
   "metadata": {},
   "source": [
    "<div class=\"alert alert-info\"; style=\"border-left: 7px solid blue\">`days_since_prior_order` being a float is a little odd. I did eventually change it to an integer for the sake of some of the bar charts later.\n",
    "\n"
   ]
  },
  {
   "cell_type": "code",
   "execution_count": 8,
   "id": "190cf648",
   "metadata": {
    "scrolled": true
   },
   "outputs": [
    {
     "data": {
      "text/html": [
       "<div>\n",
       "<style scoped>\n",
       "    .dataframe tbody tr th:only-of-type {\n",
       "        vertical-align: middle;\n",
       "    }\n",
       "\n",
       "    .dataframe tbody tr th {\n",
       "        vertical-align: top;\n",
       "    }\n",
       "\n",
       "    .dataframe thead th {\n",
       "        text-align: right;\n",
       "    }\n",
       "</style>\n",
       "<table border=\"1\" class=\"dataframe\">\n",
       "  <thead>\n",
       "    <tr style=\"text-align: right;\">\n",
       "      <th></th>\n",
       "      <th>product_id</th>\n",
       "      <th>product_name</th>\n",
       "      <th>aisle_id</th>\n",
       "      <th>department_id</th>\n",
       "    </tr>\n",
       "  </thead>\n",
       "  <tbody>\n",
       "    <tr>\n",
       "      <th>0</th>\n",
       "      <td>1</td>\n",
       "      <td>Chocolate Sandwich Cookies</td>\n",
       "      <td>61</td>\n",
       "      <td>19</td>\n",
       "    </tr>\n",
       "    <tr>\n",
       "      <th>1</th>\n",
       "      <td>2</td>\n",
       "      <td>All-Seasons Salt</td>\n",
       "      <td>104</td>\n",
       "      <td>13</td>\n",
       "    </tr>\n",
       "    <tr>\n",
       "      <th>2</th>\n",
       "      <td>3</td>\n",
       "      <td>Robust Golden Unsweetened Oolong Tea</td>\n",
       "      <td>94</td>\n",
       "      <td>7</td>\n",
       "    </tr>\n",
       "    <tr>\n",
       "      <th>3</th>\n",
       "      <td>4</td>\n",
       "      <td>Smart Ones Classic Favorites Mini Rigatoni Wit...</td>\n",
       "      <td>38</td>\n",
       "      <td>1</td>\n",
       "    </tr>\n",
       "    <tr>\n",
       "      <th>4</th>\n",
       "      <td>5</td>\n",
       "      <td>Green Chile Anytime Sauce</td>\n",
       "      <td>5</td>\n",
       "      <td>13</td>\n",
       "    </tr>\n",
       "  </tbody>\n",
       "</table>\n",
       "</div>"
      ],
      "text/plain": [
       "   product_id                                       product_name  aisle_id  \\\n",
       "0           1                         Chocolate Sandwich Cookies        61   \n",
       "1           2                                   All-Seasons Salt       104   \n",
       "2           3               Robust Golden Unsweetened Oolong Tea        94   \n",
       "3           4  Smart Ones Classic Favorites Mini Rigatoni Wit...        38   \n",
       "4           5                          Green Chile Anytime Sauce         5   \n",
       "\n",
       "   department_id  \n",
       "0             19  \n",
       "1             13  \n",
       "2              7  \n",
       "3              1  \n",
       "4             13  "
      ]
     },
     "execution_count": 8,
     "metadata": {},
     "output_type": "execute_result"
    }
   ],
   "source": [
    "df_products.head()"
   ]
  },
  {
   "cell_type": "markdown",
   "id": "47e722fa",
   "metadata": {},
   "source": [
    "<div class=\"alert alert-info\"; style=\"border-left: 7px solid blue\">It's interesting that the index is just one off from the product id on a given row. product_name is our first string (or rather, object) type data for this project.</div>"
   ]
  },
  {
   "cell_type": "code",
   "execution_count": 9,
   "id": "4f4e53e8",
   "metadata": {},
   "outputs": [
    {
     "data": {
      "text/html": [
       "<div>\n",
       "<style scoped>\n",
       "    .dataframe tbody tr th:only-of-type {\n",
       "        vertical-align: middle;\n",
       "    }\n",
       "\n",
       "    .dataframe tbody tr th {\n",
       "        vertical-align: top;\n",
       "    }\n",
       "\n",
       "    .dataframe thead th {\n",
       "        text-align: right;\n",
       "    }\n",
       "</style>\n",
       "<table border=\"1\" class=\"dataframe\">\n",
       "  <thead>\n",
       "    <tr style=\"text-align: right;\">\n",
       "      <th></th>\n",
       "      <th>order_id</th>\n",
       "      <th>product_id</th>\n",
       "      <th>add_to_cart_order</th>\n",
       "      <th>reordered</th>\n",
       "    </tr>\n",
       "  </thead>\n",
       "  <tbody>\n",
       "    <tr>\n",
       "      <th>0</th>\n",
       "      <td>2141543</td>\n",
       "      <td>11440</td>\n",
       "      <td>17.0</td>\n",
       "      <td>0</td>\n",
       "    </tr>\n",
       "    <tr>\n",
       "      <th>1</th>\n",
       "      <td>567889</td>\n",
       "      <td>1560</td>\n",
       "      <td>1.0</td>\n",
       "      <td>1</td>\n",
       "    </tr>\n",
       "    <tr>\n",
       "      <th>2</th>\n",
       "      <td>2261212</td>\n",
       "      <td>26683</td>\n",
       "      <td>1.0</td>\n",
       "      <td>1</td>\n",
       "    </tr>\n",
       "    <tr>\n",
       "      <th>3</th>\n",
       "      <td>491251</td>\n",
       "      <td>8670</td>\n",
       "      <td>35.0</td>\n",
       "      <td>1</td>\n",
       "    </tr>\n",
       "    <tr>\n",
       "      <th>4</th>\n",
       "      <td>2571142</td>\n",
       "      <td>1940</td>\n",
       "      <td>5.0</td>\n",
       "      <td>1</td>\n",
       "    </tr>\n",
       "  </tbody>\n",
       "</table>\n",
       "</div>"
      ],
      "text/plain": [
       "   order_id  product_id  add_to_cart_order  reordered\n",
       "0   2141543       11440               17.0          0\n",
       "1    567889        1560                1.0          1\n",
       "2   2261212       26683                1.0          1\n",
       "3    491251        8670               35.0          1\n",
       "4   2571142        1940                5.0          1"
      ]
     },
     "execution_count": 9,
     "metadata": {},
     "output_type": "execute_result"
    }
   ],
   "source": [
    "df_order_products.head()"
   ]
  },
  {
   "cell_type": "markdown",
   "id": "34a494cc",
   "metadata": {},
   "source": [
    "<div class=\"alert alert-info\"; style=\"border-left: 7px solid blue\">order_id and product_id both appear in the other two data frames, meaning this table is critical to connecting users with their preferred products."
   ]
  },
  {
   "cell_type": "code",
   "execution_count": 10,
   "id": "5b091e95",
   "metadata": {},
   "outputs": [
    {
     "data": {
      "text/html": [
       "<div>\n",
       "<style scoped>\n",
       "    .dataframe tbody tr th:only-of-type {\n",
       "        vertical-align: middle;\n",
       "    }\n",
       "\n",
       "    .dataframe tbody tr th {\n",
       "        vertical-align: top;\n",
       "    }\n",
       "\n",
       "    .dataframe thead th {\n",
       "        text-align: right;\n",
       "    }\n",
       "</style>\n",
       "<table border=\"1\" class=\"dataframe\">\n",
       "  <thead>\n",
       "    <tr style=\"text-align: right;\">\n",
       "      <th></th>\n",
       "      <th>aisle_id</th>\n",
       "      <th>aisle</th>\n",
       "    </tr>\n",
       "  </thead>\n",
       "  <tbody>\n",
       "    <tr>\n",
       "      <th>0</th>\n",
       "      <td>1</td>\n",
       "      <td>prepared soups salads</td>\n",
       "    </tr>\n",
       "    <tr>\n",
       "      <th>1</th>\n",
       "      <td>2</td>\n",
       "      <td>specialty cheeses</td>\n",
       "    </tr>\n",
       "    <tr>\n",
       "      <th>2</th>\n",
       "      <td>3</td>\n",
       "      <td>energy granola bars</td>\n",
       "    </tr>\n",
       "    <tr>\n",
       "      <th>3</th>\n",
       "      <td>4</td>\n",
       "      <td>instant foods</td>\n",
       "    </tr>\n",
       "    <tr>\n",
       "      <th>4</th>\n",
       "      <td>5</td>\n",
       "      <td>marinades meat preparation</td>\n",
       "    </tr>\n",
       "  </tbody>\n",
       "</table>\n",
       "</div>"
      ],
      "text/plain": [
       "   aisle_id                       aisle\n",
       "0         1       prepared soups salads\n",
       "1         2           specialty cheeses\n",
       "2         3         energy granola bars\n",
       "3         4               instant foods\n",
       "4         5  marinades meat preparation"
      ]
     },
     "execution_count": 10,
     "metadata": {},
     "output_type": "execute_result"
    }
   ],
   "source": [
    "df_aisles.head()"
   ]
  },
  {
   "cell_type": "code",
   "execution_count": 11,
   "id": "32d77b15",
   "metadata": {},
   "outputs": [
    {
     "data": {
      "text/html": [
       "<div>\n",
       "<style scoped>\n",
       "    .dataframe tbody tr th:only-of-type {\n",
       "        vertical-align: middle;\n",
       "    }\n",
       "\n",
       "    .dataframe tbody tr th {\n",
       "        vertical-align: top;\n",
       "    }\n",
       "\n",
       "    .dataframe thead th {\n",
       "        text-align: right;\n",
       "    }\n",
       "</style>\n",
       "<table border=\"1\" class=\"dataframe\">\n",
       "  <thead>\n",
       "    <tr style=\"text-align: right;\">\n",
       "      <th></th>\n",
       "      <th>department_id</th>\n",
       "      <th>department</th>\n",
       "    </tr>\n",
       "  </thead>\n",
       "  <tbody>\n",
       "    <tr>\n",
       "      <th>0</th>\n",
       "      <td>1</td>\n",
       "      <td>frozen</td>\n",
       "    </tr>\n",
       "    <tr>\n",
       "      <th>1</th>\n",
       "      <td>2</td>\n",
       "      <td>other</td>\n",
       "    </tr>\n",
       "    <tr>\n",
       "      <th>2</th>\n",
       "      <td>3</td>\n",
       "      <td>bakery</td>\n",
       "    </tr>\n",
       "    <tr>\n",
       "      <th>3</th>\n",
       "      <td>4</td>\n",
       "      <td>produce</td>\n",
       "    </tr>\n",
       "    <tr>\n",
       "      <th>4</th>\n",
       "      <td>5</td>\n",
       "      <td>alcohol</td>\n",
       "    </tr>\n",
       "  </tbody>\n",
       "</table>\n",
       "</div>"
      ],
      "text/plain": [
       "   department_id department\n",
       "0              1     frozen\n",
       "1              2      other\n",
       "2              3     bakery\n",
       "3              4    produce\n",
       "4              5    alcohol"
      ]
     },
     "execution_count": 11,
     "metadata": {},
     "output_type": "execute_result"
    }
   ],
   "source": [
    "df_dept.head()"
   ]
  },
  {
   "cell_type": "markdown",
   "id": "598f7f89",
   "metadata": {},
   "source": [
    "<div class=\"alert alert-info\"; style=\"border-left: 7px solid blue\">Both of these dataframes are comparatively simple; the most notable thing is that the indices are one off from the listed ids, much like the product dataframe. "
   ]
  },
  {
   "cell_type": "markdown",
   "id": "c5f228d8",
   "metadata": {},
   "source": [
    "<div class=\"alert alert-success\"; style=\"border-left: 7px solid green\">\n",
    "<b>✅ Reviewer's comment, v. 2</b> \n",
    "    \n",
    "✔️ Well done, you've studied the data and made good observations.\n",
    "    \n",
    "\n",
    "\n"
   ]
  },
  {
   "cell_type": "markdown",
   "id": "07357848-dc64-4156-9cc3-01ff4365226d",
   "metadata": {},
   "source": [
    "## Find and remove duplicate values (and describe why you make your choices)"
   ]
  },
  {
   "cell_type": "markdown",
   "id": "f179f0a9",
   "metadata": {},
   "source": [
    "### `orders` data frame"
   ]
  },
  {
   "cell_type": "code",
   "execution_count": 12,
   "id": "b99297a5-405a-463d-8535-9adc3da4ad74",
   "metadata": {},
   "outputs": [
    {
     "name": "stdout",
     "output_type": "stream",
     "text": [
      "<class 'pandas.core.frame.DataFrame'>\n",
      "Int64Index: 15 entries, 145574 to 441599\n",
      "Data columns (total 6 columns):\n",
      " #   Column                  Non-Null Count  Dtype  \n",
      "---  ------                  --------------  -----  \n",
      " 0   order_id                15 non-null     int64  \n",
      " 1   user_id                 15 non-null     int64  \n",
      " 2   order_number            15 non-null     int64  \n",
      " 3   order_dow               15 non-null     int64  \n",
      " 4   order_hour_of_day       15 non-null     int64  \n",
      " 5   days_since_prior_order  13 non-null     float64\n",
      "dtypes: float64(1), int64(5)\n",
      "memory usage: 840.0 bytes\n",
      "None\n"
     ]
    },
    {
     "data": {
      "text/plain": [
       "order_id                  22748225.0\n",
       "user_id                    1488252.0\n",
       "order_number                   375.0\n",
       "order_dow                       45.0\n",
       "order_hour_of_day               30.0\n",
       "days_since_prior_order         116.0\n",
       "dtype: float64"
      ]
     },
     "execution_count": 12,
     "metadata": {},
     "output_type": "execute_result"
    }
   ],
   "source": [
    "# Check for duplicated orders\n",
    "dupes = df_orders[df_orders.duplicated()]\n",
    "print(dupes.info())\n",
    "dupes.sum()\n",
    "#a given order id should be unique to the order, so any rows with duplicate ids should be fully duplicate"
   ]
  },
  {
   "cell_type": "markdown",
   "id": "a9c45e17",
   "metadata": {},
   "source": [
    "<div class=\"alert alert-success\"; style=\"border-left: 7px solid green\">\n",
    "<b>✅ Reviewer's comment, v. 2</b> \n",
    "    \n",
    "✔️ Yes, it's OK. Just keep in mind for future projects. You can write all your thoughts in the Markdown cells, it's OK as well.\n",
    "    \n",
    "\n",
    "\n",
    "<div class=\"alert alert-warning\"; style=\"border-left: 7px solid gold\">\n",
    "<b>⚠️ Reviewer's comment, v. 1</b> \n",
    "\n",
    "\n",
    "\n",
    "\n",
    "To check whether there are duplicates in a dataframe it is more common to either display the duplicated rows:\n",
    "    \n",
    "`df[df.duplicated()]`\n",
    "    \n",
    "or the number of the duplicates (\n",
    "    \n",
    "`df.duplicated().sum()`. \n",
    "    \n",
    "Could you please fix that?\n",
    "    \n",
    "---\n",
    "    \n",
    "\n",
    "\n",
    "Please note that you need to use Markdown type of cells for the comments and conclusions. In the code cells only a short comments for the code are made.\n",
    "    \n",
    "To change the cell type for Markdown please use the upper navigation bar - create a new cell with `+` button, step on it and change Raw to Markdown in the dropdown menu.\n",
    "</div>\n"
   ]
  },
  {
   "cell_type": "markdown",
   "id": "818013d2",
   "metadata": {},
   "source": [
    "<div class=\"alert alert-info\"; style=\"border-left: 7px solid blue\">I've left the comments in for the sake of making this review comment make sense, but I will keep that in mind for the future. .info() already shows that the new \"dupes\" data frame has 0 entries, but I will also run .sum()."
   ]
  },
  {
   "cell_type": "code",
   "execution_count": 13,
   "id": "0d44de5d",
   "metadata": {},
   "outputs": [
    {
     "name": "stdout",
     "output_type": "stream",
     "text": [
      "<class 'pandas.core.frame.DataFrame'>\n",
      "Int64Index: 121 entries, 4838 to 477526\n",
      "Data columns (total 6 columns):\n",
      " #   Column                  Non-Null Count  Dtype  \n",
      "---  ------                  --------------  -----  \n",
      " 0   order_id                121 non-null    int64  \n",
      " 1   user_id                 121 non-null    int64  \n",
      " 2   order_number            121 non-null    int64  \n",
      " 3   order_dow               121 non-null    int64  \n",
      " 4   order_hour_of_day       121 non-null    int64  \n",
      " 5   days_since_prior_order  114 non-null    float64\n",
      "dtypes: float64(1), int64(5)\n",
      "memory usage: 6.6 KB\n",
      "None\n"
     ]
    }
   ],
   "source": [
    "# Check for all orders placed Wednesday at 2:00 AM\n",
    "#it is unclear which day from 0 to 6 is Wednesdays, per the instructions\n",
    "#df_orders['order_dow'].value_counts()\n",
    "#is the zero index Sunday or Monday? or some other day? if the data collection were really bad it might not even be in order\n",
    "#the best I can figure is that Wednesday = 3, and it's only for meta reasons:\n",
    "#all the duplicate data in the previous step was order_dow=3 and order_hour_of_day=2\n",
    "#so there'd be no reason for this project to ask otherwise\n",
    "\n",
    "wed_orders = df_orders[(df_orders['order_dow']==3) & (df_orders['order_hour_of_day']==2)]\n",
    "print(wed_orders.info())\n",
    "#there are 121 orders placed in the specified time window"
   ]
  },
  {
   "cell_type": "markdown",
   "id": "fd2021df",
   "metadata": {},
   "source": [
    "<div class=\"alert alert-success\"; style=\"border-left: 7px solid green\">\n",
    "<b>✅ Reviewer's comment, v. 1</b> \n",
    "    \n",
    "Yes, you are right - we are checking the duplicates  made on Wednesday (dow == 3) at 2 o'clock, because all the duplicates are attributed to that period of time."
   ]
  },
  {
   "cell_type": "markdown",
   "id": "add8f2ff",
   "metadata": {},
   "source": [
    "<div class=\"alert alert-info\"; style=\"border-left: 7px solid blue\">I appreciate the confirmation on that. My concern was that, per the project instructions, the order_dow is intentionally not left clear; without any additional information, \"in the real world\" I would have to ask the provider of the data which numbers map onto which days. Wednesday being 3 was entirely a guess, and it was one I was only able to make because of the specifics of the duplicate data that had been added. It was entirely possible that 3 represented Thursday (if Monday were 0, as it appears on some calendars).\n",
    "    \n",
    "<div class=\"alert alert-success\"; style=\"border-left: 7px solid green\">\n",
    "<b>✅ Reviewer's comment, v. 2</b> \n",
    "    \n",
    "✔️ I think the project author was just sure that we look at the duplicates in the first place and it will be clear to us why we are checking the certain day and time. But, different people use different methods to check whether there are duplicates or not )\n",
    "    \n",
    "\n",
    "\n"
   ]
  },
  {
   "cell_type": "code",
   "execution_count": 14,
   "id": "480563c7",
   "metadata": {},
   "outputs": [
    {
     "name": "stdout",
     "output_type": "stream",
     "text": [
      "<class 'pandas.core.frame.DataFrame'>\n",
      "Int64Index: 478952 entries, 0 to 478966\n",
      "Data columns (total 6 columns):\n",
      " #   Column                  Non-Null Count   Dtype  \n",
      "---  ------                  --------------   -----  \n",
      " 0   order_id                478952 non-null  int64  \n",
      " 1   user_id                 478952 non-null  int64  \n",
      " 2   order_number            478952 non-null  int64  \n",
      " 3   order_dow               478952 non-null  int64  \n",
      " 4   order_hour_of_day       478952 non-null  int64  \n",
      " 5   days_since_prior_order  450135 non-null  float64\n",
      "dtypes: float64(1), int64(5)\n",
      "memory usage: 25.6 MB\n"
     ]
    }
   ],
   "source": [
    "# Remove duplicate orders\n",
    "df_orders = df_orders.drop_duplicates()\n",
    "#will decide whether to reset indices later\n",
    "df_orders.info()\n",
    "#this is 15 fewer rows than when .info() was called on this dataframe at the start of the project\n",
    "#that matches the number of duplicate rows found earlier, so should be good to go"
   ]
  },
  {
   "cell_type": "code",
   "execution_count": 15,
   "id": "0b2396a2",
   "metadata": {},
   "outputs": [
    {
     "name": "stdout",
     "output_type": "stream",
     "text": [
      "Empty DataFrame\n",
      "Columns: [order_id, user_id, order_number, order_dow, order_hour_of_day, days_since_prior_order]\n",
      "Index: []\n"
     ]
    }
   ],
   "source": [
    "# Double check for duplicate rows\n",
    "print(df_orders[df_orders.duplicated()])\n",
    "#empty dataframe further confirms duplicate data removal"
   ]
  },
  {
   "cell_type": "code",
   "execution_count": 16,
   "id": "f6113ef1",
   "metadata": {},
   "outputs": [
    {
     "name": "stdout",
     "output_type": "stream",
     "text": [
      "478952\n",
      "478952\n"
     ]
    }
   ],
   "source": [
    "# Double check for duplicate order IDs only\n",
    "print(df_orders['order_id'].size)\n",
    "print(df_orders['order_id'].nunique())\n",
    "#the number of unique entries matches the size of the series, so no discrepancy there either"
   ]
  },
  {
   "cell_type": "markdown",
   "id": "5e8905ae",
   "metadata": {},
   "source": [
    "The `orders` data frame had 15 duplicate entries, which we were able to successfully remove."
   ]
  },
  {
   "cell_type": "markdown",
   "id": "6b12d910",
   "metadata": {},
   "source": [
    "<div class=\"alert alert-success\"; style=\"border-left: 7px solid green\">\n",
    "<b>✅ Reviewer's comment, v. 1</b> \n",
    "    \n",
    "Well done - you performed all the required check and wrote the conclusion."
   ]
  },
  {
   "cell_type": "markdown",
   "id": "45e6bc46",
   "metadata": {},
   "source": [
    "### `products` data frame"
   ]
  },
  {
   "cell_type": "code",
   "execution_count": 17,
   "id": "5f526b5b-8175-46fa-a0fd-441767d50e64",
   "metadata": {},
   "outputs": [
    {
     "name": "stdout",
     "output_type": "stream",
     "text": [
      "<class 'pandas.core.frame.DataFrame'>\n",
      "Int64Index: 0 entries\n",
      "Data columns (total 4 columns):\n",
      " #   Column         Non-Null Count  Dtype \n",
      "---  ------         --------------  ----- \n",
      " 0   product_id     0 non-null      int64 \n",
      " 1   product_name   0 non-null      object\n",
      " 2   aisle_id       0 non-null      int64 \n",
      " 3   department_id  0 non-null      int64 \n",
      "dtypes: int64(3), object(1)\n",
      "memory usage: 0.0+ bytes\n"
     ]
    }
   ],
   "source": [
    "# Check for fully duplicate rows\n",
    "df_products[df_products.duplicated()].info()\n",
    "#seems like no fully duplicate rows"
   ]
  },
  {
   "cell_type": "code",
   "execution_count": 18,
   "id": "88daa4f4",
   "metadata": {},
   "outputs": [
    {
     "data": {
      "text/plain": [
       "False    49694\n",
       "Name: product_id, dtype: int64"
      ]
     },
     "execution_count": 18,
     "metadata": {},
     "output_type": "execute_result"
    }
   ],
   "source": [
    "# Check for just duplicate product IDs\n",
    "dupe_product_ids = df_products['product_id'].duplicated()\n",
    "dupe_product_ids.value_counts()\n",
    "#all values returned by duplicated are False, so no duplicate product ids either"
   ]
  },
  {
   "cell_type": "code",
   "execution_count": 19,
   "id": "c773f0bf",
   "metadata": {},
   "outputs": [
    {
     "data": {
      "text/plain": [
       "False    48333\n",
       "True      1361\n",
       "Name: product_name, dtype: int64"
      ]
     },
     "execution_count": 19,
     "metadata": {},
     "output_type": "execute_result"
    }
   ],
   "source": [
    "# Check for just duplicate product names (convert names to lowercase to compare better)\n",
    "dupe_product_names = df_products['product_name'].str.lower().duplicated()\n",
    "dupe_product_names.value_counts()\n",
    "# same method as with the ids; this time we find 1361 duplicate product names."
   ]
  },
  {
   "cell_type": "code",
   "execution_count": 20,
   "id": "01efd02e",
   "metadata": {},
   "outputs": [
    {
     "data": {
      "text/plain": [
       "False    48332\n",
       "True       104\n",
       "Name: product_name, dtype: int64"
      ]
     },
     "execution_count": 20,
     "metadata": {},
     "output_type": "execute_result"
    }
   ],
   "source": [
    "# Check for duplicate product names that aren't missing\n",
    "product_names = df_products['product_name'].str.lower()\n",
    "#product_names.isna().sum()\n",
    "#isna().sum() counts 1258 missing values; this accounts for most but not all duplicates\n",
    "#product_names.value_counts(dropna=False)\n",
    "#this one confirms that all those values are just NaN\n",
    "product_names.dropna().duplicated().value_counts()\n",
    "#after dropna() there are 104 duplicate product names. "
   ]
  },
  {
   "cell_type": "markdown",
   "id": "9da8d293",
   "metadata": {},
   "source": [
    "The `products` data frame has no duplicate rows; however, some product names are duplicated. Most, but not all, of those duplicate names are missing values."
   ]
  },
  {
   "cell_type": "markdown",
   "id": "c1ae2e47",
   "metadata": {},
   "source": [
    "<div class=\"alert alert-success\"; style=\"border-left: 7px solid green\">\n",
    "<b>✅ Reviewer's comment, v. 1</b> \n",
    "    \n",
    "Excellent."
   ]
  },
  {
   "cell_type": "markdown",
   "id": "60f30db1",
   "metadata": {},
   "source": [
    "### `departments` data frame"
   ]
  },
  {
   "cell_type": "code",
   "execution_count": 21,
   "id": "fb410ad4-0fbf-4b80-bb09-23fdea79afe3",
   "metadata": {},
   "outputs": [
    {
     "name": "stdout",
     "output_type": "stream",
     "text": [
      "<class 'pandas.core.frame.DataFrame'>\n",
      "Int64Index: 0 entries\n",
      "Data columns (total 2 columns):\n",
      " #   Column         Non-Null Count  Dtype \n",
      "---  ------         --------------  ----- \n",
      " 0   department_id  0 non-null      int64 \n",
      " 1   department     0 non-null      object\n",
      "dtypes: int64(1), object(1)\n",
      "memory usage: 0.0+ bytes\n"
     ]
    }
   ],
   "source": [
    "# Check for fully duplicate rows\n",
    "df_dept[df_dept.duplicated()].info()\n",
    "#looks like none here"
   ]
  },
  {
   "cell_type": "code",
   "execution_count": 22,
   "id": "332b12bb",
   "metadata": {},
   "outputs": [
    {
     "data": {
      "text/plain": [
       "False    21\n",
       "Name: department, dtype: int64"
      ]
     },
     "execution_count": 22,
     "metadata": {},
     "output_type": "execute_result"
    }
   ],
   "source": [
    "#also gonna check for duplicate ids and names\n",
    "#df_dept['department_id'].duplicated().value_counts() #returns all false\n",
    "df_dept['department'].duplicated().value_counts() #also returns all false"
   ]
  },
  {
   "cell_type": "markdown",
   "id": "bd30d78e",
   "metadata": {},
   "source": [
    "The `departments` data frame seems to have no duplicates."
   ]
  },
  {
   "cell_type": "markdown",
   "id": "889349c1",
   "metadata": {},
   "source": [
    "### `aisles` data frame"
   ]
  },
  {
   "cell_type": "code",
   "execution_count": 23,
   "id": "9da89fb9-4679-40f5-ad0d-c34df753a3f8",
   "metadata": {},
   "outputs": [
    {
     "name": "stdout",
     "output_type": "stream",
     "text": [
      "<class 'pandas.core.frame.DataFrame'>\n",
      "Int64Index: 0 entries\n",
      "Data columns (total 2 columns):\n",
      " #   Column    Non-Null Count  Dtype \n",
      "---  ------    --------------  ----- \n",
      " 0   aisle_id  0 non-null      int64 \n",
      " 1   aisle     0 non-null      object\n",
      "dtypes: int64(1), object(1)\n",
      "memory usage: 0.0+ bytes\n"
     ]
    }
   ],
   "source": [
    "df_aisles[df_aisles.duplicated()].info()\n",
    "# no fully duplicate aisles"
   ]
  },
  {
   "cell_type": "code",
   "execution_count": 24,
   "id": "da7c2822",
   "metadata": {},
   "outputs": [
    {
     "data": {
      "text/plain": [
       "False    134\n",
       "Name: aisle_id, dtype: int64"
      ]
     },
     "execution_count": 24,
     "metadata": {},
     "output_type": "execute_result"
    }
   ],
   "source": [
    "#df_aisles['aisle'].duplicated().value_counts() #returns all false\n",
    "df_aisles['aisle_id'].duplicated().value_counts() #also all false"
   ]
  },
  {
   "cell_type": "markdown",
   "id": "ac63826f",
   "metadata": {},
   "source": [
    "The `aisles` data frame doesn't seem to have any duplicates."
   ]
  },
  {
   "cell_type": "markdown",
   "id": "3216ecae",
   "metadata": {},
   "source": [
    "<div class=\"alert alert-success\"; style=\"border-left: 7px solid green\">\n",
    "<b>✅ Reviewer's comment, v. 1</b> \n",
    "    \n",
    "No duplicatin in these two dataframes."
   ]
  },
  {
   "cell_type": "markdown",
   "id": "274cd06a",
   "metadata": {},
   "source": [
    "### `order_products` data frame"
   ]
  },
  {
   "cell_type": "code",
   "execution_count": 25,
   "id": "52326689-84a8-4b8f-a881-7c68780f62c9",
   "metadata": {},
   "outputs": [
    {
     "name": "stdout",
     "output_type": "stream",
     "text": [
      "<class 'pandas.core.frame.DataFrame'>\n",
      "Int64Index: 0 entries\n",
      "Data columns (total 4 columns):\n",
      " #   Column             Non-Null Count  Dtype  \n",
      "---  ------             --------------  -----  \n",
      " 0   order_id           0 non-null      int64  \n",
      " 1   product_id         0 non-null      int64  \n",
      " 2   add_to_cart_order  0 non-null      float64\n",
      " 3   reordered          0 non-null      int64  \n",
      "dtypes: float64(1), int64(3)\n",
      "memory usage: 0.0 bytes\n"
     ]
    }
   ],
   "source": [
    "# Check for fullly duplicate rows\n",
    "df_order_products[df_order_products.duplicated()].info()\n",
    "#no fully duplicate rows by the look of it"
   ]
  },
  {
   "cell_type": "code",
   "execution_count": 26,
   "id": "7b861391",
   "metadata": {},
   "outputs": [
    {
     "data": {
      "text/plain": [
       "False    4544241\n",
       "True         766\n",
       "dtype: int64"
      ]
     },
     "execution_count": 26,
     "metadata": {},
     "output_type": "execute_result"
    }
   ],
   "source": [
    "# Double check for any other tricky duplicates\n",
    "#it would make sense to look for duplicate order_ids; \n",
    "#product ids, add-to-cart order, and reordered all probably would have duplicates normally, so would be silly to check\n",
    "#df_order_products['order_id'].duplicated().value_counts()\n",
    "#by running that, I found a flaw in my understanding \n",
    "#most of these order ids are duplicates; that makes sense, actually, because any order with multiple products would cause that\n",
    "#what could be sketchy are rows where order_id and add_to_cart_order are duplicated\n",
    "#this would indicate that the items in the cart weren't correctly tracked\n",
    "\n",
    "df_order_products.duplicated(subset=['order_id', 'add_to_cart_order']).value_counts()\n",
    "#it looks like there are 766 instances of rows in the dataframe with duplicate order ids and add-to-cart orders\n",
    "#we can drop those duplicates with the 'subset=' parameter on drop_duplicates()\n",
    "#df_order_products = df_order_products.drop_duplicates(subset=['order_id', 'add_to_cart_order'])\n",
    "\n",
    "#however, I don't think it's correct to do that, because:\n",
    "#df_order_products['add_to_cart_order'].isna().sum()\n",
    "#it turns out that there are plenty of missing values in the add-to-cart order column!\n",
    "#since the initial duplicate check didn't call out these rows, it probably means they have different product ids"
   ]
  },
  {
   "cell_type": "markdown",
   "id": "0b890492",
   "metadata": {},
   "source": [
    "Based on the above findings, I don't believe `order_products` has any duplicates that are not explained by the missing values in `add_to_cart_order`."
   ]
  },
  {
   "cell_type": "markdown",
   "id": "6d21cb54",
   "metadata": {},
   "source": [
    "<div class=\"alert alert-success\"; style=\"border-left: 7px solid green\">\n",
    "<b>✅ Reviewer's comment, v. 1</b> \n",
    "    \n",
    "\n",
    "\n",
    "Well done. When checking for duplcates, we should not only target at full duplicates, but also check for the uniqueness of the combinations that should not be repeated. And you found a good combination to make the check. However, it's true, there are missing values in the `add_to_cart_order`, which are also considered duplicates.\n",
    "    \n",
    "You could also check the combination of `order_id` + `product_id`. \n",
    "    \n",
    "\n",
    "\n",
    "    \n",
    "<a class=\"tocSkip\"></a><s>\n"
   ]
  },
  {
   "cell_type": "markdown",
   "id": "c58a2354",
   "metadata": {},
   "source": [
    "<div class=\"alert alert-info\"; style=\"border-left: 7px solid blue\">Thanks! My logic for not considering order and product id together was that we don't have quantity data; if a single order contained the same product id multiple times, I figured that just meant that person ordered more than one of that item."
   ]
  },
  {
   "cell_type": "markdown",
   "id": "1e46de76",
   "metadata": {},
   "source": [
    "## Find and remove missing values\n"
   ]
  },
  {
   "cell_type": "markdown",
   "id": "c0aebd78",
   "metadata": {},
   "source": [
    "### `products` data frame"
   ]
  },
  {
   "cell_type": "code",
   "execution_count": 27,
   "id": "fe4a8b0f",
   "metadata": {},
   "outputs": [
    {
     "data": {
      "text/plain": [
       "product_id          0\n",
       "product_name     1258\n",
       "aisle_id            0\n",
       "department_id       0\n",
       "dtype: int64"
      ]
     },
     "execution_count": 27,
     "metadata": {},
     "output_type": "execute_result"
    }
   ],
   "source": [
    "#df_products.info()\n",
    "df_products.isna().sum()\n",
    "#1258 missing product names"
   ]
  },
  {
   "cell_type": "code",
   "execution_count": 28,
   "id": "e96167bc",
   "metadata": {},
   "outputs": [
    {
     "data": {
      "text/plain": [
       "100    1258\n",
       "Name: aisle_id, dtype: int64"
      ]
     },
     "execution_count": 28,
     "metadata": {},
     "output_type": "execute_result"
    }
   ],
   "source": [
    "# Are all of the missing product names associated with aisle ID 100?\n",
    "missing_products = df_products[df_products['product_name'].isna() == True]\n",
    "missing_products['aisle_id'].value_counts()\n",
    "#value_counts() finds that all of these rows have aisle ID 100; in short, yes."
   ]
  },
  {
   "cell_type": "code",
   "execution_count": 29,
   "id": "8fd0a541",
   "metadata": {},
   "outputs": [
    {
     "data": {
      "text/plain": [
       "21    1258\n",
       "Name: department_id, dtype: int64"
      ]
     },
     "execution_count": 29,
     "metadata": {},
     "output_type": "execute_result"
    }
   ],
   "source": [
    "# Are all of the missing product names associated with department ID 21?\n",
    "missing_products['department_id'].value_counts()\n",
    "#also yes; all results are department id 21"
   ]
  },
  {
   "cell_type": "code",
   "execution_count": 30,
   "id": "325c3464",
   "metadata": {},
   "outputs": [
    {
     "name": "stdout",
     "output_type": "stream",
     "text": [
      "    department_id department\n",
      "20             21    missing\n",
      "    aisle_id    aisle\n",
      "99       100  missing\n"
     ]
    },
    {
     "data": {
      "text/html": [
       "<div>\n",
       "<style scoped>\n",
       "    .dataframe tbody tr th:only-of-type {\n",
       "        vertical-align: middle;\n",
       "    }\n",
       "\n",
       "    .dataframe tbody tr th {\n",
       "        vertical-align: top;\n",
       "    }\n",
       "\n",
       "    .dataframe thead th {\n",
       "        text-align: right;\n",
       "    }\n",
       "</style>\n",
       "<table border=\"1\" class=\"dataframe\">\n",
       "  <thead>\n",
       "    <tr style=\"text-align: right;\">\n",
       "      <th></th>\n",
       "      <th>department_id</th>\n",
       "      <th>department</th>\n",
       "    </tr>\n",
       "  </thead>\n",
       "  <tbody>\n",
       "    <tr>\n",
       "      <th>16</th>\n",
       "      <td>17</td>\n",
       "      <td>household</td>\n",
       "    </tr>\n",
       "    <tr>\n",
       "      <th>17</th>\n",
       "      <td>18</td>\n",
       "      <td>babies</td>\n",
       "    </tr>\n",
       "    <tr>\n",
       "      <th>18</th>\n",
       "      <td>19</td>\n",
       "      <td>snacks</td>\n",
       "    </tr>\n",
       "    <tr>\n",
       "      <th>19</th>\n",
       "      <td>20</td>\n",
       "      <td>deli</td>\n",
       "    </tr>\n",
       "    <tr>\n",
       "      <th>20</th>\n",
       "      <td>21</td>\n",
       "      <td>missing</td>\n",
       "    </tr>\n",
       "  </tbody>\n",
       "</table>\n",
       "</div>"
      ],
      "text/plain": [
       "    department_id department\n",
       "16             17  household\n",
       "17             18     babies\n",
       "18             19     snacks\n",
       "19             20       deli\n",
       "20             21    missing"
      ]
     },
     "execution_count": 30,
     "metadata": {},
     "output_type": "execute_result"
    }
   ],
   "source": [
    "# What is this ailse and department?\n",
    "print(df_dept[df_dept['department_id']==21])\n",
    "print(df_aisles[df_aisles['aisle_id']==100])\n",
    "#both seem to be 'missing'\n",
    "df_dept.tail()\n",
    "#the tail happens to have dept_id 21, so printed that to double check"
   ]
  },
  {
   "cell_type": "code",
   "execution_count": 31,
   "id": "6b295120",
   "metadata": {},
   "outputs": [
    {
     "data": {
      "text/plain": [
       "Unknown                                   1258\n",
       "Women's Health Magazine                      1\n",
       "Vanilla Hempmilk                             1\n",
       "Reserve Cabernet Sauvignon Wine              1\n",
       "Jet Puffed Miniature Marshmallows            1\n",
       "                                          ... \n",
       "Classic Meatless Meatballs                   1\n",
       "Organic Fire Roasted Corn                    1\n",
       "All-Purpose Sauce- Kale Tahini               1\n",
       "Peanut Butter Chocolate Chip Ice Cream       1\n",
       "Ham Steak- Boneless- Honey Cured             1\n",
       "Name: product_name, Length: 48437, dtype: int64"
      ]
     },
     "execution_count": 31,
     "metadata": {},
     "output_type": "execute_result"
    }
   ],
   "source": [
    "# Fill missing product names with 'Unknown'\n",
    "df_products = df_products.fillna('Unknown')\n",
    "df_products['product_name'].value_counts()\n",
    "#looks good!"
   ]
  },
  {
   "cell_type": "markdown",
   "id": "fc70e5ad",
   "metadata": {},
   "source": [
    "Successfully replaced the missing product names with `'Unknown`' and also identified some missing values in other tables (to be fixed in later steps)."
   ]
  },
  {
   "cell_type": "markdown",
   "id": "31b0264b",
   "metadata": {},
   "source": [
    "<div class=\"alert alert-success\"; style=\"border-left: 7px solid green\">\n",
    "<b>✅ Reviewer's comment, v. 1</b> \n",
    "    \n",
    "All good."
   ]
  },
  {
   "cell_type": "markdown",
   "id": "7eb45c86",
   "metadata": {},
   "source": [
    "### `orders` data frame"
   ]
  },
  {
   "cell_type": "code",
   "execution_count": 32,
   "id": "93e41d96",
   "metadata": {
    "scrolled": false
   },
   "outputs": [
    {
     "name": "stdout",
     "output_type": "stream",
     "text": [
      "<class 'pandas.core.frame.DataFrame'>\n",
      "Int64Index: 478952 entries, 0 to 478966\n",
      "Data columns (total 6 columns):\n",
      " #   Column                  Non-Null Count   Dtype  \n",
      "---  ------                  --------------   -----  \n",
      " 0   order_id                478952 non-null  int64  \n",
      " 1   user_id                 478952 non-null  int64  \n",
      " 2   order_number            478952 non-null  int64  \n",
      " 3   order_dow               478952 non-null  int64  \n",
      " 4   order_hour_of_day       478952 non-null  int64  \n",
      " 5   days_since_prior_order  450135 non-null  float64\n",
      "dtypes: float64(1), int64(5)\n",
      "memory usage: 25.6 MB\n"
     ]
    }
   ],
   "source": [
    "df_orders.info()"
   ]
  },
  {
   "cell_type": "code",
   "execution_count": 33,
   "id": "166e5a86",
   "metadata": {},
   "outputs": [],
   "source": [
    "# Are there any missing values where it's not a customer's first order?\n",
    "#print(df_orders.isna().sum())\n",
    "#seems like the only field with missing values is days_since_prior_order\n",
    "#this doesn't rule out that some of those values are actually missing, rather than just an artifact of first-timers\n",
    "#df_orders['user_id'].nunique() returns 157437 unique user ids,\n",
    "#whereas there are only 28817 missing values in days_since_prior_order\n",
    "#that's around 18% of users who could be affected\n",
    "\n",
    "#to find out, one way is use duplicated() to find only the rows with duplicate user ids, then check those\n",
    "\n",
    "#returning_orders = df_orders[df_orders['user_id'].duplicated() == True]\n",
    "#print(returning_orders['days_since_prior_order'].isna().sum()) \n",
    "#14005 missing values, all of whom are from users who have ordered before\n",
    "#a big assumption to note: if order_ids do not represent orders chronologically,\n",
    "#then it could be that those missing values are supposed to be there after all. Doubtful, but would rather make note of it.\n",
    "\n",
    "#print(df_orders.describe())\n",
    "#df_orders.dropna().describe()\n",
    "#I think the best way to handle those values may be to fill in the median\n",
    "#I don't expect this to change the distribution much, as 14005 orders out of 478952 is a mere 3%\n",
    "#and it looks like some outliers may exist; the mean is far from the median, and the max is double the 75th percentile\n",
    "\n",
    "#median = returning_orders['days_since_prior_order'].median()\n",
    "#returning_orders['days_since_prior_order'] = returning_orders['days_since_prior_order'].fillna(value=median)\n",
    "\n",
    "#combine_first() lets us fill missing values from df_orders using the ones from returning_orders\n",
    "#any value that already exists is unaffected\n",
    "#df_orders starts with 450135 non-null entries in days_since_prior_order\n",
    "#df_orders = df_orders.combine_first(returning_orders)\n",
    "#df_orders.info() \n",
    "#after combining in the filled values, df_orders has 464140, a difference of 14005. looks like it went according to plan!"
   ]
  },
  {
   "cell_type": "markdown",
   "id": "4ef2fd98",
   "metadata": {},
   "source": [
    "<div class=\"alert alert-warning\"; style=\"border-left: 7px solid gold\">\n",
    "<b>⚠️ Reviewer's comment, v. 2</b> \n",
    "\n",
    "\n",
    "In many cases, this warning doesn’t indicate an error but rather a potential issue. If you’re confident that the modifications were applied correctly, you can continue with the code. \n",
    "    \n",
    "    \n",
    "[You can read more about this warning here](https://www.dataquest.io/blog/settingwithcopywarning/).\n",
    "    \n",
    "So if you are sure that everything works fine you can turn off the warning by importing this code in the beginning of the project together with the libraries:\n",
    "    \n",
    " \n",
    "    import warnings\n",
    "    \n",
    "    warnings.filterwarnings(action='ignore')"
   ]
  },
  {
   "cell_type": "markdown",
   "id": "c24e79a4",
   "metadata": {},
   "source": [
    "<div class=\"alert alert-info\"; style=\"border-left: 7px solid blue\">In this case I actually did catch a serious error, though I don't think it was due to chained indexing/assignment. I forget the exact nature of what happened (it was related to `fillna`), but I fixed it.<br>\n",
    "\n",
    "I'm fairly confident I did what I set out to do correctly here, irrespective of the below comment pointing out a much smarter way to go about things."
   ]
  },
  {
   "cell_type": "markdown",
   "id": "f63f388e",
   "metadata": {},
   "source": [
    "<div class=\"alert alert-success\"; style=\"border-left: 7px solid green\">\n",
    "<b>✅ Reviewer's comment, v. 2</b> \n",
    "    \n",
    "✔️ Well done. Now, we found out the nature of the missing values, and you are right, they all make sense.\n",
    "    \n",
    "\n",
    "\n",
    "<div class=\"alert alert-danger\"; style=\"border-left: 7px solid red\">\n",
    "<b>⛔️ Reviewer's comment, v. 1</b> \n",
    "\n",
    "\n",
    "Customer's first order is the order with order number 1. Could you please check again, whether all the missing values in days_since_prior_order are attributed the customers' first orders? And please re-consider filling in the missing values.\n",
    "</div>\n"
   ]
  },
  {
   "cell_type": "markdown",
   "id": "64016a48",
   "metadata": {},
   "source": [
    "<div class=\"alert alert-info\"; style=\"border-left: 7px solid blue\">OH! I did not know/realize order number was customer-specific. That makes way more sense. I'll redo that; I'll comment out the previous cell, though I'll leave it in for the sake of future review. My second attempt will go in a cell below this one."
   ]
  },
  {
   "cell_type": "code",
   "execution_count": 34,
   "id": "2380cb48",
   "metadata": {},
   "outputs": [
    {
     "name": "stdout",
     "output_type": "stream",
     "text": [
      "order_id                      0\n",
      "user_id                       0\n",
      "order_number                  0\n",
      "order_dow                     0\n",
      "order_hour_of_day             0\n",
      "days_since_prior_order    28817\n",
      "dtype: int64\n",
      "order_id                      0\n",
      "user_id                       0\n",
      "order_number                  0\n",
      "order_dow                     0\n",
      "order_hour_of_day             0\n",
      "days_since_prior_order    28817\n",
      "dtype: int64\n"
     ]
    },
    {
     "data": {
      "text/plain": [
       "count    450135.000000\n",
       "mean         11.101814\n",
       "std           9.190004\n",
       "min           0.000000\n",
       "25%           4.000000\n",
       "50%           7.000000\n",
       "75%          15.000000\n",
       "max          30.000000\n",
       "Name: days_since_prior_order, dtype: float64"
      ]
     },
     "execution_count": 34,
     "metadata": {},
     "output_type": "execute_result"
    }
   ],
   "source": [
    "# Are there any missing values where it's not a customer's first order?\n",
    "\n",
    "#customer first orders have order_number==1\n",
    "print(df_orders.isna().sum())\n",
    "print(df_orders[df_orders['order_number']==1].isna().sum())\n",
    "#all 28817 missing values happen when it's a customer's first order. \n",
    "#Those values are in days_since_prior_order, which makes sense\n",
    "\n",
    "df_orders['days_since_prior_order'].describe()"
   ]
  },
  {
   "cell_type": "markdown",
   "id": "4e23d089",
   "metadata": {},
   "source": [
    "~With the above caveat out of the way, there are no missing values here except in `days_since_prior_order`. First time customers should be expected to have a missing value here. About 14005 orders have missing values from customers who had already ordered; these were filled in based on the median value a returning customer had there. (Customers who have a value here even for their first order probably had placed orders prior to the time window our data describes.)~\n",
    "\n",
    "###### V2 summary\n",
    "\n",
    "The only missing values here are in days_since_prior_order. Since all of those values are associated with first-time orders, that makes perfect sense--there is no prior order to count the days from! For the moment, I'm not going to fill those values in, but if I do decide to do that, -1 seems like the most reasonable thing to put there--any zero-or-higher value could be misinterpreted, but \"negative days\" is a harder idea to take at face value!"
   ]
  },
  {
   "cell_type": "markdown",
   "id": "69dc9ca4",
   "metadata": {},
   "source": [
    "### `order_products` data frame"
   ]
  },
  {
   "cell_type": "code",
   "execution_count": 35,
   "id": "b8240253",
   "metadata": {},
   "outputs": [
    {
     "name": "stdout",
     "output_type": "stream",
     "text": [
      "<class 'pandas.core.frame.DataFrame'>\n",
      "RangeIndex: 4545007 entries, 0 to 4545006\n",
      "Data columns (total 4 columns):\n",
      " #   Column             Dtype  \n",
      "---  ------             -----  \n",
      " 0   order_id           int64  \n",
      " 1   product_id         int64  \n",
      " 2   add_to_cart_order  float64\n",
      " 3   reordered          int64  \n",
      "dtypes: float64(1), int64(3)\n",
      "memory usage: 138.7 MB\n"
     ]
    }
   ],
   "source": [
    "df_order_products.info()"
   ]
  },
  {
   "cell_type": "code",
   "execution_count": 36,
   "id": "9a78e5ee",
   "metadata": {},
   "outputs": [
    {
     "name": "stdout",
     "output_type": "stream",
     "text": [
      "order_id             4.0\n",
      "product_id           1.0\n",
      "add_to_cart_order    1.0\n",
      "reordered            0.0\n",
      "dtype: float64\n"
     ]
    },
    {
     "data": {
      "text/plain": [
       "order_id             3421079.0\n",
       "product_id             49694.0\n",
       "add_to_cart_order         64.0\n",
       "reordered                  1.0\n",
       "dtype: float64"
      ]
     },
     "execution_count": 36,
     "metadata": {},
     "output_type": "execute_result"
    }
   ],
   "source": [
    "# What are the min and max values in this column?\n",
    "#in which column? guess I'll check all of them\n",
    "print(df_order_products.min()) \n",
    "df_order_products.max()\n",
    "\n",
    "#I guess the only particularly meaningful one is add_to_cart_order, where the values run from 1 to 64"
   ]
  },
  {
   "cell_type": "code",
   "execution_count": 37,
   "id": "ab9d0c2b",
   "metadata": {},
   "outputs": [
    {
     "name": "stdout",
     "output_type": "stream",
     "text": [
      "<class 'pandas.core.frame.DataFrame'>\n",
      "Int64Index: 836 entries, 737 to 4535739\n",
      "Data columns (total 4 columns):\n",
      " #   Column             Non-Null Count  Dtype  \n",
      "---  ------             --------------  -----  \n",
      " 0   order_id           836 non-null    int64  \n",
      " 1   product_id         836 non-null    int64  \n",
      " 2   add_to_cart_order  0 non-null      float64\n",
      " 3   reordered          836 non-null    int64  \n",
      "dtypes: float64(1), int64(3)\n",
      "memory usage: 32.7 KB\n"
     ]
    }
   ],
   "source": [
    "# Save all order IDs with at least one missing value in 'add_to_cart_order'\n",
    "df_order_products.isna().sum() #836 missing values in that column, no other columns have missing values\n",
    "op_missing_cart_orders = df_order_products[df_order_products['add_to_cart_order'].isna()]\n",
    "\n",
    "op_missing_cart_orders.info() #looks right"
   ]
  },
  {
   "cell_type": "code",
   "execution_count": 38,
   "id": "54c31695",
   "metadata": {},
   "outputs": [
    {
     "name": "stdout",
     "output_type": "stream",
     "text": [
      "70\n"
     ]
    },
    {
     "data": {
      "text/html": [
       "<div>\n",
       "<style scoped>\n",
       "    .dataframe tbody tr th:only-of-type {\n",
       "        vertical-align: middle;\n",
       "    }\n",
       "\n",
       "    .dataframe tbody tr th {\n",
       "        vertical-align: top;\n",
       "    }\n",
       "\n",
       "    .dataframe thead th {\n",
       "        text-align: right;\n",
       "    }\n",
       "</style>\n",
       "<table border=\"1\" class=\"dataframe\">\n",
       "  <thead>\n",
       "    <tr style=\"text-align: right;\">\n",
       "      <th></th>\n",
       "      <th>product_id</th>\n",
       "    </tr>\n",
       "    <tr>\n",
       "      <th>order_id</th>\n",
       "      <th></th>\n",
       "    </tr>\n",
       "  </thead>\n",
       "  <tbody>\n",
       "  </tbody>\n",
       "</table>\n",
       "</div>"
      ],
      "text/plain": [
       "Empty DataFrame\n",
       "Columns: [product_id]\n",
       "Index: []"
      ]
     },
     "execution_count": 38,
     "metadata": {},
     "output_type": "execute_result"
    }
   ],
   "source": [
    "# Do all orders with missing values have more than 64 products?\n",
    "print(op_missing_cart_orders['order_id'].nunique()) # 70 unique order ids to check\n",
    "\n",
    "ids = op_missing_cart_orders['order_id'].unique()\n",
    "mystery_order_sizes = df_order_products.query(\"order_id in @ids\").groupby('order_id')['product_id'].count()\n",
    "#we now have a Series showing the number of products in each order\n",
    "\n",
    "#if this data frame is empty, then the answer to the original question is 'yes'\n",
    "small_mystery_orders = mystery_order_sizes.to_frame().query('product_id <= 64')\n",
    "small_mystery_orders.head()\n",
    "#since small_mystery_orders is empty, every order with missing values is one with more than 64 items."
   ]
  },
  {
   "cell_type": "markdown",
   "id": "5307b3b5",
   "metadata": {},
   "source": [
    "<div class=\"alert alert-success\"; style=\"border-left: 7px solid green\">\n",
    "<b>✅ Reviewer's comment, v. 1</b> \n",
    "    \n",
    "You are right.\n",
    "   \n",
    "And we also checked before and saw that in the dataset the maximum add-to-cart-order number is 64. \n",
    " \n",
    "So, it looks like there is a problem of assigning an add-to-cart-order number if the item is added to the cart after 64th. Probably, it is some technical issue. "
   ]
  },
  {
   "cell_type": "code",
   "execution_count": 39,
   "id": "7a987d08",
   "metadata": {},
   "outputs": [
    {
     "name": "stdout",
     "output_type": "stream",
     "text": [
      "<class 'pandas.core.frame.DataFrame'>\n",
      "RangeIndex: 4545007 entries, 0 to 4545006\n",
      "Data columns (total 4 columns):\n",
      " #   Column             Dtype\n",
      "---  ------             -----\n",
      " 0   order_id           int64\n",
      " 1   product_id         int64\n",
      " 2   add_to_cart_order  int64\n",
      " 3   reordered          int64\n",
      "dtypes: int64(4)\n",
      "memory usage: 138.7 MB\n"
     ]
    },
    {
     "data": {
      "text/plain": [
       "order_id             0\n",
       "product_id           0\n",
       "add_to_cart_order    0\n",
       "reordered            0\n",
       "dtype: int64"
      ]
     },
     "execution_count": 39,
     "metadata": {},
     "output_type": "execute_result"
    }
   ],
   "source": [
    "# Replace missing values with 999 and convert column to integer type\n",
    "df_order_products['add_to_cart_order'] = df_order_products['add_to_cart_order'].fillna(999).astype('int')\n",
    "\n",
    "df_order_products.info() #confirms that the column is now int64\n",
    "df_order_products.isna().sum() #confirms that the missing values are filled"
   ]
  },
  {
   "cell_type": "markdown",
   "id": "fea4bcc7",
   "metadata": {},
   "source": [
    "We found missing values in `add_to_cart_order` in the order products data frame; all of them were from orders with over 64 items, so we filled them with 999."
   ]
  },
  {
   "cell_type": "markdown",
   "id": "turkish-kidney",
   "metadata": {},
   "source": [
    "# [A] Easy (must complete all to pass)"
   ]
  },
  {
   "cell_type": "markdown",
   "id": "short-capability",
   "metadata": {},
   "source": [
    "### [A1] Verify that the `'order_hour_of_day'` and `'order_dow'` values in the `orders` tables are sensible (i.e. `'order_hour_of_day'` ranges from 0 to 23 and `'order_dow'` ranges from 0 to 6)"
   ]
  },
  {
   "cell_type": "code",
   "execution_count": 40,
   "id": "growing-fruit",
   "metadata": {},
   "outputs": [
    {
     "name": "stdout",
     "output_type": "stream",
     "text": [
      "0\n",
      "23\n"
     ]
    }
   ],
   "source": [
    "print(df_orders['order_hour_of_day'].min()) #0.0\n",
    "print(df_orders['order_hour_of_day'].max()) #23.0"
   ]
  },
  {
   "cell_type": "code",
   "execution_count": 41,
   "id": "accessory-malaysia",
   "metadata": {},
   "outputs": [
    {
     "name": "stdout",
     "output_type": "stream",
     "text": [
      "0\n",
      "6\n"
     ]
    }
   ],
   "source": [
    "print(df_orders['order_dow'].min()) #0.0\n",
    "print(df_orders['order_dow'].max()) #6.0"
   ]
  },
  {
   "cell_type": "markdown",
   "id": "a6743a70",
   "metadata": {},
   "source": [
    "### [A2] What time of day do people shop for groceries?"
   ]
  },
  {
   "cell_type": "code",
   "execution_count": 42,
   "id": "a36cca27",
   "metadata": {},
   "outputs": [
    {
     "data": {
      "image/png": "[encoded data removed]",
      "text/plain": [
       "<Figure size 900x400 with 1 Axes>"
      ]
     },
     "metadata": {},
     "output_type": "display_data"
    }
   ],
   "source": [
    "hours = df_orders['order_hour_of_day'].value_counts().sort_index()\n",
    "hours.index = ['12am', '1am', '2am', '3am', '4am', '5am', '6am', '7am', '8am', '9am', '10am', '11am', \n",
    "              '12pm', '1pm', '2pm', '3pm', '4pm', '5pm', '6pm', '7pm', '8pm', '9pm', '10pm', '11pm']\n",
    "#wonder if there's a function for this already? will worry about it some other time\n",
    "\n",
    "hours.plot(title='Orders by Hour',\n",
    "         xlabel='Time',\n",
    "          ylabel ='Order Count',\n",
    "          kind = 'bar',\n",
    "         rot = 40,\n",
    "         figsize = [9,4])\n",
    "\n",
    "plt.show()"
   ]
  },
  {
   "cell_type": "markdown",
   "id": "11270eed",
   "metadata": {},
   "source": [
    "As you can see, the highest concentration of orders is from roughly 9am to 5pm, with almost no orders happening from midnight to 7am."
   ]
  },
  {
   "cell_type": "markdown",
   "id": "01528dee",
   "metadata": {},
   "source": [
    "<div class=\"alert alert-success\"; style=\"border-left: 7px solid green\">\n",
    "<b>✅ Reviewer's comment, v. 1</b> \n",
    "    \n",
    "You've plotted an excellent chart with all required elements - a title, axes labels, scales. And made correct conclusions from it."
   ]
  },
  {
   "cell_type": "markdown",
   "id": "documented-command",
   "metadata": {},
   "source": [
    "### [A3] What day of the week do people shop for groceries?"
   ]
  },
  {
   "cell_type": "code",
   "execution_count": 43,
   "id": "chief-digit",
   "metadata": {
    "scrolled": false
   },
   "outputs": [
    {
     "data": {
      "image/png": "[encoded data removed]",
      "text/plain": [
       "<Figure size 900x500 with 1 Axes>"
      ]
     },
     "metadata": {},
     "output_type": "display_data"
    }
   ],
   "source": [
    "dow = df_orders['order_dow'].value_counts().sort_index() \\\n",
    "\n",
    "dow.index = ['Sunday', 'Monday', 'Tuesday', 'Wednesday', 'Thursday', 'Friday', 'Saturday']\n",
    "dow.plot(title='Orders by Day of Week',\n",
    "         xlabel='Day of Week',\n",
    "          ylabel ='Order Count',\n",
    "          kind = 'bar',\n",
    "         rot = 40,\n",
    "         figsize = [9,5])\n",
    "\n",
    "plt.show()"
   ]
  },
  {
   "cell_type": "code",
   "execution_count": 44,
   "id": "4e059e1b",
   "metadata": {},
   "outputs": [
    {
     "data": {
      "text/plain": [
       "0.4059521819093797"
      ]
     },
     "execution_count": 44,
     "metadata": {},
     "output_type": "execute_result"
    }
   ],
   "source": [
    "(dow.max() - dow.min()) / dow.min()"
   ]
  },
  {
   "cell_type": "markdown",
   "id": "dominant-lightning",
   "metadata": {},
   "source": [
    "It seems as though shoppers favor Sunday and Monday over the rest of the week. The strongest shopping day (Sunday) sees about 40% more orders than the weakest shopping day (Thursday)."
   ]
  },
  {
   "cell_type": "markdown",
   "id": "aafc9b91",
   "metadata": {},
   "source": [
    "<div class=\"alert alert-success\"; style=\"border-left: 7px solid green\">\n",
    "<b>✅ Reviewer's comment, v. 1</b> \n",
    "    \n",
    "Good"
   ]
  },
  {
   "cell_type": "markdown",
   "id": "cutting-concert",
   "metadata": {},
   "source": [
    "### [A4] How long do people wait until placing another order?"
   ]
  },
  {
   "cell_type": "code",
   "execution_count": 45,
   "id": "c231f523",
   "metadata": {},
   "outputs": [
    {
     "data": {
      "image/png": "[encoded data removed]",
      "text/plain": [
       "<Figure size 1000x400 with 1 Axes>"
      ]
     },
     "metadata": {},
     "output_type": "display_data"
    }
   ],
   "source": [
    "wait = df_orders['days_since_prior_order'].dropna().astype('int').value_counts().sort_index()\n",
    "\n",
    "wait.plot(title='Days until Next Order',\n",
    "         xlabel='Number of Days',\n",
    "          ylabel ='Order Count',\n",
    "          kind = 'bar',\n",
    "         rot = 40,\n",
    "         figsize = [10,4])\n",
    "\n",
    "plt.show()"
   ]
  },
  {
   "cell_type": "markdown",
   "id": "discrete-vertex",
   "metadata": {},
   "source": [
    "It appears that many people place orders weekly. Note that I chose to replace about 14000 missing values with 7 in a previous step, so the spike may not be quite as extreme as it appears. If a customer doesn't reorder in about 7 or 8 days, there's a steep drop off, though other multiples of 7 also tend to have slightly more orders than adjacent days (i.e. some people order biweekly). \n",
    "\n",
    "There is also a huge spike at 30, but as that is the upper limit of the data given, I am assuming that means *at least* thirty days, covering wide swaths of customers who only order on rare occasions. I would consider it an outlier.\n",
    "\n",
    "It's also interesting that some amount of orders happen zero days after the previous order--i.e. on the same day. It's about as common as someone reordering 15 days out. "
   ]
  },
  {
   "cell_type": "code",
   "execution_count": 46,
   "id": "exciting-fantasy",
   "metadata": {},
   "outputs": [
    {
     "name": "stdout",
     "output_type": "stream",
     "text": [
      "0.31417547165578663\n"
     ]
    },
    {
     "data": {
      "text/plain": [
       "0.9010315355142942"
      ]
     },
     "execution_count": 46,
     "metadata": {},
     "output_type": "execute_result"
    }
   ],
   "source": [
    "print(1 - ((wait.loc[7] - 14005) / wait.loc[7])) # about 23.9%\n",
    "\n",
    "(wait.loc[7] - 14005) / wait.loc[6]"
   ]
  },
  {
   "cell_type": "markdown",
   "id": "8d926614",
   "metadata": {},
   "source": [
    "*Note that after instructor review, I chose not to fill the missing data after all; I'll leave this section in, but it's not particularly meaningful now, and the chart afterwards is even less so.*\n",
    "\n",
    "I was wondering how my previous choice to fill in some missing data would affect this chart.\n",
    "\n",
    "The 14005 missing values I filled in account for about 23.9% of all entries in which a reorder happened in exactly 7 days. Even if I had chosen to remove those values, those entries would still dwarf the next most frequent days-since-prior-order value (6) by over 30%.\n",
    "\n",
    "Here's what the chart would look like in that case:"
   ]
  },
  {
   "cell_type": "code",
   "execution_count": 47,
   "id": "ebcffa52",
   "metadata": {},
   "outputs": [
    {
     "data": {
      "image/png": "[encoded data removed]",
      "text/plain": [
       "<Figure size 1000x400 with 1 Axes>"
      ]
     },
     "metadata": {},
     "output_type": "display_data"
    }
   ],
   "source": [
    "wait.loc[7] = wait.loc[7] - 14005\n",
    "\n",
    "wait.plot(title='Days until Next Order (Alternate Treatment of Missing Data)',\n",
    "         xlabel='Number of Days',\n",
    "          ylabel ='Order Count',\n",
    "          kind = 'bar',\n",
    "         rot = 40,\n",
    "         figsize = [10,4])\n",
    "plt.show()"
   ]
  },
  {
   "cell_type": "markdown",
   "id": "d1ef66e6",
   "metadata": {},
   "source": [
    "<div class=\"alert alert-success\"; style=\"border-left: 7px solid green\">\n",
    "<b>✅ Reviewer's comment, v. 1</b> \n",
    "    \n",
    "Excellent chart and the analysis."
   ]
  },
  {
   "cell_type": "markdown",
   "id": "tight-staff",
   "metadata": {},
   "source": [
    "# [B] Medium (must complete all to pass)"
   ]
  },
  {
   "cell_type": "markdown",
   "id": "packed-classic",
   "metadata": {},
   "source": [
    "### [B1] Is there a difference in `'order_hour_of_day'` distributions on Wednesdays and Saturdays? Plot the histograms for both days and describe the differences that you see."
   ]
  },
  {
   "cell_type": "code",
   "execution_count": 48,
   "id": "d89b8403",
   "metadata": {},
   "outputs": [
    {
     "data": {
      "image/png": "[encoded data removed]",
      "text/plain": [
       "<Figure size 640x480 with 1 Axes>"
      ]
     },
     "metadata": {},
     "output_type": "display_data"
    }
   ],
   "source": [
    "wed_orders = df_orders[df_orders['order_dow'] == 3]\n",
    "sat_orders = df_orders[df_orders['order_dow'] == 6]\n",
    "\n",
    "wed_orders['order_hour_of_day'].plot(title='Order Times (Wednesday vs. Saturday)',\n",
    "               kind='hist',\n",
    "               bins=24,\n",
    "               ylabel='Frequency',\n",
    "               alpha=1)\n",
    "\n",
    "sat_orders['order_hour_of_day'].plot(kind='hist', bins=24, alpha = 0.4)\n",
    "\n",
    "plt.legend(['Wednesday', 'Saturday'])\n",
    "\n",
    "plt.show()"
   ]
  },
  {
   "cell_type": "markdown",
   "id": "c724b812",
   "metadata": {},
   "source": [
    "Based on the histogram, the most notable difference is that Saturday experiences more demand in the middle of the day. There's also a slight increase in demand for late-night orders on Saturdays. "
   ]
  },
  {
   "cell_type": "markdown",
   "id": "e93a7f24",
   "metadata": {},
   "source": [
    "<div class=\"alert alert-success\"; style=\"border-left: 7px solid green\">\n",
    "<b>✅ Reviewer's comment, v. 1</b> \n",
    "    \n",
    "You are absolutely right."
   ]
  },
  {
   "cell_type": "code",
   "execution_count": null,
   "id": "35bcea30",
   "metadata": {},
   "outputs": [],
   "source": []
  },
  {
   "cell_type": "markdown",
   "id": "charitable-congo",
   "metadata": {},
   "source": []
  },
  {
   "cell_type": "markdown",
   "id": "e3891143",
   "metadata": {},
   "source": [
    "### [B2] What's the distribution for the number of orders per customer?"
   ]
  },
  {
   "cell_type": "code",
   "execution_count": 49,
   "id": "d8c26c23",
   "metadata": {},
   "outputs": [
    {
     "data": {
      "image/png": "[encoded data removed]",
      "text/plain": [
       "<Figure size 640x480 with 1 Axes>"
      ]
     },
     "metadata": {},
     "output_type": "display_data"
    }
   ],
   "source": [
    "orders_per_customer = df_orders.groupby('user_id').count() #shows how many instances of a user_id are in the df\n",
    "\n",
    "orders_per_customer['order_id'].plot(kind='hist', bins = 28,\n",
    "                                    logy=False)\n",
    "#The distribution overwhelmingly shows most customers make at most three orders. \n",
    "#A small number of users have ordered as many as 28 times.\n",
    "#If logy=True, the smaller bars are easier to read, but I felt this made the larger bars deceptive.\n",
    "plt.show()"
   ]
  },
  {
   "cell_type": "markdown",
   "id": "def70f86",
   "metadata": {},
   "source": [
    "<div class=\"alert alert-success\"; style=\"border-left: 7px solid green\">\n",
    "<b>✅ Reviewer's comment, v. 2</b> \n",
    "    \n",
    "✔️ \n",
    "    \n",
    "\n",
    "\n",
    "<div class=\"alert alert-warning\"; style=\"border-left: 7px solid gold\">\n",
    "<b>⚠️ Reviewer's comment, v. 1</b> \n",
    "\n",
    "Please do not forget to use `plt.show()` - this will remove the technocal lines above.\n",
    "    \n",
    "---\n",
    "    \n",
    "You are right - you don't need to logariphmic scale here. The charts with logariphmic scale are not easy to read."
   ]
  },
  {
   "cell_type": "markdown",
   "id": "a749957c",
   "metadata": {},
   "source": [
    "<div class=\"alert alert-info\"; style=\"border-left: 7px solid blue\">Added!"
   ]
  },
  {
   "cell_type": "code",
   "execution_count": 50,
   "id": "00e69a66",
   "metadata": {},
   "outputs": [
    {
     "data": {
      "text/plain": [
       "count    157437.000000\n",
       "mean          3.042182\n",
       "std           2.746842\n",
       "min           1.000000\n",
       "25%           1.000000\n",
       "50%           2.000000\n",
       "75%           4.000000\n",
       "max          28.000000\n",
       "Name: order_id, dtype: float64"
      ]
     },
     "execution_count": 50,
     "metadata": {},
     "output_type": "execute_result"
    }
   ],
   "source": [
    "orders_per_customer['order_id'].describe()"
   ]
  },
  {
   "cell_type": "markdown",
   "id": "d2eff7d5",
   "metadata": {},
   "source": [
    "The vast majority of customers only order a small number of times, with the median customer only ordering twice and the 75th percentile customer only ordering four times. The most orders by a single customer in this data is 28."
   ]
  },
  {
   "cell_type": "markdown",
   "id": "54a0319c",
   "metadata": {},
   "source": [
    "### [B3] What are the top 20 popular products (display their id and name)?"
   ]
  },
  {
   "cell_type": "code",
   "execution_count": 51,
   "id": "exterior-arizona",
   "metadata": {
    "scrolled": false
   },
   "outputs": [
    {
     "data": {
      "text/html": [
       "<div>\n",
       "<style scoped>\n",
       "    .dataframe tbody tr th:only-of-type {\n",
       "        vertical-align: middle;\n",
       "    }\n",
       "\n",
       "    .dataframe tbody tr th {\n",
       "        vertical-align: top;\n",
       "    }\n",
       "\n",
       "    .dataframe thead th {\n",
       "        text-align: right;\n",
       "    }\n",
       "</style>\n",
       "<table border=\"1\" class=\"dataframe\">\n",
       "  <thead>\n",
       "    <tr style=\"text-align: right;\">\n",
       "      <th></th>\n",
       "      <th>product_id</th>\n",
       "      <th>product_name</th>\n",
       "      <th>times_ordered</th>\n",
       "    </tr>\n",
       "  </thead>\n",
       "  <tbody>\n",
       "    <tr>\n",
       "      <th>5875</th>\n",
       "      <td>5876</td>\n",
       "      <td>Organic Lemon</td>\n",
       "      <td>12232</td>\n",
       "    </tr>\n",
       "    <tr>\n",
       "      <th>8276</th>\n",
       "      <td>8277</td>\n",
       "      <td>Apple Honeycrisp Organic</td>\n",
       "      <td>11993</td>\n",
       "    </tr>\n",
       "    <tr>\n",
       "      <th>13175</th>\n",
       "      <td>13176</td>\n",
       "      <td>Bag of Organic Bananas</td>\n",
       "      <td>53297</td>\n",
       "    </tr>\n",
       "    <tr>\n",
       "      <th>16796</th>\n",
       "      <td>16797</td>\n",
       "      <td>Strawberries</td>\n",
       "      <td>20018</td>\n",
       "    </tr>\n",
       "    <tr>\n",
       "      <th>21136</th>\n",
       "      <td>21137</td>\n",
       "      <td>Organic Strawberries</td>\n",
       "      <td>37039</td>\n",
       "    </tr>\n",
       "    <tr>\n",
       "      <th>21902</th>\n",
       "      <td>21903</td>\n",
       "      <td>Organic Baby Spinach</td>\n",
       "      <td>33971</td>\n",
       "    </tr>\n",
       "    <tr>\n",
       "      <th>22934</th>\n",
       "      <td>22935</td>\n",
       "      <td>Organic Yellow Onion</td>\n",
       "      <td>15898</td>\n",
       "    </tr>\n",
       "    <tr>\n",
       "      <th>24851</th>\n",
       "      <td>24852</td>\n",
       "      <td>Banana</td>\n",
       "      <td>66050</td>\n",
       "    </tr>\n",
       "    <tr>\n",
       "      <th>24963</th>\n",
       "      <td>24964</td>\n",
       "      <td>Organic Garlic</td>\n",
       "      <td>15292</td>\n",
       "    </tr>\n",
       "    <tr>\n",
       "      <th>26208</th>\n",
       "      <td>26209</td>\n",
       "      <td>Limes</td>\n",
       "      <td>19690</td>\n",
       "    </tr>\n",
       "    <tr>\n",
       "      <th>27844</th>\n",
       "      <td>27845</td>\n",
       "      <td>Organic Whole Milk</td>\n",
       "      <td>19600</td>\n",
       "    </tr>\n",
       "    <tr>\n",
       "      <th>27965</th>\n",
       "      <td>27966</td>\n",
       "      <td>Organic Raspberries</td>\n",
       "      <td>19197</td>\n",
       "    </tr>\n",
       "    <tr>\n",
       "      <th>28203</th>\n",
       "      <td>28204</td>\n",
       "      <td>Organic Fuji Apple</td>\n",
       "      <td>12544</td>\n",
       "    </tr>\n",
       "    <tr>\n",
       "      <th>39274</th>\n",
       "      <td>39275</td>\n",
       "      <td>Organic Blueberries</td>\n",
       "      <td>13879</td>\n",
       "    </tr>\n",
       "    <tr>\n",
       "      <th>40705</th>\n",
       "      <td>40706</td>\n",
       "      <td>Organic Grape Tomatoes</td>\n",
       "      <td>11781</td>\n",
       "    </tr>\n",
       "    <tr>\n",
       "      <th>45006</th>\n",
       "      <td>45007</td>\n",
       "      <td>Organic Zucchini</td>\n",
       "      <td>14584</td>\n",
       "    </tr>\n",
       "    <tr>\n",
       "      <th>47208</th>\n",
       "      <td>47209</td>\n",
       "      <td>Organic Hass Avocado</td>\n",
       "      <td>29773</td>\n",
       "    </tr>\n",
       "    <tr>\n",
       "      <th>47625</th>\n",
       "      <td>47626</td>\n",
       "      <td>Large Lemon</td>\n",
       "      <td>21495</td>\n",
       "    </tr>\n",
       "    <tr>\n",
       "      <th>47765</th>\n",
       "      <td>47766</td>\n",
       "      <td>Organic Avocado</td>\n",
       "      <td>24689</td>\n",
       "    </tr>\n",
       "    <tr>\n",
       "      <th>49682</th>\n",
       "      <td>49683</td>\n",
       "      <td>Cucumber Kirby</td>\n",
       "      <td>13675</td>\n",
       "    </tr>\n",
       "  </tbody>\n",
       "</table>\n",
       "</div>"
      ],
      "text/plain": [
       "       product_id              product_name  times_ordered\n",
       "5875         5876             Organic Lemon          12232\n",
       "8276         8277  Apple Honeycrisp Organic          11993\n",
       "13175       13176    Bag of Organic Bananas          53297\n",
       "16796       16797              Strawberries          20018\n",
       "21136       21137      Organic Strawberries          37039\n",
       "21902       21903      Organic Baby Spinach          33971\n",
       "22934       22935      Organic Yellow Onion          15898\n",
       "24851       24852                    Banana          66050\n",
       "24963       24964            Organic Garlic          15292\n",
       "26208       26209                     Limes          19690\n",
       "27844       27845        Organic Whole Milk          19600\n",
       "27965       27966       Organic Raspberries          19197\n",
       "28203       28204        Organic Fuji Apple          12544\n",
       "39274       39275       Organic Blueberries          13879\n",
       "40705       40706    Organic Grape Tomatoes          11781\n",
       "45006       45007          Organic Zucchini          14584\n",
       "47208       47209      Organic Hass Avocado          29773\n",
       "47625       47626               Large Lemon          21495\n",
       "47765       47766           Organic Avocado          24689\n",
       "49682       49683            Cucumber Kirby          13675"
      ]
     },
     "execution_count": 51,
     "metadata": {},
     "output_type": "execute_result"
    }
   ],
   "source": [
    "#df_order_products.info()\n",
    "\n",
    "top_20_product_ids = df_order_products['product_id'].value_counts().sort_values(ascending=False).head(20).index\n",
    "#creates an Int64Index with the 20 product ids that appear most frequently in order_products\n",
    "\n",
    "#to get the names of those products, we'll take the products dataframe and pare out all the item ids that aren't in that index\n",
    "top_20_products_df = df_products[df_products['product_id'].isin(top_20_product_ids)]\n",
    "\n",
    "#we weren't asked for aisle or department, so we'll drop that information\n",
    "top_20_products = top_20_products_df.drop(columns = ['aisle_id', 'department_id'])\n",
    "\n",
    "#V2 addition: times each product was ordered\n",
    "\n",
    "num_orders = df_order_products['product_id'].value_counts().sort_values(ascending=False).head(20).sort_index()\n",
    "#contains index of product ids, and values equal to their frequency in df_order_products\n",
    "\n",
    "num_orders.name = \"times_ordered\"\n",
    "\n",
    "num_orders.index = num_orders.index - 1\n",
    "#because index is off by one compared to product id, this ensures pandas correctly matches the rows\n",
    "\n",
    "top_20_products = pd.concat([top_20_products, num_orders], axis='columns')\n",
    "\n",
    "top_20_products"
   ]
  },
  {
   "cell_type": "code",
   "execution_count": 52,
   "id": "universal-facial",
   "metadata": {},
   "outputs": [
    {
     "data": {
      "text/plain": [
       "5876     12232\n",
       "8277     11993\n",
       "13176    53297\n",
       "16797    20018\n",
       "21137    37039\n",
       "21903    33971\n",
       "22935    15898\n",
       "24852    66050\n",
       "24964    15292\n",
       "26209    19690\n",
       "27845    19600\n",
       "27966    19197\n",
       "28204    12544\n",
       "39275    13879\n",
       "40706    11781\n",
       "45007    14584\n",
       "47209    29773\n",
       "47626    21495\n",
       "47766    24689\n",
       "49683    13675\n",
       "Name: product_id, dtype: int64"
      ]
     },
     "execution_count": 52,
     "metadata": {},
     "output_type": "execute_result"
    }
   ],
   "source": [
    "df_order_products['product_id'].value_counts().sort_values(ascending=True).tail(20).sort_index()"
   ]
  },
  {
   "cell_type": "markdown",
   "id": "7df00f47",
   "metadata": {},
   "source": [
    "We found the 20 product ids that most frequently appeared in our order data, then got their names from our product dataframe."
   ]
  },
  {
   "cell_type": "markdown",
   "id": "d1c2f8b3",
   "metadata": {},
   "source": [
    "<div class=\"alert alert-success\"; style=\"border-left: 7px solid green\">\n",
    "<b>✅ Reviewer's comment, v. 1</b> \n",
    "    \n",
    "This is a correct list."
   ]
  },
  {
   "cell_type": "markdown",
   "id": "b9f24280",
   "metadata": {},
   "source": [
    "<div class=\"alert alert-success\"; style=\"border-left: 7px solid green\">\n",
    "<b>✅ Reviewer's comment, v. 2</b> \n",
    "    \n",
    "✔️ Good. It would also be good to sort the list by the number of orders.\n",
    "    \n",
    "\n",
    "\n",
    "<div class=\"alert alert-danger\"; style=\"border-left: 7px solid red\">\n",
    "<b>⛔️ Reviewer's comment, v. 1</b> \n",
    "\n",
    "\n",
    "    \n",
    "HOwever, could you please display the number of orders with each of the products.\n",
    "</div>\n"
   ]
  },
  {
   "cell_type": "markdown",
   "id": "b60655f7",
   "metadata": {},
   "source": [
    "<div class=\"alert alert-info\"; style=\"border-left: 7px solid blue\">It wasn't explicitly stated in the original problem, but I'm more than happy to do that. (The correction was made in the original cell, but I'll add a sanity check below.)"
   ]
  },
  {
   "cell_type": "code",
   "execution_count": 53,
   "id": "35fb5a4d",
   "metadata": {},
   "outputs": [
    {
     "name": "stdout",
     "output_type": "stream",
     "text": [
      "24852    66050\n",
      "13176    53297\n",
      "21137    37039\n",
      "21903    33971\n",
      "47209    29773\n",
      "Name: product_id, dtype: int64\n",
      "       product_id            product_name  times_ordered\n",
      "24851       24852                  Banana          66050\n",
      "13175       13176  Bag of Organic Bananas          53297\n",
      "21136       21137    Organic Strawberries          37039\n",
      "21902       21903    Organic Baby Spinach          33971\n",
      "47208       47209    Organic Hass Avocado          29773\n"
     ]
    }
   ],
   "source": [
    "print(df_order_products['product_id'].value_counts().sort_values(ascending=False).head(5))\n",
    "print(top_20_products.sort_values(by='times_ordered', ascending=False).head(5))\n",
    "#same ids and times_ordered!"
   ]
  },
  {
   "cell_type": "markdown",
   "id": "gross-theme",
   "metadata": {},
   "source": [
    "# [C] Hard (must complete at least two to pass)"
   ]
  },
  {
   "cell_type": "markdown",
   "id": "romantic-deposit",
   "metadata": {},
   "source": [
    "### [C1] How many items do people typically buy in one order? What does the distribution look like?"
   ]
  },
  {
   "cell_type": "code",
   "execution_count": null,
   "id": "virtual-punch",
   "metadata": {},
   "outputs": [],
   "source": []
  },
  {
   "cell_type": "code",
   "execution_count": null,
   "id": "sensitive-breathing",
   "metadata": {},
   "outputs": [],
   "source": []
  },
  {
   "cell_type": "code",
   "execution_count": null,
   "id": "completed-frank",
   "metadata": {},
   "outputs": [],
   "source": []
  },
  {
   "cell_type": "markdown",
   "id": "designed-mortality",
   "metadata": {},
   "source": []
  },
  {
   "cell_type": "markdown",
   "id": "5e6b5537",
   "metadata": {},
   "source": [
    "### [C2] What are the top 20 items that are reordered most frequently (display their names and product IDs)?"
   ]
  },
  {
   "cell_type": "code",
   "execution_count": 54,
   "id": "9374e55a",
   "metadata": {},
   "outputs": [
    {
     "data": {
      "text/html": [
       "<div>\n",
       "<style scoped>\n",
       "    .dataframe tbody tr th:only-of-type {\n",
       "        vertical-align: middle;\n",
       "    }\n",
       "\n",
       "    .dataframe tbody tr th {\n",
       "        vertical-align: top;\n",
       "    }\n",
       "\n",
       "    .dataframe thead th {\n",
       "        text-align: right;\n",
       "    }\n",
       "</style>\n",
       "<table border=\"1\" class=\"dataframe\">\n",
       "  <thead>\n",
       "    <tr style=\"text-align: right;\">\n",
       "      <th></th>\n",
       "      <th>product_id</th>\n",
       "      <th>product_name</th>\n",
       "      <th>times_ordered</th>\n",
       "    </tr>\n",
       "  </thead>\n",
       "  <tbody>\n",
       "    <tr>\n",
       "      <th>5875</th>\n",
       "      <td>5876</td>\n",
       "      <td>Organic Lemon</td>\n",
       "      <td>8412</td>\n",
       "    </tr>\n",
       "    <tr>\n",
       "      <th>8276</th>\n",
       "      <td>8277</td>\n",
       "      <td>Apple Honeycrisp Organic</td>\n",
       "      <td>8836</td>\n",
       "    </tr>\n",
       "    <tr>\n",
       "      <th>13175</th>\n",
       "      <td>13176</td>\n",
       "      <td>Bag of Organic Bananas</td>\n",
       "      <td>44450</td>\n",
       "    </tr>\n",
       "    <tr>\n",
       "      <th>16796</th>\n",
       "      <td>16797</td>\n",
       "      <td>Strawberries</td>\n",
       "      <td>13945</td>\n",
       "    </tr>\n",
       "    <tr>\n",
       "      <th>21136</th>\n",
       "      <td>21137</td>\n",
       "      <td>Organic Strawberries</td>\n",
       "      <td>28639</td>\n",
       "    </tr>\n",
       "    <tr>\n",
       "      <th>21902</th>\n",
       "      <td>21903</td>\n",
       "      <td>Organic Baby Spinach</td>\n",
       "      <td>26233</td>\n",
       "    </tr>\n",
       "    <tr>\n",
       "      <th>22934</th>\n",
       "      <td>22935</td>\n",
       "      <td>Organic Yellow Onion</td>\n",
       "      <td>11145</td>\n",
       "    </tr>\n",
       "    <tr>\n",
       "      <th>24851</th>\n",
       "      <td>24852</td>\n",
       "      <td>Banana</td>\n",
       "      <td>55763</td>\n",
       "    </tr>\n",
       "    <tr>\n",
       "      <th>24963</th>\n",
       "      <td>24964</td>\n",
       "      <td>Organic Garlic</td>\n",
       "      <td>10411</td>\n",
       "    </tr>\n",
       "    <tr>\n",
       "      <th>26208</th>\n",
       "      <td>26209</td>\n",
       "      <td>Limes</td>\n",
       "      <td>13327</td>\n",
       "    </tr>\n",
       "    <tr>\n",
       "      <th>27844</th>\n",
       "      <td>27845</td>\n",
       "      <td>Organic Whole Milk</td>\n",
       "      <td>16251</td>\n",
       "    </tr>\n",
       "    <tr>\n",
       "      <th>27965</th>\n",
       "      <td>27966</td>\n",
       "      <td>Organic Raspberries</td>\n",
       "      <td>14748</td>\n",
       "    </tr>\n",
       "    <tr>\n",
       "      <th>28203</th>\n",
       "      <td>28204</td>\n",
       "      <td>Organic Fuji Apple</td>\n",
       "      <td>8989</td>\n",
       "    </tr>\n",
       "    <tr>\n",
       "      <th>39274</th>\n",
       "      <td>39275</td>\n",
       "      <td>Organic Blueberries</td>\n",
       "      <td>8799</td>\n",
       "    </tr>\n",
       "    <tr>\n",
       "      <th>45006</th>\n",
       "      <td>45007</td>\n",
       "      <td>Organic Zucchini</td>\n",
       "      <td>10076</td>\n",
       "    </tr>\n",
       "    <tr>\n",
       "      <th>47208</th>\n",
       "      <td>47209</td>\n",
       "      <td>Organic Hass Avocado</td>\n",
       "      <td>23629</td>\n",
       "    </tr>\n",
       "    <tr>\n",
       "      <th>47625</th>\n",
       "      <td>47626</td>\n",
       "      <td>Large Lemon</td>\n",
       "      <td>15044</td>\n",
       "    </tr>\n",
       "    <tr>\n",
       "      <th>47765</th>\n",
       "      <td>47766</td>\n",
       "      <td>Organic Avocado</td>\n",
       "      <td>18743</td>\n",
       "    </tr>\n",
       "    <tr>\n",
       "      <th>49234</th>\n",
       "      <td>49235</td>\n",
       "      <td>Organic Half &amp; Half</td>\n",
       "      <td>8389</td>\n",
       "    </tr>\n",
       "    <tr>\n",
       "      <th>49682</th>\n",
       "      <td>49683</td>\n",
       "      <td>Cucumber Kirby</td>\n",
       "      <td>9538</td>\n",
       "    </tr>\n",
       "  </tbody>\n",
       "</table>\n",
       "</div>"
      ],
      "text/plain": [
       "       product_id              product_name  times_ordered\n",
       "5875         5876             Organic Lemon           8412\n",
       "8276         8277  Apple Honeycrisp Organic           8836\n",
       "13175       13176    Bag of Organic Bananas          44450\n",
       "16796       16797              Strawberries          13945\n",
       "21136       21137      Organic Strawberries          28639\n",
       "21902       21903      Organic Baby Spinach          26233\n",
       "22934       22935      Organic Yellow Onion          11145\n",
       "24851       24852                    Banana          55763\n",
       "24963       24964            Organic Garlic          10411\n",
       "26208       26209                     Limes          13327\n",
       "27844       27845        Organic Whole Milk          16251\n",
       "27965       27966       Organic Raspberries          14748\n",
       "28203       28204        Organic Fuji Apple           8989\n",
       "39274       39275       Organic Blueberries           8799\n",
       "45006       45007          Organic Zucchini          10076\n",
       "47208       47209      Organic Hass Avocado          23629\n",
       "47625       47626               Large Lemon          15044\n",
       "47765       47766           Organic Avocado          18743\n",
       "49234       49235       Organic Half & Half           8389\n",
       "49682       49683            Cucumber Kirby           9538"
      ]
     },
     "execution_count": 54,
     "metadata": {},
     "output_type": "execute_result"
    }
   ],
   "source": [
    "#Since we've figured out how to get the top 20 items in general, we can just make a version of the dataframe that\n",
    "#only contains reorders, then perform the same steps\n",
    "df_reorders = df_order_products[df_order_products['reordered'] == 1]\n",
    "\n",
    "top_20_reorder_ids = df_reorders['product_id'].value_counts().sort_values(ascending=False).head(20).index\n",
    "#creates an Int64Index with the 20 product ids that appear most frequently in reorders\n",
    "\n",
    "#to get the names of those products, we'll take the products dataframe and remove all the item ids that aren't in that index\n",
    "top_20_reorders = df_products[df_products['product_id'].isin(top_20_reorder_ids)]\n",
    "\n",
    "#we weren't asked for aisle or department, so we'll drop that information\n",
    "top_20_reorders = top_20_reorders.drop(columns = ['aisle_id', 'department_id'])\n",
    "\n",
    "#V2 addition: times each product was ordered\n",
    "\n",
    "num_reorders = df_reorders['product_id'].value_counts().sort_values(ascending=False).head(20).sort_index()\n",
    "#contains index of product ids, and values equal to their frequency in df_reorders\n",
    "\n",
    "num_reorders.name = \"times_ordered\"\n",
    "\n",
    "num_reorders.index = num_reorders.index - 1\n",
    "#because index is off by one compared to product id, this ensures pandas correctly matches the rows\n",
    "\n",
    "top_20_reorders = pd.concat([top_20_reorders, num_reorders], axis='columns')\n",
    "\n",
    "top_20_reorders"
   ]
  },
  {
   "cell_type": "markdown",
   "id": "87d46cb3",
   "metadata": {},
   "source": [
    "<div class=\"alert alert-success\"; style=\"border-left: 7px solid green\">\n",
    "<b>✅ Reviewer's comment, v. 2</b> \n",
    "    \n",
    "✔️ Same comment here)\n",
    "    \n",
    "    \n",
    "\n",
    "\n",
    "<div class=\"alert alert-danger\"; style=\"border-left: 7px solid red\">\n",
    "<b>⛔️ Reviewer's comment, v. 1</b> \n",
    "\n",
    "\n",
    "    \n",
    "Here, could you please also sort the products by the number of reorders and show the reorder number.\n",
    "</div>\n"
   ]
  },
  {
   "cell_type": "markdown",
   "id": "fe774e8e",
   "metadata": {
    "scrolled": true
   },
   "source": [
    "<div class=\"alert alert-info\"; style=\"border-left: 7px solid blue\">Same problem, same solution! Sanity check below, again."
   ]
  },
  {
   "cell_type": "code",
   "execution_count": 55,
   "id": "professional-surfing",
   "metadata": {
    "scrolled": true
   },
   "outputs": [
    {
     "name": "stdout",
     "output_type": "stream",
     "text": [
      "24852    55763\n",
      "13176    44450\n",
      "21137    28639\n",
      "21903    26233\n",
      "47209    23629\n",
      "Name: product_id, dtype: int64\n",
      "       product_id            product_name  times_ordered\n",
      "24851       24852                  Banana          55763\n",
      "13175       13176  Bag of Organic Bananas          44450\n",
      "21136       21137    Organic Strawberries          28639\n",
      "21902       21903    Organic Baby Spinach          26233\n",
      "47208       47209    Organic Hass Avocado          23629\n"
     ]
    }
   ],
   "source": [
    "print(df_reorders['product_id'].value_counts().sort_values(ascending=False).head(5))\n",
    "print(top_20_reorders.sort_values(by='times_ordered', ascending=False).head(5))\n",
    "#same ids and times_ordered!"
   ]
  },
  {
   "cell_type": "code",
   "execution_count": null,
   "id": "48dd3658",
   "metadata": {},
   "outputs": [],
   "source": []
  },
  {
   "cell_type": "markdown",
   "id": "80e70c74",
   "metadata": {},
   "source": [
    "We limited the order_products dataframe to just the items that had been marked as reorders, then performed the same steps as before to list the top 20 most reordered items."
   ]
  },
  {
   "cell_type": "markdown",
   "id": "9d312b14",
   "metadata": {},
   "source": [
    "### [C3] For each product, what proportion of its orders are reorders?"
   ]
  },
  {
   "cell_type": "code",
   "execution_count": null,
   "id": "8ae9f4b1",
   "metadata": {},
   "outputs": [],
   "source": []
  },
  {
   "cell_type": "code",
   "execution_count": null,
   "id": "103e7fe1",
   "metadata": {},
   "outputs": [],
   "source": []
  },
  {
   "cell_type": "code",
   "execution_count": null,
   "id": "social-individual",
   "metadata": {},
   "outputs": [],
   "source": []
  },
  {
   "cell_type": "markdown",
   "id": "subject-boxing",
   "metadata": {},
   "source": [
    "### [C4] For each customer, what proportion of their products ordered are reorders?"
   ]
  },
  {
   "cell_type": "code",
   "execution_count": null,
   "id": "medical-couple",
   "metadata": {
    "scrolled": true
   },
   "outputs": [],
   "source": []
  },
  {
   "cell_type": "code",
   "execution_count": null,
   "id": "8892e4b4",
   "metadata": {},
   "outputs": [],
   "source": []
  },
  {
   "cell_type": "markdown",
   "id": "92d35137",
   "metadata": {},
   "source": [
    "### [C5] What are the top 20 items that people put in their carts first? "
   ]
  },
  {
   "cell_type": "code",
   "execution_count": 56,
   "id": "0ae57274",
   "metadata": {
    "scrolled": false
   },
   "outputs": [
    {
     "data": {
      "text/html": [
       "<div>\n",
       "<style scoped>\n",
       "    .dataframe tbody tr th:only-of-type {\n",
       "        vertical-align: middle;\n",
       "    }\n",
       "\n",
       "    .dataframe tbody tr th {\n",
       "        vertical-align: top;\n",
       "    }\n",
       "\n",
       "    .dataframe thead th {\n",
       "        text-align: right;\n",
       "    }\n",
       "</style>\n",
       "<table border=\"1\" class=\"dataframe\">\n",
       "  <thead>\n",
       "    <tr style=\"text-align: right;\">\n",
       "      <th></th>\n",
       "      <th>product_id</th>\n",
       "      <th>product_name</th>\n",
       "      <th>aisle_id</th>\n",
       "      <th>department_id</th>\n",
       "      <th>times_ordered</th>\n",
       "    </tr>\n",
       "  </thead>\n",
       "  <tbody>\n",
       "    <tr>\n",
       "      <th>195</th>\n",
       "      <td>196</td>\n",
       "      <td>Soda</td>\n",
       "      <td>77</td>\n",
       "      <td>7</td>\n",
       "      <td>1733</td>\n",
       "    </tr>\n",
       "    <tr>\n",
       "      <th>5784</th>\n",
       "      <td>5785</td>\n",
       "      <td>Organic Reduced Fat 2% Milk</td>\n",
       "      <td>84</td>\n",
       "      <td>16</td>\n",
       "      <td>1310</td>\n",
       "    </tr>\n",
       "    <tr>\n",
       "      <th>12340</th>\n",
       "      <td>12341</td>\n",
       "      <td>Hass Avocados</td>\n",
       "      <td>32</td>\n",
       "      <td>4</td>\n",
       "      <td>1340</td>\n",
       "    </tr>\n",
       "    <tr>\n",
       "      <th>13175</th>\n",
       "      <td>13176</td>\n",
       "      <td>Bag of Organic Bananas</td>\n",
       "      <td>24</td>\n",
       "      <td>4</td>\n",
       "      <td>11026</td>\n",
       "    </tr>\n",
       "    <tr>\n",
       "      <th>16796</th>\n",
       "      <td>16797</td>\n",
       "      <td>Strawberries</td>\n",
       "      <td>24</td>\n",
       "      <td>4</td>\n",
       "      <td>2308</td>\n",
       "    </tr>\n",
       "    <tr>\n",
       "      <th>19659</th>\n",
       "      <td>19660</td>\n",
       "      <td>Spring Water</td>\n",
       "      <td>115</td>\n",
       "      <td>7</td>\n",
       "      <td>2336</td>\n",
       "    </tr>\n",
       "    <tr>\n",
       "      <th>21136</th>\n",
       "      <td>21137</td>\n",
       "      <td>Organic Strawberries</td>\n",
       "      <td>24</td>\n",
       "      <td>4</td>\n",
       "      <td>3946</td>\n",
       "    </tr>\n",
       "    <tr>\n",
       "      <th>21902</th>\n",
       "      <td>21903</td>\n",
       "      <td>Organic Baby Spinach</td>\n",
       "      <td>123</td>\n",
       "      <td>4</td>\n",
       "      <td>3336</td>\n",
       "    </tr>\n",
       "    <tr>\n",
       "      <th>22934</th>\n",
       "      <td>22935</td>\n",
       "      <td>Organic Yellow Onion</td>\n",
       "      <td>83</td>\n",
       "      <td>4</td>\n",
       "      <td>1246</td>\n",
       "    </tr>\n",
       "    <tr>\n",
       "      <th>24851</th>\n",
       "      <td>24852</td>\n",
       "      <td>Banana</td>\n",
       "      <td>24</td>\n",
       "      <td>4</td>\n",
       "      <td>15562</td>\n",
       "    </tr>\n",
       "    <tr>\n",
       "      <th>26208</th>\n",
       "      <td>26209</td>\n",
       "      <td>Limes</td>\n",
       "      <td>24</td>\n",
       "      <td>4</td>\n",
       "      <td>1370</td>\n",
       "    </tr>\n",
       "    <tr>\n",
       "      <th>27085</th>\n",
       "      <td>27086</td>\n",
       "      <td>Half &amp; Half</td>\n",
       "      <td>53</td>\n",
       "      <td>16</td>\n",
       "      <td>1309</td>\n",
       "    </tr>\n",
       "    <tr>\n",
       "      <th>27844</th>\n",
       "      <td>27845</td>\n",
       "      <td>Organic Whole Milk</td>\n",
       "      <td>84</td>\n",
       "      <td>16</td>\n",
       "      <td>4363</td>\n",
       "    </tr>\n",
       "    <tr>\n",
       "      <th>27965</th>\n",
       "      <td>27966</td>\n",
       "      <td>Organic Raspberries</td>\n",
       "      <td>123</td>\n",
       "      <td>4</td>\n",
       "      <td>2024</td>\n",
       "    </tr>\n",
       "    <tr>\n",
       "      <th>38688</th>\n",
       "      <td>38689</td>\n",
       "      <td>Organic Reduced Fat Milk</td>\n",
       "      <td>84</td>\n",
       "      <td>16</td>\n",
       "      <td>1397</td>\n",
       "    </tr>\n",
       "    <tr>\n",
       "      <th>44631</th>\n",
       "      <td>44632</td>\n",
       "      <td>Sparkling Water Grapefruit</td>\n",
       "      <td>115</td>\n",
       "      <td>7</td>\n",
       "      <td>1914</td>\n",
       "    </tr>\n",
       "    <tr>\n",
       "      <th>47208</th>\n",
       "      <td>47209</td>\n",
       "      <td>Organic Hass Avocado</td>\n",
       "      <td>24</td>\n",
       "      <td>4</td>\n",
       "      <td>3390</td>\n",
       "    </tr>\n",
       "    <tr>\n",
       "      <th>47625</th>\n",
       "      <td>47626</td>\n",
       "      <td>Large Lemon</td>\n",
       "      <td>24</td>\n",
       "      <td>4</td>\n",
       "      <td>1737</td>\n",
       "    </tr>\n",
       "    <tr>\n",
       "      <th>47765</th>\n",
       "      <td>47766</td>\n",
       "      <td>Organic Avocado</td>\n",
       "      <td>24</td>\n",
       "      <td>4</td>\n",
       "      <td>3044</td>\n",
       "    </tr>\n",
       "    <tr>\n",
       "      <th>49234</th>\n",
       "      <td>49235</td>\n",
       "      <td>Organic Half &amp; Half</td>\n",
       "      <td>53</td>\n",
       "      <td>16</td>\n",
       "      <td>1797</td>\n",
       "    </tr>\n",
       "  </tbody>\n",
       "</table>\n",
       "</div>"
      ],
      "text/plain": [
       "       product_id                 product_name  aisle_id  department_id  \\\n",
       "195           196                         Soda        77              7   \n",
       "5784         5785  Organic Reduced Fat 2% Milk        84             16   \n",
       "12340       12341                Hass Avocados        32              4   \n",
       "13175       13176       Bag of Organic Bananas        24              4   \n",
       "16796       16797                 Strawberries        24              4   \n",
       "19659       19660                 Spring Water       115              7   \n",
       "21136       21137         Organic Strawberries        24              4   \n",
       "21902       21903         Organic Baby Spinach       123              4   \n",
       "22934       22935         Organic Yellow Onion        83              4   \n",
       "24851       24852                       Banana        24              4   \n",
       "26208       26209                        Limes        24              4   \n",
       "27085       27086                  Half & Half        53             16   \n",
       "27844       27845           Organic Whole Milk        84             16   \n",
       "27965       27966          Organic Raspberries       123              4   \n",
       "38688       38689     Organic Reduced Fat Milk        84             16   \n",
       "44631       44632   Sparkling Water Grapefruit       115              7   \n",
       "47208       47209         Organic Hass Avocado        24              4   \n",
       "47625       47626                  Large Lemon        24              4   \n",
       "47765       47766              Organic Avocado        24              4   \n",
       "49234       49235          Organic Half & Half        53             16   \n",
       "\n",
       "       times_ordered  \n",
       "195             1733  \n",
       "5784            1310  \n",
       "12340           1340  \n",
       "13175          11026  \n",
       "16796           2308  \n",
       "19659           2336  \n",
       "21136           3946  \n",
       "21902           3336  \n",
       "22934           1246  \n",
       "24851          15562  \n",
       "26208           1370  \n",
       "27085           1309  \n",
       "27844           4363  \n",
       "27965           2024  \n",
       "38688           1397  \n",
       "44631           1914  \n",
       "47208           3390  \n",
       "47625           1737  \n",
       "47765           3044  \n",
       "49234           1797  "
      ]
     },
     "execution_count": 56,
     "metadata": {},
     "output_type": "execute_result"
    }
   ],
   "source": [
    "#This is another problem that is similar to the general 'top 20' case\n",
    "#This time, we just need the lowest add-to-cart-order items.\n",
    "#I checked the value_counts of that column in another cell; the lowest value is 1.\n",
    "df_first_items = df_order_products[df_order_products['add_to_cart_order'] == 1]\n",
    "\n",
    "top_20_first_item_ids = df_first_items['product_id'].value_counts().sort_values(ascending=False).head(20).index\n",
    "#creates an Int64Index with the 20 product ids that appear most frequently in reorders\n",
    "\n",
    "#to get the names of those products, we'll take the products dataframe and remove all the item ids that aren't in that index\n",
    "top_20_first_items = df_products[df_products['product_id'].isin(top_20_first_item_ids)]\n",
    "\n",
    "#unlike the previous 'top 20' problems, this one doesn't specify 'names and product ids', so I'll leave in the \n",
    "#department and aisle ids this time.\n",
    "\n",
    "#V2 addition: times each product in question was ordered\n",
    "\n",
    "num_firsts = df_first_items['product_id'].value_counts().sort_values(ascending=False).head(20).sort_index()\n",
    "#contains index of product ids, and values equal to their frequency in df_reorders\n",
    "\n",
    "num_firsts.name = \"times_ordered\"\n",
    "\n",
    "num_firsts.index = num_firsts.index - 1\n",
    "#because index is off by one compared to product id, this ensures pandas correctly matches the rows\n",
    "\n",
    "top_20_first_items = pd.concat([top_20_first_items, num_firsts], axis='columns')\n",
    "\n",
    "top_20_first_items"
   ]
  },
  {
   "cell_type": "markdown",
   "id": "233dc678",
   "metadata": {},
   "source": [
    "<div class=\"alert alert-success\"; style=\"border-left: 7px solid green\">\n",
    "<b>✅ Reviewer's comment, v. 2</b> \n",
    "    \n",
    "✔️ \n",
    "    \n",
    "\n",
    "\n",
    "<div class=\"alert alert-danger\"; style=\"border-left: 7px solid red\">\n",
    "<b>⛔️ Reviewer's comment, v. 1</b> \n",
    "\n",
    "\n",
    "    \n",
    "Same comment - could you please sort the values by the number of times the product was added to the cart first and show the umber of times.</div>\n"
   ]
  },
  {
   "cell_type": "markdown",
   "id": "650d58f9",
   "metadata": {},
   "source": [
    "<div class=\"alert alert-info\"; style=\"border-left: 7px solid blue\">Third time's the charm; I actually already had a sanity check this time, but might as well do more with that."
   ]
  },
  {
   "cell_type": "code",
   "execution_count": 57,
   "id": "forty-netherlands",
   "metadata": {
    "scrolled": true
   },
   "outputs": [
    {
     "name": "stdout",
     "output_type": "stream",
     "text": [
      "24852    15562\n",
      "13176    11026\n",
      "27845     4363\n",
      "21137     3946\n",
      "47209     3390\n",
      "Name: product_id, dtype: int64\n",
      "       product_id            product_name  aisle_id  department_id  \\\n",
      "24851       24852                  Banana        24              4   \n",
      "13175       13176  Bag of Organic Bananas        24              4   \n",
      "27844       27845      Organic Whole Milk        84             16   \n",
      "21136       21137    Organic Strawberries        24              4   \n",
      "47208       47209    Organic Hass Avocado        24              4   \n",
      "\n",
      "       times_ordered  \n",
      "24851          15562  \n",
      "13175          11026  \n",
      "27844           4363  \n",
      "21136           3946  \n",
      "47208           3390  \n"
     ]
    }
   ],
   "source": [
    "df_order_products['add_to_cart_order'].value_counts()\n",
    "#as I mentioned in the above cell, I wanted to do a sanity check here\n",
    "#I would've felt silly if add_to_cart_order was zero-indexed\n",
    "\n",
    "#also, the sanity check I added during step 2:\n",
    "\n",
    "print(df_first_items['product_id'].value_counts().sort_values(ascending=False).head(5))\n",
    "print(top_20_first_items.sort_values(by='times_ordered', ascending=False).head(5))\n",
    "#same ids and times_ordered!"
   ]
  },
  {
   "cell_type": "code",
   "execution_count": null,
   "id": "08e41ec2",
   "metadata": {},
   "outputs": [],
   "source": []
  },
  {
   "cell_type": "markdown",
   "id": "28ce9872",
   "metadata": {},
   "source": [
    "Using similar methodology to some of the above problems, we found only the items in order_products that had been added to the cart first, took the 20 most frequently occurring ids from that subset of the data, then found information on those products in the products dataframe."
   ]
  },
  {
   "cell_type": "markdown",
   "id": "8394d322",
   "metadata": {},
   "source": [
    "<div class=\"alert alert-success\"; style=\"border-left: 7px solid green\">\n",
    "<b>✅ Reviewer's comment, v. 2</b> \n",
    "    \n",
    "✔️ \n",
    "    \n",
    "\n",
    "\n",
    "<div class=\"alert alert-danger\"; style=\"border-left: 7px solid red\">\n",
    "<b>⛔️ Reviewer's comment, v. 1</b> \n",
    "\n",
    "Could you please add an overall conclusion summarising the main results of the analysis?"
   ]
  },
  {
   "cell_type": "markdown",
   "id": "2f8c7b30",
   "metadata": {},
   "source": [
    "<div class=\"alert alert-info\"; style=\"border-left: 7px solid blue\">Sure thing. Let's see..."
   ]
  },
  {
   "cell_type": "markdown",
   "id": "fbe16bae",
   "metadata": {},
   "source": [
    "# Conclusion\n",
    "\n",
    "Our preparation and analysis of the data led to several notable insights.\n",
    "\n",
    "- Most orders happen from roughly 9am to 5pm.\n",
    "- Sunday and Monday are more popular days to place orders than the other days.\n",
    "- Most commonly, people place subsequent orders seven days after prior orders; the chance of a reorder tapers off substantially after that time window. However, that doesn't include the substantial amount of \"rare occasion\" reorders, that is, those that happen with thirty days or more of a gap.\n",
    "- Compared to Wednesday, Saturday sees extra orders during the midday hours, as well as a smaller increase of orders late at night.\n",
    "- The vast majority of customers order a very small number of times; the median user has ordered twice, and the 75th percentile customer has ordered four times. The most orders recorded by one customer is 28.\n",
    "- \"Banana\" is the most popular product in the data, being ordered the most times in the data overall, as well as being the most reordered item AND the item that is most frequently added to the cart first. \"Bag of Organic Bananas\" is a close second in all three of those categories. \"Organic Strawberries\" are also very popular, being in third place for overall orders and reorders. \"Organic Whole Milk\" is the third-most-likely item to be the first one added to a cart, but it was much less likely to be ordered in general."
   ]
  },
  {
   "cell_type": "markdown",
   "id": "874d4970",
   "metadata": {},
   "source": [
    "<div class=\"alert alert-success\"; style=\"border-left: 7px solid green\">\n",
    "<b>✅ Reviewer's comment, v. 1</b> \n",
    "    \n",
    "Excellent - all the major observations included, the list structure is easy to read."
   ]
  }
 ],
 "metadata": {
  "ExecuteTimeLog": [
   {
    "duration": 4334,
    "start_time": "2024-08-15T21:11:47.667Z"
   },
   {
    "duration": 4,
    "start_time": "2024-08-15T21:11:56.485Z"
   },
   {
    "duration": 865,
    "start_time": "2024-08-15T21:13:13.990Z"
   },
   {
    "duration": 451,
    "start_time": "2024-08-15T21:13:21.743Z"
   },
   {
    "duration": 205,
    "start_time": "2024-08-15T21:13:38.166Z"
   },
   {
    "duration": 85,
    "start_time": "2024-08-15T21:14:40.801Z"
   },
   {
    "duration": 63,
    "start_time": "2024-08-15T21:14:55.140Z"
   },
   {
    "duration": 3348,
    "start_time": "2024-08-15T21:15:58.280Z"
   },
   {
    "duration": 1305,
    "start_time": "2024-08-15T21:16:30.445Z"
   },
   {
    "duration": 22,
    "start_time": "2024-08-15T21:17:25.010Z"
   },
   {
    "duration": 19,
    "start_time": "2024-08-15T21:18:11.661Z"
   },
   {
    "duration": 1241,
    "start_time": "2024-08-15T21:20:07.300Z"
   },
   {
    "duration": 3550,
    "start_time": "2024-08-15T21:20:26.209Z"
   },
   {
    "duration": 1271,
    "start_time": "2024-08-15T21:21:50.052Z"
   },
   {
    "duration": 12,
    "start_time": "2024-08-15T21:22:12.790Z"
   },
   {
    "duration": 24,
    "start_time": "2024-08-15T21:22:37.678Z"
   },
   {
    "duration": 435,
    "start_time": "2024-08-15T21:22:49.577Z"
   },
   {
    "duration": 1277,
    "start_time": "2024-08-15T21:23:45.603Z"
   },
   {
    "duration": 7,
    "start_time": "2024-08-15T23:53:57.579Z"
   },
   {
    "duration": 7,
    "start_time": "2024-08-15T23:54:08.952Z"
   },
   {
    "duration": 860,
    "start_time": "2024-08-15T23:54:15.981Z"
   },
   {
    "duration": 324,
    "start_time": "2024-08-15T23:55:06.556Z"
   },
   {
    "duration": 311,
    "start_time": "2024-08-15T23:55:12.217Z"
   },
   {
    "duration": 4,
    "start_time": "2024-08-15T23:55:39.556Z"
   },
   {
    "duration": 196,
    "start_time": "2024-08-15T23:55:39.565Z"
   },
   {
    "duration": 70,
    "start_time": "2024-08-15T23:55:39.764Z"
   },
   {
    "duration": 1253,
    "start_time": "2024-08-15T23:55:39.837Z"
   },
   {
    "duration": 26,
    "start_time": "2024-08-15T23:55:41.094Z"
   },
   {
    "duration": 17,
    "start_time": "2024-08-15T23:55:41.123Z"
   },
   {
    "duration": 94,
    "start_time": "2024-08-15T23:55:41.143Z"
   },
   {
    "duration": 29,
    "start_time": "2024-08-15T23:55:41.240Z"
   },
   {
    "duration": 4,
    "start_time": "2024-08-15T23:55:41.272Z"
   },
   {
    "duration": 31,
    "start_time": "2024-08-15T23:55:41.280Z"
   },
   {
    "duration": 3,
    "start_time": "2024-08-15T23:55:41.316Z"
   },
   {
    "duration": 4,
    "start_time": "2024-08-15T23:55:41.327Z"
   },
   {
    "duration": 4,
    "start_time": "2024-08-15T23:55:41.334Z"
   },
   {
    "duration": 4,
    "start_time": "2024-08-15T23:55:41.344Z"
   },
   {
    "duration": 4,
    "start_time": "2024-08-15T23:55:41.351Z"
   },
   {
    "duration": 53,
    "start_time": "2024-08-15T23:55:41.358Z"
   },
   {
    "duration": 4,
    "start_time": "2024-08-15T23:55:41.415Z"
   },
   {
    "duration": 3,
    "start_time": "2024-08-15T23:55:41.423Z"
   },
   {
    "duration": 4,
    "start_time": "2024-08-15T23:55:41.430Z"
   },
   {
    "duration": 4,
    "start_time": "2024-08-15T23:55:41.438Z"
   },
   {
    "duration": 4,
    "start_time": "2024-08-15T23:55:41.445Z"
   },
   {
    "duration": 58,
    "start_time": "2024-08-15T23:55:41.452Z"
   },
   {
    "duration": 5,
    "start_time": "2024-08-15T23:55:41.513Z"
   },
   {
    "duration": 3,
    "start_time": "2024-08-15T23:55:41.521Z"
   },
   {
    "duration": 4,
    "start_time": "2024-08-15T23:55:41.528Z"
   },
   {
    "duration": 3,
    "start_time": "2024-08-15T23:55:41.536Z"
   },
   {
    "duration": 13,
    "start_time": "2024-08-15T23:56:00.433Z"
   },
   {
    "duration": 12,
    "start_time": "2024-08-15T23:56:21.573Z"
   },
   {
    "duration": 27,
    "start_time": "2024-08-15T23:56:47.135Z"
   },
   {
    "duration": 15,
    "start_time": "2024-08-15T23:57:45.205Z"
   },
   {
    "duration": 146,
    "start_time": "2024-08-16T00:15:06.625Z"
   },
   {
    "duration": 139,
    "start_time": "2024-08-16T00:15:27.155Z"
   },
   {
    "duration": 128,
    "start_time": "2024-08-16T00:15:32.578Z"
   },
   {
    "duration": 137,
    "start_time": "2024-08-16T00:16:44.752Z"
   },
   {
    "duration": 175,
    "start_time": "2024-08-16T00:17:16.219Z"
   },
   {
    "duration": 135,
    "start_time": "2024-08-16T00:17:29.124Z"
   },
   {
    "duration": 142,
    "start_time": "2024-08-16T00:18:16.403Z"
   },
   {
    "duration": 135,
    "start_time": "2024-08-16T00:18:39.830Z"
   },
   {
    "duration": 12,
    "start_time": "2024-08-16T00:20:42.280Z"
   },
   {
    "duration": 16,
    "start_time": "2024-08-16T00:21:02.361Z"
   },
   {
    "duration": 162,
    "start_time": "2024-08-16T00:24:09.457Z"
   },
   {
    "duration": 140,
    "start_time": "2024-08-16T00:24:43.117Z"
   },
   {
    "duration": 151,
    "start_time": "2024-08-16T00:24:50.103Z"
   },
   {
    "duration": 4,
    "start_time": "2024-08-16T00:24:53.331Z"
   },
   {
    "duration": 198,
    "start_time": "2024-08-16T00:24:53.339Z"
   },
   {
    "duration": 68,
    "start_time": "2024-08-16T00:24:53.540Z"
   },
   {
    "duration": 1256,
    "start_time": "2024-08-16T00:24:53.611Z"
   },
   {
    "duration": 17,
    "start_time": "2024-08-16T00:24:54.871Z"
   },
   {
    "duration": 37,
    "start_time": "2024-08-16T00:24:54.891Z"
   },
   {
    "duration": 151,
    "start_time": "2024-08-16T00:24:54.932Z"
   },
   {
    "duration": 33,
    "start_time": "2024-08-16T00:24:55.086Z"
   },
   {
    "duration": 172,
    "start_time": "2024-08-16T00:24:55.122Z"
   },
   {
    "duration": 15,
    "start_time": "2024-08-16T00:24:55.297Z"
   },
   {
    "duration": 4,
    "start_time": "2024-08-16T00:24:55.315Z"
   },
   {
    "duration": 4,
    "start_time": "2024-08-16T00:24:55.322Z"
   },
   {
    "duration": 4,
    "start_time": "2024-08-16T00:24:55.329Z"
   },
   {
    "duration": 3,
    "start_time": "2024-08-16T00:24:55.340Z"
   },
   {
    "duration": 4,
    "start_time": "2024-08-16T00:24:55.346Z"
   },
   {
    "duration": 56,
    "start_time": "2024-08-16T00:24:55.352Z"
   },
   {
    "duration": 5,
    "start_time": "2024-08-16T00:24:55.411Z"
   },
   {
    "duration": 4,
    "start_time": "2024-08-16T00:24:55.424Z"
   },
   {
    "duration": 4,
    "start_time": "2024-08-16T00:24:55.431Z"
   },
   {
    "duration": 4,
    "start_time": "2024-08-16T00:24:55.438Z"
   },
   {
    "duration": 7,
    "start_time": "2024-08-16T00:24:55.445Z"
   },
   {
    "duration": 6,
    "start_time": "2024-08-16T00:24:55.456Z"
   },
   {
    "duration": 45,
    "start_time": "2024-08-16T00:24:55.465Z"
   },
   {
    "duration": 5,
    "start_time": "2024-08-16T00:24:55.514Z"
   },
   {
    "duration": 5,
    "start_time": "2024-08-16T00:24:55.522Z"
   },
   {
    "duration": 4,
    "start_time": "2024-08-16T00:24:55.531Z"
   },
   {
    "duration": 19,
    "start_time": "2024-08-16T00:26:33.540Z"
   },
   {
    "duration": 20,
    "start_time": "2024-08-16T00:26:45.594Z"
   },
   {
    "duration": 182,
    "start_time": "2024-08-16T00:27:06.580Z"
   },
   {
    "duration": 87,
    "start_time": "2024-08-16T00:28:07.352Z"
   },
   {
    "duration": 17,
    "start_time": "2024-08-16T00:28:24.253Z"
   },
   {
    "duration": 42,
    "start_time": "2024-08-16T00:28:31.822Z"
   },
   {
    "duration": 54,
    "start_time": "2024-08-16T00:29:00.523Z"
   },
   {
    "duration": 59,
    "start_time": "2024-08-16T00:30:24.099Z"
   },
   {
    "duration": 57,
    "start_time": "2024-08-16T00:30:35.032Z"
   },
   {
    "duration": 19,
    "start_time": "2024-08-16T00:31:18.310Z"
   },
   {
    "duration": 23,
    "start_time": "2024-08-16T00:31:43.105Z"
   },
   {
    "duration": 28,
    "start_time": "2024-08-16T00:31:48.702Z"
   },
   {
    "duration": 26,
    "start_time": "2024-08-16T00:32:36.459Z"
   },
   {
    "duration": 22,
    "start_time": "2024-08-16T00:33:02.969Z"
   },
   {
    "duration": 99,
    "start_time": "2024-08-16T00:33:12.911Z"
   },
   {
    "duration": 84,
    "start_time": "2024-08-16T00:33:19.832Z"
   },
   {
    "duration": 262,
    "start_time": "2024-08-16T00:33:29.095Z"
   },
   {
    "duration": 31,
    "start_time": "2024-08-16T00:33:33.743Z"
   },
   {
    "duration": 19,
    "start_time": "2024-08-16T00:33:45.628Z"
   },
   {
    "duration": 25,
    "start_time": "2024-08-16T00:33:51.987Z"
   },
   {
    "duration": 25,
    "start_time": "2024-08-16T00:33:57.456Z"
   },
   {
    "duration": 20,
    "start_time": "2024-08-16T00:35:03.407Z"
   },
   {
    "duration": 9,
    "start_time": "2024-08-16T00:35:10.822Z"
   },
   {
    "duration": 8,
    "start_time": "2024-08-16T00:35:19.757Z"
   },
   {
    "duration": 10,
    "start_time": "2024-08-16T00:35:58.593Z"
   },
   {
    "duration": 29,
    "start_time": "2024-08-16T00:37:51.075Z"
   },
   {
    "duration": 30,
    "start_time": "2024-08-16T00:38:06.168Z"
   },
   {
    "duration": 34,
    "start_time": "2024-08-16T00:40:52.417Z"
   },
   {
    "duration": 24,
    "start_time": "2024-08-16T00:40:59.580Z"
   },
   {
    "duration": 24,
    "start_time": "2024-08-16T00:41:10.674Z"
   },
   {
    "duration": 63,
    "start_time": "2024-08-16T00:42:40.903Z"
   },
   {
    "duration": 59,
    "start_time": "2024-08-16T00:44:11.640Z"
   },
   {
    "duration": 26,
    "start_time": "2024-08-16T00:47:41.855Z"
   },
   {
    "duration": 35,
    "start_time": "2024-08-16T00:48:00.704Z"
   },
   {
    "duration": 13,
    "start_time": "2024-08-16T01:02:37.940Z"
   },
   {
    "duration": 8,
    "start_time": "2024-08-16T01:04:00.690Z"
   },
   {
    "duration": 8,
    "start_time": "2024-08-16T01:04:34.856Z"
   },
   {
    "duration": 12,
    "start_time": "2024-08-16T01:10:53.148Z"
   },
   {
    "duration": 13,
    "start_time": "2024-08-16T01:11:11.359Z"
   },
   {
    "duration": 8,
    "start_time": "2024-08-16T01:11:36.332Z"
   },
   {
    "duration": 10,
    "start_time": "2024-08-16T01:12:16.932Z"
   },
   {
    "duration": 1305,
    "start_time": "2024-08-16T01:13:10.626Z"
   },
   {
    "duration": 277,
    "start_time": "2024-08-16T01:16:09.435Z"
   },
   {
    "duration": 284,
    "start_time": "2024-08-16T01:24:36.117Z"
   },
   {
    "duration": 322,
    "start_time": "2024-08-16T01:24:48.127Z"
   },
   {
    "duration": 321,
    "start_time": "2024-08-16T01:28:23.277Z"
   },
   {
    "duration": 1371,
    "start_time": "2024-08-16T01:29:23.267Z"
   },
   {
    "duration": 305,
    "start_time": "2024-08-16T01:30:37.575Z"
   },
   {
    "duration": 646,
    "start_time": "2024-08-16T01:30:46.112Z"
   },
   {
    "duration": 1354,
    "start_time": "2024-08-16T01:31:30.133Z"
   },
   {
    "duration": 3490,
    "start_time": "2024-08-16T01:31:51.062Z"
   },
   {
    "duration": 1391,
    "start_time": "2024-08-16T01:32:33.602Z"
   },
   {
    "duration": 1404,
    "start_time": "2024-08-16T01:32:46.493Z"
   },
   {
    "duration": 2489,
    "start_time": "2024-08-16T01:35:51.122Z"
   },
   {
    "duration": 2498,
    "start_time": "2024-08-16T01:36:02.956Z"
   },
   {
    "duration": 1382,
    "start_time": "2024-08-16T01:36:25.001Z"
   },
   {
    "duration": 1366,
    "start_time": "2024-08-16T01:40:32.300Z"
   },
   {
    "duration": 6,
    "start_time": "2024-08-16T01:45:45.564Z"
   },
   {
    "duration": 242,
    "start_time": "2024-08-16T01:45:49.794Z"
   },
   {
    "duration": 1036,
    "start_time": "2024-08-16T01:47:20.397Z"
   },
   {
    "duration": 16,
    "start_time": "2024-08-16T01:49:04.067Z"
   },
   {
    "duration": 23,
    "start_time": "2024-08-16T23:50:24.765Z"
   },
   {
    "duration": 11,
    "start_time": "2024-08-16T23:51:04.880Z"
   },
   {
    "duration": 18,
    "start_time": "2024-08-17T00:50:23.181Z"
   },
   {
    "duration": 21,
    "start_time": "2024-08-17T00:50:58.458Z"
   },
   {
    "duration": 11,
    "start_time": "2024-08-17T00:51:05.154Z"
   },
   {
    "duration": 25,
    "start_time": "2024-08-17T00:51:41.036Z"
   },
   {
    "duration": 22,
    "start_time": "2024-08-17T00:51:47.292Z"
   },
   {
    "duration": 12,
    "start_time": "2024-08-17T00:54:28.803Z"
   },
   {
    "duration": 7,
    "start_time": "2024-08-17T00:55:29.956Z"
   },
   {
    "duration": 7,
    "start_time": "2024-08-17T00:57:32.392Z"
   },
   {
    "duration": 5,
    "start_time": "2024-08-17T00:58:09.173Z"
   },
   {
    "duration": 10,
    "start_time": "2024-08-17T00:58:14.278Z"
   },
   {
    "duration": 16,
    "start_time": "2024-08-17T00:58:34.957Z"
   },
   {
    "duration": 15,
    "start_time": "2024-08-17T00:58:48.707Z"
   },
   {
    "duration": 15,
    "start_time": "2024-08-17T00:59:10.387Z"
   },
   {
    "duration": 13,
    "start_time": "2024-08-17T01:01:33.563Z"
   },
   {
    "duration": 39,
    "start_time": "2024-08-17T01:02:06.993Z"
   },
   {
    "duration": 16,
    "start_time": "2024-08-17T01:03:19.043Z"
   },
   {
    "duration": 11,
    "start_time": "2024-08-17T01:04:13.698Z"
   },
   {
    "duration": 21,
    "start_time": "2024-08-17T01:09:05.794Z"
   },
   {
    "duration": 11,
    "start_time": "2024-08-17T01:09:36.371Z"
   },
   {
    "duration": 12,
    "start_time": "2024-08-17T01:12:28.464Z"
   },
   {
    "duration": 24,
    "start_time": "2024-08-17T01:14:39.260Z"
   },
   {
    "duration": 22,
    "start_time": "2024-08-17T01:15:00.064Z"
   },
   {
    "duration": 25,
    "start_time": "2024-08-17T01:15:16.357Z"
   },
   {
    "duration": 0,
    "start_time": "2024-08-17T01:19:43.146Z"
   },
   {
    "duration": 61409,
    "start_time": "2024-08-17T01:19:47.753Z"
   },
   {
    "duration": 10,
    "start_time": "2024-08-17T01:26:23.194Z"
   },
   {
    "duration": 99,
    "start_time": "2024-08-17T01:33:06.311Z"
   },
   {
    "duration": 31,
    "start_time": "2024-08-17T01:33:20.157Z"
   },
   {
    "duration": 42,
    "start_time": "2024-08-17T01:33:39.425Z"
   },
   {
    "duration": 38,
    "start_time": "2024-08-17T01:35:07.017Z"
   },
   {
    "duration": 58,
    "start_time": "2024-08-17T01:37:29.219Z"
   },
   {
    "duration": 47,
    "start_time": "2024-08-17T01:37:58.638Z"
   },
   {
    "duration": 60,
    "start_time": "2024-08-17T01:38:54.779Z"
   },
   {
    "duration": 64,
    "start_time": "2024-08-17T01:45:37.963Z"
   },
   {
    "duration": 71,
    "start_time": "2024-08-17T02:01:42.697Z"
   },
   {
    "duration": 65,
    "start_time": "2024-08-17T02:01:54.149Z"
   },
   {
    "duration": 165,
    "start_time": "2024-08-17T02:02:10.252Z"
   },
   {
    "duration": 183,
    "start_time": "2024-08-17T02:02:25.731Z"
   },
   {
    "duration": 71,
    "start_time": "2024-08-17T02:02:36.186Z"
   },
   {
    "duration": 45,
    "start_time": "2024-08-17T02:02:45.579Z"
   },
   {
    "duration": 73,
    "start_time": "2024-08-17T02:03:18.096Z"
   },
   {
    "duration": 117,
    "start_time": "2024-08-17T02:03:45.598Z"
   },
   {
    "duration": 161,
    "start_time": "2024-08-17T02:04:06.293Z"
   },
   {
    "duration": 75,
    "start_time": "2024-08-17T02:04:34.028Z"
   },
   {
    "duration": 86,
    "start_time": "2024-08-17T02:05:33.829Z"
   },
   {
    "duration": 81,
    "start_time": "2024-08-17T02:05:47.603Z"
   },
   {
    "duration": 87,
    "start_time": "2024-08-17T02:06:03.577Z"
   },
   {
    "duration": 200,
    "start_time": "2024-08-17T02:06:20.918Z"
   },
   {
    "duration": 309,
    "start_time": "2024-08-17T02:06:29.553Z"
   },
   {
    "duration": 30,
    "start_time": "2024-08-17T02:07:37.182Z"
   },
   {
    "duration": 148,
    "start_time": "2024-08-17T02:10:33.365Z"
   },
   {
    "duration": 64,
    "start_time": "2024-08-17T02:10:55.653Z"
   },
   {
    "duration": 79,
    "start_time": "2024-08-17T02:14:53.087Z"
   },
   {
    "duration": 72,
    "start_time": "2024-08-17T02:15:05.272Z"
   },
   {
    "duration": 168,
    "start_time": "2024-08-17T02:16:49.423Z"
   },
   {
    "duration": 180,
    "start_time": "2024-08-17T02:19:17.865Z"
   },
   {
    "duration": 11,
    "start_time": "2024-08-17T02:25:17.467Z"
   },
   {
    "duration": 22,
    "start_time": "2024-08-17T02:26:00.079Z"
   },
   {
    "duration": 89,
    "start_time": "2024-08-17T02:26:08.147Z"
   },
   {
    "duration": 89,
    "start_time": "2024-08-17T02:27:04.938Z"
   },
   {
    "duration": 30,
    "start_time": "2024-08-17T02:27:17.317Z"
   },
   {
    "duration": 36,
    "start_time": "2024-08-17T02:28:33.250Z"
   },
   {
    "duration": 334,
    "start_time": "2024-08-17T02:28:57.943Z"
   },
   {
    "duration": 325,
    "start_time": "2024-08-17T02:29:51.619Z"
   },
   {
    "duration": 330,
    "start_time": "2024-08-17T02:30:25.046Z"
   },
   {
    "duration": 31,
    "start_time": "2024-08-17T02:31:09.177Z"
   },
   {
    "duration": 48,
    "start_time": "2024-08-17T02:31:17.450Z"
   },
   {
    "duration": 36,
    "start_time": "2024-08-17T02:31:23.440Z"
   },
   {
    "duration": 39,
    "start_time": "2024-08-17T02:31:28.297Z"
   },
   {
    "duration": 39,
    "start_time": "2024-08-17T02:31:57.610Z"
   },
   {
    "duration": 39,
    "start_time": "2024-08-17T02:32:18.841Z"
   },
   {
    "duration": 38,
    "start_time": "2024-08-17T02:33:09.948Z"
   },
   {
    "duration": 9,
    "start_time": "2024-08-17T02:33:41.849Z"
   },
   {
    "duration": 21,
    "start_time": "2024-08-17T02:33:52.419Z"
   },
   {
    "duration": 9,
    "start_time": "2024-08-17T02:33:57.774Z"
   },
   {
    "duration": 12,
    "start_time": "2024-08-17T02:34:55.056Z"
   },
   {
    "duration": 19,
    "start_time": "2024-08-17T02:35:04.181Z"
   },
   {
    "duration": 13,
    "start_time": "2024-08-17T02:35:10.925Z"
   },
   {
    "duration": 10,
    "start_time": "2024-08-17T02:35:30.995Z"
   },
   {
    "duration": 463,
    "start_time": "2024-08-17T02:36:37.656Z"
   },
   {
    "duration": 7,
    "start_time": "2024-08-17T02:38:24.252Z"
   },
   {
    "duration": 8,
    "start_time": "2024-08-17T02:38:31.438Z"
   },
   {
    "duration": 948,
    "start_time": "2024-08-17T02:42:24.433Z"
   },
   {
    "duration": 730,
    "start_time": "2024-08-17T02:42:28.984Z"
   },
   {
    "duration": 1008,
    "start_time": "2024-08-17T02:42:35.127Z"
   },
   {
    "duration": 1023,
    "start_time": "2024-08-17T02:43:07.010Z"
   },
   {
    "duration": 519,
    "start_time": "2024-08-17T02:43:55.373Z"
   },
   {
    "duration": 26163,
    "start_time": "2024-08-17T02:45:59.886Z"
   },
   {
    "duration": 904,
    "start_time": "2024-08-17T02:46:30.055Z"
   },
   {
    "duration": 581,
    "start_time": "2024-08-17T02:47:25.917Z"
   },
   {
    "duration": 571,
    "start_time": "2024-08-17T02:47:57.510Z"
   },
   {
    "duration": 441,
    "start_time": "2024-08-17T02:48:10.197Z"
   },
   {
    "duration": 455,
    "start_time": "2024-08-17T02:48:18.216Z"
   },
   {
    "duration": 450,
    "start_time": "2024-08-17T02:48:31.041Z"
   },
   {
    "duration": 872,
    "start_time": "2024-08-17T02:50:52.715Z"
   },
   {
    "duration": 128,
    "start_time": "2024-08-17T02:51:37.439Z"
   },
   {
    "duration": 127,
    "start_time": "2024-08-17T02:51:54.942Z"
   },
   {
    "duration": 128,
    "start_time": "2024-08-17T02:52:25.236Z"
   },
   {
    "duration": 124,
    "start_time": "2024-08-17T02:53:15.724Z"
   },
   {
    "duration": 150,
    "start_time": "2024-08-17T02:53:21.838Z"
   },
   {
    "duration": 132,
    "start_time": "2024-08-17T02:53:29.724Z"
   },
   {
    "duration": 128,
    "start_time": "2024-08-17T02:54:19.842Z"
   },
   {
    "duration": 125,
    "start_time": "2024-08-17T02:54:51.104Z"
   },
   {
    "duration": 130,
    "start_time": "2024-08-17T02:56:38.541Z"
   },
   {
    "duration": 124,
    "start_time": "2024-08-17T02:57:15.543Z"
   },
   {
    "duration": 146,
    "start_time": "2024-08-17T02:57:31.891Z"
   },
   {
    "duration": 150,
    "start_time": "2024-08-17T02:57:42.058Z"
   },
   {
    "duration": 123,
    "start_time": "2024-08-17T02:57:46.598Z"
   },
   {
    "duration": 122,
    "start_time": "2024-08-17T02:59:26.168Z"
   },
   {
    "duration": 128,
    "start_time": "2024-08-17T03:07:05.924Z"
   },
   {
    "duration": 131,
    "start_time": "2024-08-17T03:07:45.319Z"
   },
   {
    "duration": 128,
    "start_time": "2024-08-17T03:07:51.518Z"
   },
   {
    "duration": 132,
    "start_time": "2024-08-17T03:08:13.496Z"
   },
   {
    "duration": 125,
    "start_time": "2024-08-17T03:08:21.585Z"
   },
   {
    "duration": 12,
    "start_time": "2024-08-17T03:10:46.287Z"
   },
   {
    "duration": 28,
    "start_time": "2024-08-17T03:11:06.092Z"
   },
   {
    "duration": 46,
    "start_time": "2024-08-17T03:12:35.124Z"
   },
   {
    "duration": 60,
    "start_time": "2024-08-17T03:12:55.866Z"
   },
   {
    "duration": 62,
    "start_time": "2024-08-17T03:13:32.310Z"
   },
   {
    "duration": 61,
    "start_time": "2024-08-17T03:13:45.422Z"
   },
   {
    "duration": 8,
    "start_time": "2024-08-17T03:14:15.441Z"
   },
   {
    "duration": 7,
    "start_time": "2024-08-17T03:14:43.783Z"
   },
   {
    "duration": 8,
    "start_time": "2024-08-17T03:15:18.463Z"
   },
   {
    "duration": 29,
    "start_time": "2024-08-17T03:17:00.676Z"
   },
   {
    "duration": 0,
    "start_time": "2024-08-17T03:19:35.097Z"
   },
   {
    "duration": 313,
    "start_time": "2024-08-18T01:11:39.633Z"
   },
   {
    "duration": 689,
    "start_time": "2024-08-18T01:11:47.866Z"
   },
   {
    "duration": 255,
    "start_time": "2024-08-18T01:11:48.559Z"
   },
   {
    "duration": 98,
    "start_time": "2024-08-18T01:11:48.817Z"
   },
   {
    "duration": 1371,
    "start_time": "2024-08-18T01:11:48.919Z"
   },
   {
    "duration": 26,
    "start_time": "2024-08-18T01:11:50.292Z"
   },
   {
    "duration": 22,
    "start_time": "2024-08-18T01:11:50.321Z"
   },
   {
    "duration": 169,
    "start_time": "2024-08-18T01:11:50.346Z"
   },
   {
    "duration": 18,
    "start_time": "2024-08-18T01:11:50.518Z"
   },
   {
    "duration": 200,
    "start_time": "2024-08-18T01:11:50.539Z"
   },
   {
    "duration": 166,
    "start_time": "2024-08-18T01:11:50.747Z"
   },
   {
    "duration": 60,
    "start_time": "2024-08-18T01:11:50.916Z"
   },
   {
    "duration": 51,
    "start_time": "2024-08-18T01:11:50.979Z"
   },
   {
    "duration": 11,
    "start_time": "2024-08-18T01:11:51.033Z"
   },
   {
    "duration": 63,
    "start_time": "2024-08-18T01:11:51.048Z"
   },
   {
    "duration": 40,
    "start_time": "2024-08-18T01:11:51.117Z"
   },
   {
    "duration": 13,
    "start_time": "2024-08-18T01:11:51.162Z"
   },
   {
    "duration": 33,
    "start_time": "2024-08-18T01:11:51.178Z"
   },
   {
    "duration": 14,
    "start_time": "2024-08-18T01:11:51.214Z"
   },
   {
    "duration": 8,
    "start_time": "2024-08-18T01:11:51.231Z"
   },
   {
    "duration": 1326,
    "start_time": "2024-08-18T01:11:51.242Z"
   },
   {
    "duration": 1096,
    "start_time": "2024-08-18T01:11:52.571Z"
   },
   {
    "duration": 10,
    "start_time": "2024-08-18T01:11:53.670Z"
   },
   {
    "duration": 32,
    "start_time": "2024-08-18T01:11:53.684Z"
   },
   {
    "duration": 9,
    "start_time": "2024-08-18T01:11:53.720Z"
   },
   {
    "duration": 18,
    "start_time": "2024-08-18T01:11:53.731Z"
   },
   {
    "duration": 84,
    "start_time": "2024-08-18T01:11:53.753Z"
   },
   {
    "duration": 16,
    "start_time": "2024-08-18T01:11:53.839Z"
   },
   {
    "duration": 197,
    "start_time": "2024-08-18T01:11:53.862Z"
   },
   {
    "duration": 12,
    "start_time": "2024-08-18T01:11:54.062Z"
   },
   {
    "duration": 108,
    "start_time": "2024-08-18T01:11:54.077Z"
   },
   {
    "duration": 55,
    "start_time": "2024-08-18T01:11:54.188Z"
   },
   {
    "duration": 147,
    "start_time": "2024-08-18T01:11:54.246Z"
   },
   {
    "duration": 78,
    "start_time": "2024-08-18T01:11:54.395Z"
   },
   {
    "duration": 8,
    "start_time": "2024-08-18T01:11:54.475Z"
   },
   {
    "duration": 9,
    "start_time": "2024-08-18T01:11:54.509Z"
   },
   {
    "duration": 3866,
    "start_time": "2024-08-18T01:11:54.520Z"
   },
   {
    "duration": 32,
    "start_time": "2024-08-18T01:14:36.205Z"
   },
   {
    "duration": 16,
    "start_time": "2024-08-18T01:15:21.426Z"
   },
   {
    "duration": 16,
    "start_time": "2024-08-18T01:16:27.737Z"
   },
   {
    "duration": 31,
    "start_time": "2024-08-18T01:17:11.742Z"
   },
   {
    "duration": 21,
    "start_time": "2024-08-18T01:17:44.817Z"
   },
   {
    "duration": 192,
    "start_time": "2024-08-18T01:18:58.332Z"
   },
   {
    "duration": 9,
    "start_time": "2024-08-18T01:19:13.276Z"
   },
   {
    "duration": 187,
    "start_time": "2024-08-18T01:19:51.940Z"
   },
   {
    "duration": 338,
    "start_time": "2024-08-18T01:20:46.773Z"
   },
   {
    "duration": 1243,
    "start_time": "2024-08-18T01:21:02.617Z"
   },
   {
    "duration": 297,
    "start_time": "2024-08-18T01:21:06.635Z"
   },
   {
    "duration": 303,
    "start_time": "2024-08-18T01:21:33.274Z"
   },
   {
    "duration": 337,
    "start_time": "2024-08-18T01:22:04.174Z"
   },
   {
    "duration": 313,
    "start_time": "2024-08-18T01:23:51.321Z"
   },
   {
    "duration": 339,
    "start_time": "2024-08-18T01:23:58.534Z"
   },
   {
    "duration": 335,
    "start_time": "2024-08-18T01:24:07.992Z"
   },
   {
    "duration": 353,
    "start_time": "2024-08-18T01:24:17.227Z"
   },
   {
    "duration": 337,
    "start_time": "2024-08-18T01:24:22.161Z"
   },
   {
    "duration": 352,
    "start_time": "2024-08-18T01:24:49.906Z"
   },
   {
    "duration": 350,
    "start_time": "2024-08-18T01:24:54.642Z"
   },
   {
    "duration": 221,
    "start_time": "2024-08-18T01:26:00.731Z"
   },
   {
    "duration": 6,
    "start_time": "2024-08-18T01:28:27.717Z"
   },
   {
    "duration": 822,
    "start_time": "2024-08-18T01:28:32.944Z"
   },
   {
    "duration": 225,
    "start_time": "2024-08-18T01:29:54.062Z"
   },
   {
    "duration": 333,
    "start_time": "2024-08-18T01:30:21.278Z"
   },
   {
    "duration": 335,
    "start_time": "2024-08-18T01:30:32.534Z"
   },
   {
    "duration": 224,
    "start_time": "2024-08-18T01:32:02.582Z"
   },
   {
    "duration": 35,
    "start_time": "2024-08-18T01:32:38.700Z"
   },
   {
    "duration": 29,
    "start_time": "2024-08-18T01:33:15.898Z"
   },
   {
    "duration": 244,
    "start_time": "2024-08-18T01:34:33.482Z"
   },
   {
    "duration": 233,
    "start_time": "2024-08-18T01:34:41.232Z"
   },
   {
    "duration": 242,
    "start_time": "2024-08-18T01:34:52.052Z"
   },
   {
    "duration": 8,
    "start_time": "2024-08-18T01:35:58.779Z"
   },
   {
    "duration": 35,
    "start_time": "2024-08-18T01:36:03.705Z"
   },
   {
    "duration": 18,
    "start_time": "2024-08-18T01:36:34.650Z"
   },
   {
    "duration": 8,
    "start_time": "2024-08-18T01:36:40.674Z"
   },
   {
    "duration": 8,
    "start_time": "2024-08-18T01:36:55.475Z"
   },
   {
    "duration": 636,
    "start_time": "2024-08-18T01:37:46.559Z"
   },
   {
    "duration": 280,
    "start_time": "2024-08-18T01:37:47.199Z"
   },
   {
    "duration": 74,
    "start_time": "2024-08-18T01:37:47.482Z"
   },
   {
    "duration": 1269,
    "start_time": "2024-08-18T01:37:47.560Z"
   },
   {
    "duration": 16,
    "start_time": "2024-08-18T01:37:48.832Z"
   },
   {
    "duration": 25,
    "start_time": "2024-08-18T01:37:48.852Z"
   },
   {
    "duration": 194,
    "start_time": "2024-08-18T01:37:48.881Z"
   },
   {
    "duration": 31,
    "start_time": "2024-08-18T01:37:49.078Z"
   },
   {
    "duration": 189,
    "start_time": "2024-08-18T01:37:49.112Z"
   },
   {
    "duration": 161,
    "start_time": "2024-08-18T01:37:49.305Z"
   },
   {
    "duration": 67,
    "start_time": "2024-08-18T01:37:49.470Z"
   },
   {
    "duration": 28,
    "start_time": "2024-08-18T01:37:49.540Z"
   },
   {
    "duration": 10,
    "start_time": "2024-08-18T01:37:49.570Z"
   },
   {
    "duration": 35,
    "start_time": "2024-08-18T01:37:49.610Z"
   },
   {
    "duration": 61,
    "start_time": "2024-08-18T01:37:49.648Z"
   },
   {
    "duration": 12,
    "start_time": "2024-08-18T01:37:49.712Z"
   },
   {
    "duration": 7,
    "start_time": "2024-08-18T01:37:49.729Z"
   },
   {
    "duration": 13,
    "start_time": "2024-08-18T01:37:49.739Z"
   },
   {
    "duration": 8,
    "start_time": "2024-08-18T01:37:49.756Z"
   },
   {
    "duration": 1353,
    "start_time": "2024-08-18T01:37:49.766Z"
   },
   {
    "duration": 1110,
    "start_time": "2024-08-18T01:37:51.122Z"
   },
   {
    "duration": 12,
    "start_time": "2024-08-18T01:37:52.235Z"
   },
   {
    "duration": 11,
    "start_time": "2024-08-18T01:37:52.250Z"
   },
   {
    "duration": 44,
    "start_time": "2024-08-18T01:37:52.264Z"
   },
   {
    "duration": 18,
    "start_time": "2024-08-18T01:37:52.311Z"
   },
   {
    "duration": 40,
    "start_time": "2024-08-18T01:37:52.332Z"
   },
   {
    "duration": 47,
    "start_time": "2024-08-18T01:38:30.544Z"
   },
   {
    "duration": 25,
    "start_time": "2024-08-18T01:39:55.520Z"
   },
   {
    "duration": 50,
    "start_time": "2024-08-18T01:40:06.853Z"
   },
   {
    "duration": 35,
    "start_time": "2024-08-18T01:40:16.633Z"
   },
   {
    "duration": 159,
    "start_time": "2024-08-18T01:40:36.352Z"
   },
   {
    "duration": 34,
    "start_time": "2024-08-18T01:41:21.762Z"
   },
   {
    "duration": 24,
    "start_time": "2024-08-18T01:41:49.110Z"
   },
   {
    "duration": 13,
    "start_time": "2024-08-18T01:41:55.763Z"
   },
   {
    "duration": 145,
    "start_time": "2024-08-18T01:41:59.584Z"
   },
   {
    "duration": 16,
    "start_time": "2024-08-18T01:42:03.514Z"
   },
   {
    "duration": 11,
    "start_time": "2024-08-18T01:42:10.805Z"
   },
   {
    "duration": 708,
    "start_time": "2024-08-18T01:42:37.792Z"
   },
   {
    "duration": 283,
    "start_time": "2024-08-18T01:42:38.503Z"
   },
   {
    "duration": 72,
    "start_time": "2024-08-18T01:42:38.789Z"
   },
   {
    "duration": 1272,
    "start_time": "2024-08-18T01:42:38.865Z"
   },
   {
    "duration": 15,
    "start_time": "2024-08-18T01:42:40.140Z"
   },
   {
    "duration": 15,
    "start_time": "2024-08-18T01:42:40.158Z"
   },
   {
    "duration": 187,
    "start_time": "2024-08-18T01:42:40.176Z"
   },
   {
    "duration": 17,
    "start_time": "2024-08-18T01:42:40.366Z"
   },
   {
    "duration": 210,
    "start_time": "2024-08-18T01:42:40.387Z"
   },
   {
    "duration": 169,
    "start_time": "2024-08-18T01:42:40.603Z"
   },
   {
    "duration": 74,
    "start_time": "2024-08-18T01:42:40.775Z"
   },
   {
    "duration": 27,
    "start_time": "2024-08-18T01:42:40.852Z"
   },
   {
    "duration": 30,
    "start_time": "2024-08-18T01:42:40.882Z"
   },
   {
    "duration": 36,
    "start_time": "2024-08-18T01:42:40.915Z"
   },
   {
    "duration": 59,
    "start_time": "2024-08-18T01:42:40.954Z"
   },
   {
    "duration": 13,
    "start_time": "2024-08-18T01:42:41.016Z"
   },
   {
    "duration": 8,
    "start_time": "2024-08-18T01:42:41.032Z"
   },
   {
    "duration": 13,
    "start_time": "2024-08-18T01:42:41.043Z"
   },
   {
    "duration": 8,
    "start_time": "2024-08-18T01:42:41.058Z"
   },
   {
    "duration": 1313,
    "start_time": "2024-08-18T01:42:41.110Z"
   },
   {
    "duration": 1104,
    "start_time": "2024-08-18T01:42:42.426Z"
   },
   {
    "duration": 12,
    "start_time": "2024-08-18T01:42:43.532Z"
   },
   {
    "duration": 12,
    "start_time": "2024-08-18T01:42:43.547Z"
   },
   {
    "duration": 7,
    "start_time": "2024-08-18T01:42:43.562Z"
   },
   {
    "duration": 17,
    "start_time": "2024-08-18T01:42:43.609Z"
   },
   {
    "duration": 39,
    "start_time": "2024-08-18T01:42:43.629Z"
   },
   {
    "duration": 81,
    "start_time": "2024-08-18T01:42:43.671Z"
   },
   {
    "duration": 34,
    "start_time": "2024-08-18T01:42:55.442Z"
   },
   {
    "duration": 37,
    "start_time": "2024-08-18T01:44:10.425Z"
   },
   {
    "duration": 39,
    "start_time": "2024-08-18T01:44:35.142Z"
   },
   {
    "duration": 58,
    "start_time": "2024-08-18T01:44:41.298Z"
   },
   {
    "duration": 161,
    "start_time": "2024-08-18T01:45:25.193Z"
   },
   {
    "duration": 683,
    "start_time": "2024-08-18T01:46:12.485Z"
   },
   {
    "duration": 277,
    "start_time": "2024-08-18T01:46:13.171Z"
   },
   {
    "duration": 78,
    "start_time": "2024-08-18T01:46:13.452Z"
   },
   {
    "duration": 1325,
    "start_time": "2024-08-18T01:46:13.535Z"
   },
   {
    "duration": 16,
    "start_time": "2024-08-18T01:46:14.863Z"
   },
   {
    "duration": 34,
    "start_time": "2024-08-18T01:46:14.882Z"
   },
   {
    "duration": 190,
    "start_time": "2024-08-18T01:46:14.919Z"
   },
   {
    "duration": 20,
    "start_time": "2024-08-18T01:46:15.113Z"
   },
   {
    "duration": 217,
    "start_time": "2024-08-18T01:46:15.136Z"
   },
   {
    "duration": 176,
    "start_time": "2024-08-18T01:46:15.359Z"
   },
   {
    "duration": 77,
    "start_time": "2024-08-18T01:46:15.538Z"
   },
   {
    "duration": 28,
    "start_time": "2024-08-18T01:46:15.618Z"
   },
   {
    "duration": 10,
    "start_time": "2024-08-18T01:46:15.649Z"
   },
   {
    "duration": 64,
    "start_time": "2024-08-18T01:46:15.662Z"
   },
   {
    "duration": 39,
    "start_time": "2024-08-18T01:46:15.729Z"
   },
   {
    "duration": 40,
    "start_time": "2024-08-18T01:46:15.771Z"
   },
   {
    "duration": 11,
    "start_time": "2024-08-18T01:46:15.815Z"
   },
   {
    "duration": 15,
    "start_time": "2024-08-18T01:46:15.829Z"
   },
   {
    "duration": 9,
    "start_time": "2024-08-18T01:46:15.847Z"
   },
   {
    "duration": 1391,
    "start_time": "2024-08-18T01:46:15.859Z"
   },
   {
    "duration": 1145,
    "start_time": "2024-08-18T01:46:17.253Z"
   },
   {
    "duration": 15,
    "start_time": "2024-08-18T01:46:18.401Z"
   },
   {
    "duration": 12,
    "start_time": "2024-08-18T01:46:18.419Z"
   },
   {
    "duration": 8,
    "start_time": "2024-08-18T01:46:18.434Z"
   },
   {
    "duration": 18,
    "start_time": "2024-08-18T01:46:18.444Z"
   },
   {
    "duration": 50,
    "start_time": "2024-08-18T01:46:18.509Z"
   },
   {
    "duration": 75,
    "start_time": "2024-08-18T01:46:18.562Z"
   },
   {
    "duration": 60,
    "start_time": "2024-08-18T01:46:34.907Z"
   },
   {
    "duration": 78,
    "start_time": "2024-08-18T01:47:08.413Z"
   },
   {
    "duration": 35,
    "start_time": "2024-08-18T01:47:27.737Z"
   },
   {
    "duration": 39,
    "start_time": "2024-08-18T01:47:40.182Z"
   },
   {
    "duration": 37,
    "start_time": "2024-08-18T01:48:33.476Z"
   },
   {
    "duration": 42,
    "start_time": "2024-08-18T01:49:02.516Z"
   },
   {
    "duration": 53,
    "start_time": "2024-08-18T01:49:18.635Z"
   },
   {
    "duration": 150,
    "start_time": "2024-08-18T01:49:37.475Z"
   },
   {
    "duration": 12,
    "start_time": "2024-08-18T01:49:47.775Z"
   },
   {
    "duration": 3,
    "start_time": "2024-08-18T01:50:17.968Z"
   },
   {
    "duration": 192,
    "start_time": "2024-08-18T01:50:17.978Z"
   },
   {
    "duration": 71,
    "start_time": "2024-08-18T01:50:18.174Z"
   },
   {
    "duration": 1254,
    "start_time": "2024-08-18T01:50:18.248Z"
   },
   {
    "duration": 18,
    "start_time": "2024-08-18T01:50:19.504Z"
   },
   {
    "duration": 15,
    "start_time": "2024-08-18T01:50:19.528Z"
   },
   {
    "duration": 172,
    "start_time": "2024-08-18T01:50:19.546Z"
   },
   {
    "duration": 17,
    "start_time": "2024-08-18T01:50:19.720Z"
   },
   {
    "duration": 183,
    "start_time": "2024-08-18T01:50:19.740Z"
   },
   {
    "duration": 168,
    "start_time": "2024-08-18T01:50:19.927Z"
   },
   {
    "duration": 50,
    "start_time": "2024-08-18T01:50:20.098Z"
   },
   {
    "duration": 28,
    "start_time": "2024-08-18T01:50:20.150Z"
   },
   {
    "duration": 34,
    "start_time": "2024-08-18T01:50:20.181Z"
   },
   {
    "duration": 35,
    "start_time": "2024-08-18T01:50:20.218Z"
   },
   {
    "duration": 61,
    "start_time": "2024-08-18T01:50:20.259Z"
   },
   {
    "duration": 13,
    "start_time": "2024-08-18T01:50:20.323Z"
   },
   {
    "duration": 8,
    "start_time": "2024-08-18T01:50:20.340Z"
   },
   {
    "duration": 13,
    "start_time": "2024-08-18T01:50:20.351Z"
   },
   {
    "duration": 48,
    "start_time": "2024-08-18T01:50:20.367Z"
   },
   {
    "duration": 1312,
    "start_time": "2024-08-18T01:50:20.418Z"
   },
   {
    "duration": 1114,
    "start_time": "2024-08-18T01:50:21.734Z"
   },
   {
    "duration": 11,
    "start_time": "2024-08-18T01:50:22.850Z"
   },
   {
    "duration": 13,
    "start_time": "2024-08-18T01:50:22.864Z"
   },
   {
    "duration": 33,
    "start_time": "2024-08-18T01:50:22.880Z"
   },
   {
    "duration": 17,
    "start_time": "2024-08-18T01:50:22.916Z"
   },
   {
    "duration": 75,
    "start_time": "2024-08-18T01:50:22.937Z"
   },
   {
    "duration": 16,
    "start_time": "2024-08-18T01:50:23.015Z"
   },
   {
    "duration": 174,
    "start_time": "2024-08-18T01:50:23.034Z"
   },
   {
    "duration": 11,
    "start_time": "2024-08-18T01:50:23.211Z"
   },
   {
    "duration": 107,
    "start_time": "2024-08-18T01:50:23.225Z"
   },
   {
    "duration": 38,
    "start_time": "2024-08-18T01:50:23.335Z"
   },
   {
    "duration": 160,
    "start_time": "2024-08-18T01:50:23.376Z"
   },
   {
    "duration": 80,
    "start_time": "2024-08-18T01:50:23.539Z"
   },
   {
    "duration": 7,
    "start_time": "2024-08-18T01:50:23.623Z"
   },
   {
    "duration": 8,
    "start_time": "2024-08-18T01:50:23.633Z"
   },
   {
    "duration": 387,
    "start_time": "2024-08-18T01:50:23.644Z"
   },
   {
    "duration": 258,
    "start_time": "2024-08-18T01:50:24.033Z"
   },
   {
    "duration": 19,
    "start_time": "2024-08-18T01:50:24.294Z"
   },
   {
    "duration": 35,
    "start_time": "2024-08-18T01:51:03.222Z"
   },
   {
    "duration": 17,
    "start_time": "2024-08-18T01:51:30.489Z"
   },
   {
    "duration": 384,
    "start_time": "2024-08-18T01:52:27.605Z"
   },
   {
    "duration": 17,
    "start_time": "2024-08-18T02:01:26.506Z"
   },
   {
    "duration": 27,
    "start_time": "2024-08-18T02:03:18.321Z"
   },
   {
    "duration": 25,
    "start_time": "2024-08-18T02:03:32.177Z"
   },
   {
    "duration": 28,
    "start_time": "2024-08-18T02:03:57.102Z"
   },
   {
    "duration": 331,
    "start_time": "2024-08-18T02:04:52.202Z"
   },
   {
    "duration": 763,
    "start_time": "2024-08-18T02:05:17.059Z"
   },
   {
    "duration": 335,
    "start_time": "2024-08-18T02:05:22.192Z"
   },
   {
    "duration": 230,
    "start_time": "2024-08-18T02:05:47.727Z"
   },
   {
    "duration": 20,
    "start_time": "2024-08-18T02:06:39.234Z"
   },
   {
    "duration": 211,
    "start_time": "2024-08-18T02:06:47.355Z"
   },
   {
    "duration": 28,
    "start_time": "2024-08-18T02:07:27.606Z"
   },
   {
    "duration": 26,
    "start_time": "2024-08-18T02:07:39.480Z"
   },
   {
    "duration": 27,
    "start_time": "2024-08-18T02:07:44.159Z"
   },
   {
    "duration": 213,
    "start_time": "2024-08-18T02:08:45.092Z"
   },
   {
    "duration": 23,
    "start_time": "2024-08-18T02:09:26.721Z"
   },
   {
    "duration": 53,
    "start_time": "2024-08-18T02:11:27.469Z"
   },
   {
    "duration": 58,
    "start_time": "2024-08-18T02:11:34.039Z"
   },
   {
    "duration": 387,
    "start_time": "2024-08-18T02:12:17.794Z"
   },
   {
    "duration": 40,
    "start_time": "2024-08-18T02:13:06.195Z"
   },
   {
    "duration": 48,
    "start_time": "2024-08-18T02:13:25.347Z"
   },
   {
    "duration": 121,
    "start_time": "2024-08-18T02:13:57.029Z"
   },
   {
    "duration": 41,
    "start_time": "2024-08-18T02:14:02.639Z"
   },
   {
    "duration": 37,
    "start_time": "2024-08-18T02:14:34.330Z"
   },
   {
    "duration": 797,
    "start_time": "2024-08-18T02:14:48.987Z"
   },
   {
    "duration": 296,
    "start_time": "2024-08-18T02:15:00.179Z"
   },
   {
    "duration": 1334,
    "start_time": "2024-08-18T02:17:16.824Z"
   },
   {
    "duration": 362,
    "start_time": "2024-08-18T02:17:50.794Z"
   },
   {
    "duration": 361,
    "start_time": "2024-08-18T02:18:20.277Z"
   },
   {
    "duration": 376,
    "start_time": "2024-08-18T02:18:28.471Z"
   },
   {
    "duration": 375,
    "start_time": "2024-08-18T02:18:32.640Z"
   },
   {
    "duration": 492,
    "start_time": "2024-08-18T02:18:40.550Z"
   },
   {
    "duration": 329,
    "start_time": "2024-08-18T02:23:09.138Z"
   },
   {
    "duration": 340,
    "start_time": "2024-08-18T02:23:20.894Z"
   },
   {
    "duration": 861,
    "start_time": "2024-08-18T02:23:56.062Z"
   },
   {
    "duration": 63,
    "start_time": "2024-08-18T02:24:17.726Z"
   },
   {
    "duration": 44,
    "start_time": "2024-08-18T02:24:28.941Z"
   },
   {
    "duration": 43,
    "start_time": "2024-08-18T02:24:52.640Z"
   },
   {
    "duration": 44,
    "start_time": "2024-08-18T02:25:40.368Z"
   },
   {
    "duration": 215,
    "start_time": "2024-08-18T02:25:43.970Z"
   },
   {
    "duration": 125,
    "start_time": "2024-08-18T02:26:41.730Z"
   },
   {
    "duration": 41,
    "start_time": "2024-08-18T02:27:27.016Z"
   },
   {
    "duration": 48,
    "start_time": "2024-08-18T02:27:40.201Z"
   },
   {
    "duration": 220,
    "start_time": "2024-08-18T02:29:02.067Z"
   },
   {
    "duration": 294,
    "start_time": "2024-08-18T02:29:35.233Z"
   },
   {
    "duration": 868,
    "start_time": "2024-08-18T02:29:49.393Z"
   },
   {
    "duration": 69,
    "start_time": "2024-08-18T02:30:45.340Z"
   },
   {
    "duration": 235,
    "start_time": "2024-08-18T02:30:50.175Z"
   },
   {
    "duration": 3,
    "start_time": "2024-08-18T02:32:03.440Z"
   },
   {
    "duration": 276,
    "start_time": "2024-08-18T02:32:14.007Z"
   },
   {
    "duration": 150,
    "start_time": "2024-08-18T02:32:18.804Z"
   },
   {
    "duration": 149,
    "start_time": "2024-08-18T02:32:36.733Z"
   },
   {
    "duration": 834,
    "start_time": "2024-08-18T02:32:55.475Z"
   },
   {
    "duration": 134,
    "start_time": "2024-08-18T02:33:04.342Z"
   },
   {
    "duration": 124,
    "start_time": "2024-08-18T02:33:12.118Z"
   },
   {
    "duration": 108,
    "start_time": "2024-08-18T02:33:25.763Z"
   },
   {
    "duration": 110,
    "start_time": "2024-08-18T02:33:29.801Z"
   },
   {
    "duration": 681,
    "start_time": "2024-08-18T02:33:41.073Z"
   },
   {
    "duration": 111,
    "start_time": "2024-08-18T02:33:47.354Z"
   },
   {
    "duration": 148,
    "start_time": "2024-08-18T02:33:54.709Z"
   },
   {
    "duration": 281,
    "start_time": "2024-08-18T02:34:44.228Z"
   },
   {
    "duration": 1204,
    "start_time": "2024-08-18T02:35:58.470Z"
   },
   {
    "duration": 512,
    "start_time": "2024-08-18T02:36:10.104Z"
   },
   {
    "duration": 308,
    "start_time": "2024-08-18T02:36:30.625Z"
   },
   {
    "duration": 913,
    "start_time": "2024-08-18T02:36:49.482Z"
   },
   {
    "duration": 711,
    "start_time": "2024-08-18T02:37:33.160Z"
   },
   {
    "duration": 320,
    "start_time": "2024-08-18T02:37:45.538Z"
   },
   {
    "duration": 306,
    "start_time": "2024-08-18T02:39:25.225Z"
   },
   {
    "duration": 304,
    "start_time": "2024-08-18T02:39:29.565Z"
   },
   {
    "duration": 369,
    "start_time": "2024-08-18T02:39:34.566Z"
   },
   {
    "duration": 13,
    "start_time": "2024-08-18T02:42:54.107Z"
   },
   {
    "duration": 18,
    "start_time": "2024-08-18T02:45:01.053Z"
   },
   {
    "duration": 10,
    "start_time": "2024-08-18T02:45:54.692Z"
   },
   {
    "duration": 169,
    "start_time": "2024-08-18T02:46:38.308Z"
   },
   {
    "duration": 162,
    "start_time": "2024-08-18T02:46:51.738Z"
   },
   {
    "duration": 165,
    "start_time": "2024-08-18T02:46:58.669Z"
   },
   {
    "duration": 172,
    "start_time": "2024-08-18T02:48:08.872Z"
   },
   {
    "duration": 184,
    "start_time": "2024-08-18T02:48:23.867Z"
   },
   {
    "duration": 164,
    "start_time": "2024-08-18T02:48:34.113Z"
   },
   {
    "duration": 165,
    "start_time": "2024-08-18T02:48:47.422Z"
   },
   {
    "duration": 189,
    "start_time": "2024-08-18T02:50:50.429Z"
   },
   {
    "duration": 194,
    "start_time": "2024-08-18T02:50:55.777Z"
   },
   {
    "duration": 184,
    "start_time": "2024-08-18T02:51:29.322Z"
   },
   {
    "duration": 155,
    "start_time": "2024-08-18T02:51:36.501Z"
   },
   {
    "duration": 200,
    "start_time": "2024-08-18T02:51:46.072Z"
   },
   {
    "duration": 663,
    "start_time": "2024-08-18T02:53:43.334Z"
   },
   {
    "duration": 176,
    "start_time": "2024-08-18T02:54:30.439Z"
   },
   {
    "duration": 182,
    "start_time": "2024-08-18T02:56:34.837Z"
   },
   {
    "duration": 185,
    "start_time": "2024-08-18T02:57:00.006Z"
   },
   {
    "duration": 155,
    "start_time": "2024-08-18T02:58:30.081Z"
   },
   {
    "duration": 160,
    "start_time": "2024-08-18T02:58:39.234Z"
   },
   {
    "duration": 161,
    "start_time": "2024-08-18T03:02:58.414Z"
   },
   {
    "duration": 167,
    "start_time": "2024-08-18T03:03:08.455Z"
   },
   {
    "duration": 159,
    "start_time": "2024-08-18T03:03:12.460Z"
   },
   {
    "duration": 152,
    "start_time": "2024-08-18T03:04:45.735Z"
   },
   {
    "duration": 165,
    "start_time": "2024-08-18T03:04:55.498Z"
   },
   {
    "duration": 165,
    "start_time": "2024-08-18T03:06:32.543Z"
   },
   {
    "duration": 156,
    "start_time": "2024-08-18T03:07:39.068Z"
   },
   {
    "duration": 163,
    "start_time": "2024-08-18T03:08:06.252Z"
   },
   {
    "duration": 158,
    "start_time": "2024-08-18T03:08:49.697Z"
   },
   {
    "duration": 158,
    "start_time": "2024-08-18T03:09:46.574Z"
   },
   {
    "duration": 166,
    "start_time": "2024-08-18T03:11:34.672Z"
   },
   {
    "duration": 8,
    "start_time": "2024-08-18T03:12:05.002Z"
   },
   {
    "duration": 158,
    "start_time": "2024-08-18T03:12:16.879Z"
   },
   {
    "duration": 172,
    "start_time": "2024-08-18T03:12:28.894Z"
   },
   {
    "duration": 167,
    "start_time": "2024-08-18T03:12:35.074Z"
   },
   {
    "duration": 202,
    "start_time": "2024-08-18T03:12:40.602Z"
   },
   {
    "duration": 663,
    "start_time": "2024-08-18T15:47:25.077Z"
   },
   {
    "duration": 268,
    "start_time": "2024-08-18T15:47:25.743Z"
   },
   {
    "duration": 66,
    "start_time": "2024-08-18T15:47:26.014Z"
   },
   {
    "duration": 1301,
    "start_time": "2024-08-18T15:47:26.085Z"
   },
   {
    "duration": 22,
    "start_time": "2024-08-18T15:47:27.390Z"
   },
   {
    "duration": 20,
    "start_time": "2024-08-18T15:47:27.415Z"
   },
   {
    "duration": 192,
    "start_time": "2024-08-18T15:47:27.438Z"
   },
   {
    "duration": 18,
    "start_time": "2024-08-18T15:47:27.633Z"
   },
   {
    "duration": 201,
    "start_time": "2024-08-18T15:47:27.653Z"
   },
   {
    "duration": 167,
    "start_time": "2024-08-18T15:47:27.861Z"
   },
   {
    "duration": 76,
    "start_time": "2024-08-18T15:47:28.032Z"
   },
   {
    "duration": 30,
    "start_time": "2024-08-18T15:47:28.111Z"
   },
   {
    "duration": 10,
    "start_time": "2024-08-18T15:47:28.143Z"
   },
   {
    "duration": 67,
    "start_time": "2024-08-18T15:47:28.156Z"
   },
   {
    "duration": 33,
    "start_time": "2024-08-18T15:47:28.226Z"
   },
   {
    "duration": 13,
    "start_time": "2024-08-18T15:47:28.262Z"
   },
   {
    "duration": 8,
    "start_time": "2024-08-18T15:47:28.308Z"
   },
   {
    "duration": 13,
    "start_time": "2024-08-18T15:47:28.319Z"
   },
   {
    "duration": 8,
    "start_time": "2024-08-18T15:47:28.336Z"
   },
   {
    "duration": 1354,
    "start_time": "2024-08-18T15:47:28.347Z"
   },
   {
    "duration": 1130,
    "start_time": "2024-08-18T15:47:29.708Z"
   },
   {
    "duration": 11,
    "start_time": "2024-08-18T15:47:30.841Z"
   },
   {
    "duration": 12,
    "start_time": "2024-08-18T15:47:30.855Z"
   },
   {
    "duration": 40,
    "start_time": "2024-08-18T15:47:30.870Z"
   },
   {
    "duration": 20,
    "start_time": "2024-08-18T15:47:30.913Z"
   },
   {
    "duration": 75,
    "start_time": "2024-08-18T15:47:30.935Z"
   },
   {
    "duration": 21,
    "start_time": "2024-08-18T15:47:31.014Z"
   },
   {
    "duration": 185,
    "start_time": "2024-08-18T15:47:31.044Z"
   },
   {
    "duration": 11,
    "start_time": "2024-08-18T15:47:31.233Z"
   },
   {
    "duration": 118,
    "start_time": "2024-08-18T15:47:31.247Z"
   },
   {
    "duration": 51,
    "start_time": "2024-08-18T15:47:31.368Z"
   },
   {
    "duration": 143,
    "start_time": "2024-08-18T15:47:31.422Z"
   },
   {
    "duration": 85,
    "start_time": "2024-08-18T15:47:31.568Z"
   },
   {
    "duration": 7,
    "start_time": "2024-08-18T15:47:31.656Z"
   },
   {
    "duration": 7,
    "start_time": "2024-08-18T15:47:31.666Z"
   },
   {
    "duration": 393,
    "start_time": "2024-08-18T15:47:31.676Z"
   },
   {
    "duration": 246,
    "start_time": "2024-08-18T15:47:32.072Z"
   },
   {
    "duration": 395,
    "start_time": "2024-08-18T15:47:32.321Z"
   },
   {
    "duration": 348,
    "start_time": "2024-08-18T15:47:32.719Z"
   },
   {
    "duration": 356,
    "start_time": "2024-08-18T15:47:33.070Z"
   },
   {
    "duration": 15,
    "start_time": "2024-08-18T15:47:33.429Z"
   },
   {
    "duration": 189,
    "start_time": "2024-08-18T15:47:33.447Z"
   },
   {
    "duration": 188,
    "start_time": "2024-08-18T15:57:10.220Z"
   },
   {
    "duration": 160,
    "start_time": "2024-08-18T15:57:41.554Z"
   },
   {
    "duration": 158,
    "start_time": "2024-08-18T15:57:45.539Z"
   },
   {
    "duration": 584,
    "start_time": "2024-08-18T15:58:28.742Z"
   },
   {
    "duration": 173,
    "start_time": "2024-08-18T15:59:41.676Z"
   },
   {
    "duration": 12,
    "start_time": "2024-08-18T16:02:54.618Z"
   },
   {
    "duration": 56,
    "start_time": "2024-08-18T16:03:11.564Z"
   },
   {
    "duration": 59,
    "start_time": "2024-08-18T16:06:06.890Z"
   },
   {
    "duration": 153,
    "start_time": "2024-08-18T16:07:09.918Z"
   },
   {
    "duration": 162,
    "start_time": "2024-08-18T16:07:46.385Z"
   },
   {
    "duration": 165,
    "start_time": "2024-08-18T16:08:11.569Z"
   },
   {
    "duration": 159,
    "start_time": "2024-08-18T16:09:21.756Z"
   },
   {
    "duration": 159,
    "start_time": "2024-08-18T16:10:18.197Z"
   },
   {
    "duration": 162,
    "start_time": "2024-08-18T16:10:45.389Z"
   },
   {
    "duration": 154,
    "start_time": "2024-08-18T16:10:53.745Z"
   },
   {
    "duration": 155,
    "start_time": "2024-08-18T16:11:03.473Z"
   },
   {
    "duration": 56,
    "start_time": "2024-08-18T16:15:12.821Z"
   },
   {
    "duration": 56,
    "start_time": "2024-08-18T16:19:58.816Z"
   },
   {
    "duration": 56,
    "start_time": "2024-08-18T16:21:29.141Z"
   },
   {
    "duration": 703,
    "start_time": "2024-08-18T16:27:10.288Z"
   },
   {
    "duration": 268,
    "start_time": "2024-08-18T16:27:10.994Z"
   },
   {
    "duration": 75,
    "start_time": "2024-08-18T16:27:11.265Z"
   },
   {
    "duration": 1306,
    "start_time": "2024-08-18T16:27:11.345Z"
   },
   {
    "duration": 17,
    "start_time": "2024-08-18T16:27:12.656Z"
   },
   {
    "duration": 33,
    "start_time": "2024-08-18T16:27:12.676Z"
   },
   {
    "duration": 183,
    "start_time": "2024-08-18T16:27:12.712Z"
   },
   {
    "duration": 27,
    "start_time": "2024-08-18T16:27:12.898Z"
   },
   {
    "duration": 206,
    "start_time": "2024-08-18T16:27:12.928Z"
   },
   {
    "duration": 165,
    "start_time": "2024-08-18T16:27:13.141Z"
   },
   {
    "duration": 58,
    "start_time": "2024-08-18T16:27:13.310Z"
   },
   {
    "duration": 57,
    "start_time": "2024-08-18T16:27:13.371Z"
   },
   {
    "duration": 10,
    "start_time": "2024-08-18T16:27:13.431Z"
   },
   {
    "duration": 36,
    "start_time": "2024-08-18T16:27:13.444Z"
   },
   {
    "duration": 58,
    "start_time": "2024-08-18T16:27:13.482Z"
   },
   {
    "duration": 13,
    "start_time": "2024-08-18T16:27:13.542Z"
   },
   {
    "duration": 9,
    "start_time": "2024-08-18T16:27:13.558Z"
   },
   {
    "duration": 49,
    "start_time": "2024-08-18T16:27:13.570Z"
   },
   {
    "duration": 10,
    "start_time": "2024-08-18T16:27:13.622Z"
   },
   {
    "duration": 1431,
    "start_time": "2024-08-18T16:27:13.635Z"
   },
   {
    "duration": 1140,
    "start_time": "2024-08-18T16:27:15.069Z"
   },
   {
    "duration": 12,
    "start_time": "2024-08-18T16:27:16.212Z"
   },
   {
    "duration": 13,
    "start_time": "2024-08-18T16:27:16.227Z"
   },
   {
    "duration": 8,
    "start_time": "2024-08-18T16:27:16.243Z"
   },
   {
    "duration": 56,
    "start_time": "2024-08-18T16:27:16.253Z"
   },
   {
    "duration": 43,
    "start_time": "2024-08-18T16:27:16.312Z"
   },
   {
    "duration": 18,
    "start_time": "2024-08-18T16:27:16.358Z"
   },
   {
    "duration": 169,
    "start_time": "2024-08-18T16:27:16.407Z"
   },
   {
    "duration": 11,
    "start_time": "2024-08-18T16:27:16.579Z"
   },
   {
    "duration": 101,
    "start_time": "2024-08-18T16:27:16.609Z"
   },
   {
    "duration": 40,
    "start_time": "2024-08-18T16:27:16.714Z"
   },
   {
    "duration": 154,
    "start_time": "2024-08-18T16:27:16.757Z"
   },
   {
    "duration": 70,
    "start_time": "2024-08-18T16:27:16.914Z"
   },
   {
    "duration": 26,
    "start_time": "2024-08-18T16:27:16.987Z"
   },
   {
    "duration": 8,
    "start_time": "2024-08-18T16:27:17.019Z"
   },
   {
    "duration": 399,
    "start_time": "2024-08-18T16:27:17.031Z"
   },
   {
    "duration": 244,
    "start_time": "2024-08-18T16:27:17.433Z"
   },
   {
    "duration": 405,
    "start_time": "2024-08-18T16:27:17.680Z"
   },
   {
    "duration": 343,
    "start_time": "2024-08-18T16:27:18.089Z"
   },
   {
    "duration": 351,
    "start_time": "2024-08-18T16:27:18.435Z"
   },
   {
    "duration": 23,
    "start_time": "2024-08-18T16:27:18.788Z"
   },
   {
    "duration": 185,
    "start_time": "2024-08-18T16:27:18.814Z"
   },
   {
    "duration": 171,
    "start_time": "2024-08-18T16:27:19.008Z"
   },
   {
    "duration": 261,
    "start_time": "2024-08-18T16:27:19.182Z"
   },
   {
    "duration": 72,
    "start_time": "2024-08-18T16:27:19.446Z"
   },
   {
    "duration": 57,
    "start_time": "2024-08-18T16:27:19.521Z"
   },
   {
    "duration": 369,
    "start_time": "2024-08-18T16:41:14.552Z"
   },
   {
    "duration": 6,
    "start_time": "2024-08-18T16:42:54.974Z"
   },
   {
    "duration": 6,
    "start_time": "2024-08-18T16:43:22.465Z"
   },
   {
    "duration": 6,
    "start_time": "2024-08-18T16:43:33.102Z"
   },
   {
    "duration": 12,
    "start_time": "2024-08-18T16:43:48.524Z"
   },
   {
    "duration": 7,
    "start_time": "2024-08-18T16:43:53.327Z"
   },
   {
    "duration": 6,
    "start_time": "2024-08-18T16:44:15.828Z"
   },
   {
    "duration": 7,
    "start_time": "2024-08-18T16:44:20.857Z"
   },
   {
    "duration": 1531,
    "start_time": "2024-08-18T16:47:42.167Z"
   },
   {
    "duration": 376,
    "start_time": "2024-08-18T16:47:55.946Z"
   },
   {
    "duration": 379,
    "start_time": "2024-08-18T16:48:13.120Z"
   },
   {
    "duration": 228,
    "start_time": "2024-08-18T16:48:30.075Z"
   },
   {
    "duration": 200,
    "start_time": "2024-08-18T16:48:38.647Z"
   },
   {
    "duration": 243,
    "start_time": "2024-08-18T16:48:44.234Z"
   },
   {
    "duration": 5,
    "start_time": "2024-08-18T16:50:17.616Z"
   },
   {
    "duration": 6,
    "start_time": "2024-08-18T16:50:56.384Z"
   },
   {
    "duration": 6,
    "start_time": "2024-08-18T16:51:36.944Z"
   },
   {
    "duration": 6,
    "start_time": "2024-08-18T16:51:54.291Z"
   },
   {
    "duration": 6,
    "start_time": "2024-08-18T16:52:03.281Z"
   },
   {
    "duration": 6,
    "start_time": "2024-08-18T16:52:13.543Z"
   },
   {
    "duration": 5,
    "start_time": "2024-08-18T16:52:51.408Z"
   },
   {
    "duration": 5,
    "start_time": "2024-08-18T16:54:11.709Z"
   },
   {
    "duration": 5,
    "start_time": "2024-08-18T16:54:41.829Z"
   },
   {
    "duration": 8,
    "start_time": "2024-08-18T16:54:52.998Z"
   },
   {
    "duration": 382,
    "start_time": "2024-08-18T16:58:20.821Z"
   },
   {
    "duration": 370,
    "start_time": "2024-08-18T16:59:15.269Z"
   },
   {
    "duration": 676,
    "start_time": "2024-08-18T17:00:04.141Z"
   },
   {
    "duration": 278,
    "start_time": "2024-08-18T17:00:04.821Z"
   },
   {
    "duration": 70,
    "start_time": "2024-08-18T17:00:05.109Z"
   },
   {
    "duration": 1304,
    "start_time": "2024-08-18T17:00:05.182Z"
   },
   {
    "duration": 23,
    "start_time": "2024-08-18T17:00:06.491Z"
   },
   {
    "duration": 17,
    "start_time": "2024-08-18T17:00:06.518Z"
   },
   {
    "duration": 183,
    "start_time": "2024-08-18T17:00:06.539Z"
   },
   {
    "duration": 18,
    "start_time": "2024-08-18T17:00:06.726Z"
   },
   {
    "duration": 201,
    "start_time": "2024-08-18T17:00:06.747Z"
   },
   {
    "duration": 166,
    "start_time": "2024-08-18T17:00:06.951Z"
   },
   {
    "duration": 62,
    "start_time": "2024-08-18T17:00:07.120Z"
   },
   {
    "duration": 41,
    "start_time": "2024-08-18T17:00:07.188Z"
   },
   {
    "duration": 12,
    "start_time": "2024-08-18T17:00:07.232Z"
   },
   {
    "duration": 63,
    "start_time": "2024-08-18T17:00:07.251Z"
   },
   {
    "duration": 39,
    "start_time": "2024-08-18T17:00:07.318Z"
   },
   {
    "duration": 17,
    "start_time": "2024-08-18T17:00:07.363Z"
   },
   {
    "duration": 29,
    "start_time": "2024-08-18T17:00:07.384Z"
   },
   {
    "duration": 14,
    "start_time": "2024-08-18T17:00:07.416Z"
   },
   {
    "duration": 8,
    "start_time": "2024-08-18T17:00:07.434Z"
   },
   {
    "duration": 1357,
    "start_time": "2024-08-18T17:00:07.445Z"
   },
   {
    "duration": 1118,
    "start_time": "2024-08-18T17:00:08.809Z"
   },
   {
    "duration": 11,
    "start_time": "2024-08-18T17:00:09.930Z"
   },
   {
    "duration": 13,
    "start_time": "2024-08-18T17:00:09.945Z"
   },
   {
    "duration": 8,
    "start_time": "2024-08-18T17:00:09.961Z"
   },
   {
    "duration": 18,
    "start_time": "2024-08-18T17:00:10.008Z"
   },
   {
    "duration": 37,
    "start_time": "2024-08-18T17:00:10.029Z"
   },
   {
    "duration": 48,
    "start_time": "2024-08-18T17:00:10.068Z"
   },
   {
    "duration": 167,
    "start_time": "2024-08-18T17:00:10.119Z"
   },
   {
    "duration": 25,
    "start_time": "2024-08-18T17:00:10.290Z"
   },
   {
    "duration": 109,
    "start_time": "2024-08-18T17:00:10.318Z"
   },
   {
    "duration": 38,
    "start_time": "2024-08-18T17:00:10.430Z"
   },
   {
    "duration": 156,
    "start_time": "2024-08-18T17:00:10.471Z"
   },
   {
    "duration": 89,
    "start_time": "2024-08-18T17:00:10.629Z"
   },
   {
    "duration": 8,
    "start_time": "2024-08-18T17:00:10.721Z"
   },
   {
    "duration": 8,
    "start_time": "2024-08-18T17:00:10.732Z"
   },
   {
    "duration": 403,
    "start_time": "2024-08-18T17:00:10.743Z"
   },
   {
    "duration": 256,
    "start_time": "2024-08-18T17:00:11.150Z"
   },
   {
    "duration": 6,
    "start_time": "2024-08-18T17:00:11.410Z"
   },
   {
    "duration": 394,
    "start_time": "2024-08-18T17:00:11.419Z"
   },
   {
    "duration": 8,
    "start_time": "2024-08-18T17:00:11.817Z"
   },
   {
    "duration": 396,
    "start_time": "2024-08-18T17:00:11.833Z"
   },
   {
    "duration": 344,
    "start_time": "2024-08-18T17:00:12.232Z"
   },
   {
    "duration": 358,
    "start_time": "2024-08-18T17:00:12.579Z"
   },
   {
    "duration": 14,
    "start_time": "2024-08-18T17:00:12.940Z"
   },
   {
    "duration": 192,
    "start_time": "2024-08-18T17:00:12.957Z"
   },
   {
    "duration": 171,
    "start_time": "2024-08-18T17:00:13.151Z"
   },
   {
    "duration": 264,
    "start_time": "2024-08-18T17:00:13.325Z"
   },
   {
    "duration": 70,
    "start_time": "2024-08-18T17:00:13.592Z"
   },
   {
    "duration": 72,
    "start_time": "2024-08-18T17:00:13.665Z"
   },
   {
    "duration": 309,
    "start_time": "2024-08-18T23:33:26.317Z"
   },
   {
    "duration": 4496,
    "start_time": "2024-08-18T23:33:34.149Z"
   },
   {
    "duration": 268,
    "start_time": "2024-08-18T23:33:38.649Z"
   },
   {
    "duration": 106,
    "start_time": "2024-08-18T23:33:38.921Z"
   },
   {
    "duration": 1406,
    "start_time": "2024-08-18T23:33:39.030Z"
   },
   {
    "duration": 19,
    "start_time": "2024-08-18T23:33:40.441Z"
   },
   {
    "duration": 19,
    "start_time": "2024-08-18T23:33:40.463Z"
   },
   {
    "duration": 19,
    "start_time": "2024-08-18T23:33:40.509Z"
   },
   {
    "duration": 210,
    "start_time": "2024-08-18T23:33:40.531Z"
   },
   {
    "duration": 20,
    "start_time": "2024-08-18T23:33:40.744Z"
   },
   {
    "duration": 225,
    "start_time": "2024-08-18T23:33:40.767Z"
   },
   {
    "duration": 193,
    "start_time": "2024-08-18T23:33:40.995Z"
   },
   {
    "duration": 76,
    "start_time": "2024-08-18T23:33:41.191Z"
   },
   {
    "duration": 53,
    "start_time": "2024-08-18T23:33:41.271Z"
   },
   {
    "duration": 9,
    "start_time": "2024-08-18T23:33:41.331Z"
   },
   {
    "duration": 66,
    "start_time": "2024-08-18T23:33:41.343Z"
   },
   {
    "duration": 34,
    "start_time": "2024-08-18T23:33:41.412Z"
   },
   {
    "duration": 17,
    "start_time": "2024-08-18T23:33:41.450Z"
   },
   {
    "duration": 41,
    "start_time": "2024-08-18T23:33:41.472Z"
   },
   {
    "duration": 15,
    "start_time": "2024-08-18T23:33:41.517Z"
   },
   {
    "duration": 8,
    "start_time": "2024-08-18T23:33:41.535Z"
   },
   {
    "duration": 1444,
    "start_time": "2024-08-18T23:33:41.546Z"
   },
   {
    "duration": 1196,
    "start_time": "2024-08-18T23:33:42.993Z"
   },
   {
    "duration": 18,
    "start_time": "2024-08-18T23:33:44.192Z"
   },
   {
    "duration": 12,
    "start_time": "2024-08-18T23:33:44.213Z"
   },
   {
    "duration": 7,
    "start_time": "2024-08-18T23:33:44.228Z"
   },
   {
    "duration": 16,
    "start_time": "2024-08-18T23:33:44.238Z"
   },
   {
    "duration": 93,
    "start_time": "2024-08-18T23:33:44.259Z"
   },
   {
    "duration": 17,
    "start_time": "2024-08-18T23:33:44.356Z"
   },
   {
    "duration": 204,
    "start_time": "2024-08-18T23:33:44.377Z"
   },
   {
    "duration": 15,
    "start_time": "2024-08-18T23:33:44.583Z"
   },
   {
    "duration": 130,
    "start_time": "2024-08-18T23:33:44.601Z"
   },
   {
    "duration": 39,
    "start_time": "2024-08-18T23:33:44.734Z"
   },
   {
    "duration": 164,
    "start_time": "2024-08-18T23:33:44.776Z"
   },
   {
    "duration": 91,
    "start_time": "2024-08-18T23:33:44.945Z"
   },
   {
    "duration": 8,
    "start_time": "2024-08-18T23:33:45.040Z"
   },
   {
    "duration": 8,
    "start_time": "2024-08-18T23:33:45.051Z"
   },
   {
    "duration": 473,
    "start_time": "2024-08-18T23:33:45.063Z"
   },
   {
    "duration": 270,
    "start_time": "2024-08-18T23:33:45.540Z"
   },
   {
    "duration": 7,
    "start_time": "2024-08-18T23:33:45.813Z"
   },
   {
    "duration": 407,
    "start_time": "2024-08-18T23:33:45.824Z"
   },
   {
    "duration": 8,
    "start_time": "2024-08-18T23:33:46.241Z"
   },
   {
    "duration": 410,
    "start_time": "2024-08-18T23:33:46.253Z"
   },
   {
    "duration": 363,
    "start_time": "2024-08-18T23:33:46.666Z"
   },
   {
    "duration": 359,
    "start_time": "2024-08-18T23:33:47.032Z"
   },
   {
    "duration": 23,
    "start_time": "2024-08-18T23:33:47.394Z"
   },
   {
    "duration": 195,
    "start_time": "2024-08-18T23:33:47.420Z"
   },
   {
    "duration": 185,
    "start_time": "2024-08-18T23:33:47.617Z"
   },
   {
    "duration": 282,
    "start_time": "2024-08-18T23:33:47.810Z"
   },
   {
    "duration": 72,
    "start_time": "2024-08-18T23:33:48.095Z"
   },
   {
    "duration": 83,
    "start_time": "2024-08-18T23:33:48.171Z"
   },
   {
    "duration": 7,
    "start_time": "2024-08-18T23:35:50.492Z"
   },
   {
    "duration": 11,
    "start_time": "2024-08-18T23:36:25.824Z"
   },
   {
    "duration": 10,
    "start_time": "2024-08-18T23:38:25.303Z"
   },
   {
    "duration": 432,
    "start_time": "2024-08-18T23:41:52.228Z"
   },
   {
    "duration": 10,
    "start_time": "2024-08-18T23:41:55.665Z"
   },
   {
    "duration": 9,
    "start_time": "2024-08-18T23:41:59.948Z"
   },
   {
    "duration": 9,
    "start_time": "2024-08-18T23:42:29.898Z"
   },
   {
    "duration": 202,
    "start_time": "2024-08-18T23:44:08.498Z"
   },
   {
    "duration": 29,
    "start_time": "2024-08-19T00:04:58.819Z"
   },
   {
    "duration": 15,
    "start_time": "2024-08-19T00:05:30.460Z"
   },
   {
    "duration": 16,
    "start_time": "2024-08-19T00:05:35.456Z"
   },
   {
    "duration": 10,
    "start_time": "2024-08-19T00:17:28.997Z"
   },
   {
    "duration": 11,
    "start_time": "2024-08-19T00:17:41.158Z"
   },
   {
    "duration": 11,
    "start_time": "2024-08-19T00:17:56.754Z"
   },
   {
    "duration": 4,
    "start_time": "2024-08-19T00:18:58.180Z"
   },
   {
    "duration": 203,
    "start_time": "2024-08-19T00:18:58.188Z"
   },
   {
    "duration": 67,
    "start_time": "2024-08-19T00:18:58.394Z"
   },
   {
    "duration": 1274,
    "start_time": "2024-08-19T00:18:58.464Z"
   },
   {
    "duration": 15,
    "start_time": "2024-08-19T00:18:59.743Z"
   },
   {
    "duration": 17,
    "start_time": "2024-08-19T00:18:59.761Z"
   },
   {
    "duration": 35,
    "start_time": "2024-08-19T00:18:59.781Z"
   },
   {
    "duration": 11,
    "start_time": "2024-08-19T00:18:59.819Z"
   },
   {
    "duration": 10,
    "start_time": "2024-08-19T00:18:59.834Z"
   },
   {
    "duration": 10,
    "start_time": "2024-08-19T00:18:59.848Z"
   },
   {
    "duration": 54,
    "start_time": "2024-08-19T00:18:59.861Z"
   },
   {
    "duration": 173,
    "start_time": "2024-08-19T00:18:59.918Z"
   },
   {
    "duration": 26,
    "start_time": "2024-08-19T00:19:00.095Z"
   },
   {
    "duration": 184,
    "start_time": "2024-08-19T00:19:00.128Z"
   },
   {
    "duration": 157,
    "start_time": "2024-08-19T00:19:00.315Z"
   },
   {
    "duration": 69,
    "start_time": "2024-08-19T00:19:00.475Z"
   },
   {
    "duration": 29,
    "start_time": "2024-08-19T00:19:00.547Z"
   },
   {
    "duration": 33,
    "start_time": "2024-08-19T00:19:00.579Z"
   },
   {
    "duration": 40,
    "start_time": "2024-08-19T00:19:00.614Z"
   },
   {
    "duration": 61,
    "start_time": "2024-08-19T00:19:00.656Z"
   },
   {
    "duration": 17,
    "start_time": "2024-08-19T00:19:00.720Z"
   },
   {
    "duration": 10,
    "start_time": "2024-08-19T00:19:00.740Z"
   },
   {
    "duration": 13,
    "start_time": "2024-08-19T00:19:00.753Z"
   },
   {
    "duration": 8,
    "start_time": "2024-08-19T00:19:00.808Z"
   },
   {
    "duration": 1310,
    "start_time": "2024-08-19T00:19:00.819Z"
   },
   {
    "duration": 666,
    "start_time": "2024-08-19T00:19:11.979Z"
   },
   {
    "duration": 284,
    "start_time": "2024-08-19T00:19:12.649Z"
   },
   {
    "duration": 74,
    "start_time": "2024-08-19T00:19:12.936Z"
   },
   {
    "duration": 1282,
    "start_time": "2024-08-19T00:19:13.013Z"
   },
   {
    "duration": 25,
    "start_time": "2024-08-19T00:19:14.298Z"
   },
   {
    "duration": 16,
    "start_time": "2024-08-19T00:19:14.327Z"
   },
   {
    "duration": 17,
    "start_time": "2024-08-19T00:19:14.346Z"
   },
   {
    "duration": 44,
    "start_time": "2024-08-19T00:19:14.366Z"
   },
   {
    "duration": 11,
    "start_time": "2024-08-19T00:19:14.413Z"
   },
   {
    "duration": 10,
    "start_time": "2024-08-19T00:19:14.430Z"
   },
   {
    "duration": 9,
    "start_time": "2024-08-19T00:19:14.443Z"
   },
   {
    "duration": 229,
    "start_time": "2024-08-19T00:19:14.455Z"
   },
   {
    "duration": 27,
    "start_time": "2024-08-19T00:19:14.686Z"
   },
   {
    "duration": 219,
    "start_time": "2024-08-19T00:19:14.716Z"
   },
   {
    "duration": 164,
    "start_time": "2024-08-19T00:19:14.938Z"
   },
   {
    "duration": 59,
    "start_time": "2024-08-19T00:19:15.105Z"
   },
   {
    "duration": 52,
    "start_time": "2024-08-19T00:19:15.167Z"
   },
   {
    "duration": 10,
    "start_time": "2024-08-19T00:19:15.222Z"
   },
   {
    "duration": 35,
    "start_time": "2024-08-19T00:19:15.237Z"
   },
   {
    "duration": 61,
    "start_time": "2024-08-19T00:19:15.274Z"
   },
   {
    "duration": 13,
    "start_time": "2024-08-19T00:19:15.337Z"
   },
   {
    "duration": 9,
    "start_time": "2024-08-19T00:19:15.353Z"
   },
   {
    "duration": 53,
    "start_time": "2024-08-19T00:19:15.365Z"
   },
   {
    "duration": 10,
    "start_time": "2024-08-19T00:19:15.421Z"
   },
   {
    "duration": 1347,
    "start_time": "2024-08-19T00:19:15.434Z"
   },
   {
    "duration": 1155,
    "start_time": "2024-08-19T00:19:16.784Z"
   },
   {
    "duration": 13,
    "start_time": "2024-08-19T00:19:17.941Z"
   },
   {
    "duration": 13,
    "start_time": "2024-08-19T00:19:17.961Z"
   },
   {
    "duration": 37,
    "start_time": "2024-08-19T00:19:17.977Z"
   },
   {
    "duration": 18,
    "start_time": "2024-08-19T00:19:18.017Z"
   },
   {
    "duration": 82,
    "start_time": "2024-08-19T00:19:18.038Z"
   },
   {
    "duration": 16,
    "start_time": "2024-08-19T00:19:18.123Z"
   },
   {
    "duration": 149,
    "start_time": "2024-08-19T00:19:51.896Z"
   },
   {
    "duration": 22,
    "start_time": "2024-08-19T00:19:57.730Z"
   },
   {
    "duration": 13,
    "start_time": "2024-08-19T00:20:13.090Z"
   },
   {
    "duration": 12,
    "start_time": "2024-08-19T00:20:20.853Z"
   },
   {
    "duration": 15,
    "start_time": "2024-08-19T00:21:07.906Z"
   },
   {
    "duration": 54,
    "start_time": "2024-08-19T00:25:22.317Z"
   },
   {
    "duration": 8,
    "start_time": "2024-08-19T00:29:03.760Z"
   },
   {
    "duration": 3,
    "start_time": "2024-08-19T00:29:35.067Z"
   },
   {
    "duration": 247,
    "start_time": "2024-08-19T00:29:35.074Z"
   },
   {
    "duration": 62,
    "start_time": "2024-08-19T00:29:35.326Z"
   },
   {
    "duration": 1281,
    "start_time": "2024-08-19T00:29:35.390Z"
   },
   {
    "duration": 15,
    "start_time": "2024-08-19T00:29:36.676Z"
   },
   {
    "duration": 28,
    "start_time": "2024-08-19T00:29:36.695Z"
   },
   {
    "duration": 13,
    "start_time": "2024-08-19T00:29:36.726Z"
   },
   {
    "duration": 10,
    "start_time": "2024-08-19T00:29:36.742Z"
   },
   {
    "duration": 11,
    "start_time": "2024-08-19T00:29:36.755Z"
   },
   {
    "duration": 46,
    "start_time": "2024-08-19T00:29:36.769Z"
   },
   {
    "duration": 10,
    "start_time": "2024-08-19T00:29:36.822Z"
   },
   {
    "duration": 191,
    "start_time": "2024-08-19T00:29:36.835Z"
   },
   {
    "duration": 16,
    "start_time": "2024-08-19T00:29:37.030Z"
   },
   {
    "duration": 183,
    "start_time": "2024-08-19T00:29:37.050Z"
   },
   {
    "duration": 185,
    "start_time": "2024-08-19T00:29:37.236Z"
   },
   {
    "duration": 49,
    "start_time": "2024-08-19T00:29:37.424Z"
   },
   {
    "duration": 56,
    "start_time": "2024-08-19T00:29:37.476Z"
   },
   {
    "duration": 9,
    "start_time": "2024-08-19T00:29:37.535Z"
   },
   {
    "duration": 35,
    "start_time": "2024-08-19T00:29:37.547Z"
   },
   {
    "duration": 35,
    "start_time": "2024-08-19T00:29:37.609Z"
   },
   {
    "duration": 13,
    "start_time": "2024-08-19T00:29:37.646Z"
   },
   {
    "duration": 8,
    "start_time": "2024-08-19T00:29:37.663Z"
   },
   {
    "duration": 16,
    "start_time": "2024-08-19T00:29:37.709Z"
   },
   {
    "duration": 8,
    "start_time": "2024-08-19T00:29:37.728Z"
   },
   {
    "duration": 1346,
    "start_time": "2024-08-19T00:29:37.739Z"
   },
   {
    "duration": 1126,
    "start_time": "2024-08-19T00:29:39.089Z"
   },
   {
    "duration": 11,
    "start_time": "2024-08-19T00:29:40.218Z"
   },
   {
    "duration": 11,
    "start_time": "2024-08-19T00:29:40.232Z"
   },
   {
    "duration": 7,
    "start_time": "2024-08-19T00:29:40.252Z"
   },
   {
    "duration": 53,
    "start_time": "2024-08-19T00:29:40.262Z"
   },
   {
    "duration": 40,
    "start_time": "2024-08-19T00:29:40.318Z"
   },
   {
    "duration": 49,
    "start_time": "2024-08-19T00:29:40.360Z"
   },
   {
    "duration": 6,
    "start_time": "2024-08-19T00:29:40.411Z"
   },
   {
    "duration": 48,
    "start_time": "2024-08-19T00:29:40.420Z"
   },
   {
    "duration": 40,
    "start_time": "2024-08-19T00:29:40.472Z"
   },
   {
    "duration": 109,
    "start_time": "2024-08-19T00:29:40.516Z"
   },
   {
    "duration": 41,
    "start_time": "2024-08-19T00:29:40.628Z"
   },
   {
    "duration": 156,
    "start_time": "2024-08-19T00:29:40.672Z"
   },
   {
    "duration": 84,
    "start_time": "2024-08-19T00:29:40.831Z"
   },
   {
    "duration": 6,
    "start_time": "2024-08-19T00:29:40.918Z"
   },
   {
    "duration": 6,
    "start_time": "2024-08-19T00:29:40.931Z"
   },
   {
    "duration": 392,
    "start_time": "2024-08-19T00:29:40.940Z"
   },
   {
    "duration": 249,
    "start_time": "2024-08-19T00:29:41.334Z"
   },
   {
    "duration": 22,
    "start_time": "2024-08-19T00:29:41.586Z"
   },
   {
    "duration": 379,
    "start_time": "2024-08-19T00:29:41.612Z"
   },
   {
    "duration": 16,
    "start_time": "2024-08-19T00:29:41.994Z"
   },
   {
    "duration": 386,
    "start_time": "2024-08-19T00:29:42.014Z"
   },
   {
    "duration": 363,
    "start_time": "2024-08-19T00:29:42.409Z"
   },
   {
    "duration": 315,
    "start_time": "2024-08-19T00:29:42.775Z"
   },
   {
    "duration": 24,
    "start_time": "2024-08-19T00:29:43.093Z"
   },
   {
    "duration": 191,
    "start_time": "2024-08-19T00:29:43.119Z"
   },
   {
    "duration": 177,
    "start_time": "2024-08-19T00:29:43.313Z"
   },
   {
    "duration": 262,
    "start_time": "2024-08-19T00:29:43.493Z"
   },
   {
    "duration": 80,
    "start_time": "2024-08-19T00:29:43.758Z"
   },
   {
    "duration": 73,
    "start_time": "2024-08-19T00:29:43.841Z"
   },
   {
    "duration": 11,
    "start_time": "2024-08-19T00:32:19.954Z"
   },
   {
    "duration": 158,
    "start_time": "2024-08-19T00:33:01.876Z"
   },
   {
    "duration": 175,
    "start_time": "2024-08-19T00:35:46.887Z"
   },
   {
    "duration": 164,
    "start_time": "2024-08-19T00:36:06.137Z"
   },
   {
    "duration": 161,
    "start_time": "2024-08-19T00:36:24.074Z"
   },
   {
    "duration": 160,
    "start_time": "2024-08-19T00:36:31.787Z"
   },
   {
    "duration": 161,
    "start_time": "2024-08-19T00:36:35.955Z"
   },
   {
    "duration": 169,
    "start_time": "2024-08-19T00:37:12.837Z"
   },
   {
    "duration": 174,
    "start_time": "2024-08-19T00:37:31.272Z"
   },
   {
    "duration": 835,
    "start_time": "2024-08-19T00:37:39.531Z"
   },
   {
    "duration": 172,
    "start_time": "2024-08-19T00:37:50.426Z"
   },
   {
    "duration": 213,
    "start_time": "2024-08-19T00:38:53.591Z"
   },
   {
    "duration": 170,
    "start_time": "2024-08-19T00:39:31.865Z"
   },
   {
    "duration": 234,
    "start_time": "2024-08-19T00:39:38.352Z"
   },
   {
    "duration": 884,
    "start_time": "2024-08-19T00:41:22.409Z"
   },
   {
    "duration": 171,
    "start_time": "2024-08-19T00:41:43.777Z"
   },
   {
    "duration": 177,
    "start_time": "2024-08-19T00:41:51.484Z"
   },
   {
    "duration": 160,
    "start_time": "2024-08-19T00:42:00.051Z"
   },
   {
    "duration": 163,
    "start_time": "2024-08-19T00:42:18.067Z"
   },
   {
    "duration": 178,
    "start_time": "2024-08-19T00:42:30.323Z"
   },
   {
    "duration": 171,
    "start_time": "2024-08-19T00:42:50.047Z"
   },
   {
    "duration": 4,
    "start_time": "2024-08-19T00:43:17.563Z"
   },
   {
    "duration": 219,
    "start_time": "2024-08-19T00:43:17.572Z"
   },
   {
    "duration": 67,
    "start_time": "2024-08-19T00:43:17.795Z"
   },
   {
    "duration": 1255,
    "start_time": "2024-08-19T00:43:17.865Z"
   },
   {
    "duration": 17,
    "start_time": "2024-08-19T00:43:19.123Z"
   },
   {
    "duration": 16,
    "start_time": "2024-08-19T00:43:19.144Z"
   },
   {
    "duration": 11,
    "start_time": "2024-08-19T00:43:19.163Z"
   },
   {
    "duration": 38,
    "start_time": "2024-08-19T00:43:19.177Z"
   },
   {
    "duration": 12,
    "start_time": "2024-08-19T00:43:19.218Z"
   },
   {
    "duration": 9,
    "start_time": "2024-08-19T00:43:19.234Z"
   },
   {
    "duration": 9,
    "start_time": "2024-08-19T00:43:19.246Z"
   },
   {
    "duration": 195,
    "start_time": "2024-08-19T00:43:19.258Z"
   },
   {
    "duration": 16,
    "start_time": "2024-08-19T00:43:19.456Z"
   },
   {
    "duration": 194,
    "start_time": "2024-08-19T00:43:19.474Z"
   },
   {
    "duration": 151,
    "start_time": "2024-08-19T00:43:19.675Z"
   },
   {
    "duration": 47,
    "start_time": "2024-08-19T00:43:19.829Z"
   },
   {
    "duration": 56,
    "start_time": "2024-08-19T00:43:19.879Z"
   },
   {
    "duration": 10,
    "start_time": "2024-08-19T00:43:19.938Z"
   },
   {
    "duration": 60,
    "start_time": "2024-08-19T00:43:19.952Z"
   },
   {
    "duration": 35,
    "start_time": "2024-08-19T00:43:20.014Z"
   },
   {
    "duration": 12,
    "start_time": "2024-08-19T00:43:20.052Z"
   },
   {
    "duration": 41,
    "start_time": "2024-08-19T00:43:20.067Z"
   },
   {
    "duration": 14,
    "start_time": "2024-08-19T00:43:20.111Z"
   },
   {
    "duration": 8,
    "start_time": "2024-08-19T00:43:20.128Z"
   },
   {
    "duration": 1328,
    "start_time": "2024-08-19T00:43:20.139Z"
   },
   {
    "duration": 1097,
    "start_time": "2024-08-19T00:43:21.470Z"
   },
   {
    "duration": 11,
    "start_time": "2024-08-19T00:43:22.570Z"
   },
   {
    "duration": 32,
    "start_time": "2024-08-19T00:43:22.584Z"
   },
   {
    "duration": 10,
    "start_time": "2024-08-19T00:43:22.619Z"
   },
   {
    "duration": 17,
    "start_time": "2024-08-19T00:43:22.632Z"
   },
   {
    "duration": 79,
    "start_time": "2024-08-19T00:43:22.652Z"
   },
   {
    "duration": 17,
    "start_time": "2024-08-19T00:43:22.734Z"
   },
   {
    "duration": 5,
    "start_time": "2024-08-19T00:43:22.753Z"
   },
   {
    "duration": 89,
    "start_time": "2024-08-19T00:43:22.761Z"
   },
   {
    "duration": 11,
    "start_time": "2024-08-19T00:43:22.853Z"
   },
   {
    "duration": 112,
    "start_time": "2024-08-19T00:43:22.867Z"
   },
   {
    "duration": 51,
    "start_time": "2024-08-19T00:43:22.983Z"
   },
   {
    "duration": 147,
    "start_time": "2024-08-19T00:43:23.037Z"
   },
   {
    "duration": 83,
    "start_time": "2024-08-19T00:43:23.187Z"
   },
   {
    "duration": 7,
    "start_time": "2024-08-19T00:43:23.273Z"
   },
   {
    "duration": 29,
    "start_time": "2024-08-19T00:43:23.283Z"
   },
   {
    "duration": 358,
    "start_time": "2024-08-19T00:43:23.321Z"
   },
   {
    "duration": 246,
    "start_time": "2024-08-19T00:43:23.682Z"
   },
   {
    "duration": 6,
    "start_time": "2024-08-19T00:43:23.931Z"
   },
   {
    "duration": 392,
    "start_time": "2024-08-19T00:43:23.940Z"
   },
   {
    "duration": 9,
    "start_time": "2024-08-19T00:43:24.335Z"
   },
   {
    "duration": 415,
    "start_time": "2024-08-19T00:43:24.348Z"
   },
   {
    "duration": 455,
    "start_time": "2024-08-19T00:43:24.766Z"
   },
   {
    "duration": 309,
    "start_time": "2024-08-19T00:43:25.224Z"
   },
   {
    "duration": 15,
    "start_time": "2024-08-19T00:43:25.536Z"
   },
   {
    "duration": 195,
    "start_time": "2024-08-19T00:43:25.554Z"
   },
   {
    "duration": 174,
    "start_time": "2024-08-19T00:43:25.752Z"
   },
   {
    "duration": 171,
    "start_time": "2024-08-19T00:43:35.619Z"
   },
   {
    "duration": 159,
    "start_time": "2024-08-19T00:43:46.949Z"
   },
   {
    "duration": 172,
    "start_time": "2024-08-19T00:43:59.710Z"
   },
   {
    "duration": 174,
    "start_time": "2024-08-19T00:44:07.486Z"
   },
   {
    "duration": 165,
    "start_time": "2024-08-19T00:44:19.909Z"
   },
   {
    "duration": 159,
    "start_time": "2024-08-19T00:44:24.043Z"
   },
   {
    "duration": 162,
    "start_time": "2024-08-19T00:44:33.742Z"
   },
   {
    "duration": 163,
    "start_time": "2024-08-19T00:46:45.406Z"
   },
   {
    "duration": 165,
    "start_time": "2024-08-19T00:47:15.281Z"
   },
   {
    "duration": 165,
    "start_time": "2024-08-19T00:47:17.146Z"
   },
   {
    "duration": 175,
    "start_time": "2024-08-19T00:47:17.813Z"
   },
   {
    "duration": 162,
    "start_time": "2024-08-19T00:47:29.944Z"
   },
   {
    "duration": 166,
    "start_time": "2024-08-19T00:47:45.710Z"
   },
   {
    "duration": 171,
    "start_time": "2024-08-19T00:47:49.443Z"
   },
   {
    "duration": 180,
    "start_time": "2024-08-19T00:48:04.476Z"
   },
   {
    "duration": 168,
    "start_time": "2024-08-19T00:48:17.027Z"
   },
   {
    "duration": 6,
    "start_time": "2024-08-19T00:48:31.731Z"
   },
   {
    "duration": 171,
    "start_time": "2024-08-19T00:48:36.933Z"
   },
   {
    "duration": 174,
    "start_time": "2024-08-19T00:48:40.727Z"
   },
   {
    "duration": 176,
    "start_time": "2024-08-19T00:48:48.999Z"
   },
   {
    "duration": 162,
    "start_time": "2024-08-19T00:49:02.410Z"
   },
   {
    "duration": 160,
    "start_time": "2024-08-19T00:49:11.738Z"
   },
   {
    "duration": 164,
    "start_time": "2024-08-19T00:49:22.878Z"
   },
   {
    "duration": 177,
    "start_time": "2024-08-19T00:49:54.053Z"
   },
   {
    "duration": 324,
    "start_time": "2024-08-19T00:51:17.460Z"
   },
   {
    "duration": 333,
    "start_time": "2024-08-19T00:51:30.106Z"
   },
   {
    "duration": 324,
    "start_time": "2024-08-19T00:51:40.340Z"
   },
   {
    "duration": 174,
    "start_time": "2024-08-19T00:52:57.285Z"
   },
   {
    "duration": 165,
    "start_time": "2024-08-19T00:53:46.595Z"
   },
   {
    "duration": 176,
    "start_time": "2024-08-19T00:53:57.604Z"
   },
   {
    "duration": 168,
    "start_time": "2024-08-19T00:54:14.995Z"
   },
   {
    "duration": 161,
    "start_time": "2024-08-19T00:54:40.870Z"
   },
   {
    "duration": 338,
    "start_time": "2024-08-19T00:56:35.085Z"
   },
   {
    "duration": 243,
    "start_time": "2024-08-19T00:57:20.085Z"
   },
   {
    "duration": 296,
    "start_time": "2024-08-19T00:57:34.316Z"
   },
   {
    "duration": 251,
    "start_time": "2024-08-19T00:57:40.866Z"
   },
   {
    "duration": 276,
    "start_time": "2024-08-19T00:57:54.911Z"
   },
   {
    "duration": 81,
    "start_time": "2024-08-19T00:59:18.302Z"
   },
   {
    "duration": 5,
    "start_time": "2024-08-19T01:00:11.546Z"
   },
   {
    "duration": 82,
    "start_time": "2024-08-19T01:01:37.869Z"
   },
   {
    "duration": 71,
    "start_time": "2024-08-19T01:01:46.081Z"
   },
   {
    "duration": 67,
    "start_time": "2024-08-19T01:02:47.177Z"
   },
   {
    "duration": 7,
    "start_time": "2024-08-19T01:03:25.564Z"
   },
   {
    "duration": 83,
    "start_time": "2024-08-19T01:18:49.076Z"
   },
   {
    "duration": 82,
    "start_time": "2024-08-19T01:18:56.606Z"
   },
   {
    "duration": 695,
    "start_time": "2024-08-19T01:20:30.813Z"
   },
   {
    "duration": 269,
    "start_time": "2024-08-19T01:20:31.512Z"
   },
   {
    "duration": 78,
    "start_time": "2024-08-19T01:20:31.784Z"
   },
   {
    "duration": 1288,
    "start_time": "2024-08-19T01:20:31.866Z"
   },
   {
    "duration": 18,
    "start_time": "2024-08-19T01:20:33.158Z"
   },
   {
    "duration": 33,
    "start_time": "2024-08-19T01:20:33.179Z"
   },
   {
    "duration": 16,
    "start_time": "2024-08-19T01:20:33.215Z"
   },
   {
    "duration": 11,
    "start_time": "2024-08-19T01:20:33.234Z"
   },
   {
    "duration": 15,
    "start_time": "2024-08-19T01:20:33.247Z"
   },
   {
    "duration": 49,
    "start_time": "2024-08-19T01:20:33.265Z"
   },
   {
    "duration": 11,
    "start_time": "2024-08-19T01:20:33.317Z"
   },
   {
    "duration": 204,
    "start_time": "2024-08-19T01:20:33.332Z"
   },
   {
    "duration": 17,
    "start_time": "2024-08-19T01:20:33.540Z"
   },
   {
    "duration": 199,
    "start_time": "2024-08-19T01:20:33.563Z"
   },
   {
    "duration": 163,
    "start_time": "2024-08-19T01:20:33.765Z"
   },
   {
    "duration": 54,
    "start_time": "2024-08-19T01:20:33.931Z"
   },
   {
    "duration": 47,
    "start_time": "2024-08-19T01:20:33.988Z"
   },
   {
    "duration": 9,
    "start_time": "2024-08-19T01:20:34.038Z"
   },
   {
    "duration": 66,
    "start_time": "2024-08-19T01:20:34.049Z"
   },
   {
    "duration": 34,
    "start_time": "2024-08-19T01:20:34.117Z"
   },
   {
    "duration": 13,
    "start_time": "2024-08-19T01:20:34.154Z"
   },
   {
    "duration": 41,
    "start_time": "2024-08-19T01:20:34.170Z"
   },
   {
    "duration": 15,
    "start_time": "2024-08-19T01:20:34.214Z"
   },
   {
    "duration": 8,
    "start_time": "2024-08-19T01:20:34.232Z"
   },
   {
    "duration": 1384,
    "start_time": "2024-08-19T01:20:34.243Z"
   },
   {
    "duration": 1141,
    "start_time": "2024-08-19T01:20:35.630Z"
   },
   {
    "duration": 10,
    "start_time": "2024-08-19T01:20:36.774Z"
   },
   {
    "duration": 30,
    "start_time": "2024-08-19T01:20:36.788Z"
   },
   {
    "duration": 9,
    "start_time": "2024-08-19T01:20:36.820Z"
   },
   {
    "duration": 14,
    "start_time": "2024-08-19T01:20:36.833Z"
   },
   {
    "duration": 85,
    "start_time": "2024-08-19T01:20:36.851Z"
   },
   {
    "duration": 16,
    "start_time": "2024-08-19T01:20:36.939Z"
   },
   {
    "duration": 4,
    "start_time": "2024-08-19T01:20:36.958Z"
   },
   {
    "duration": 78,
    "start_time": "2024-08-19T01:20:36.966Z"
   },
   {
    "duration": 12,
    "start_time": "2024-08-19T01:20:37.047Z"
   },
   {
    "duration": 116,
    "start_time": "2024-08-19T01:20:37.062Z"
   },
   {
    "duration": 56,
    "start_time": "2024-08-19T01:20:37.181Z"
   },
   {
    "duration": 150,
    "start_time": "2024-08-19T01:20:37.240Z"
   },
   {
    "duration": 73,
    "start_time": "2024-08-19T01:20:37.393Z"
   },
   {
    "duration": 6,
    "start_time": "2024-08-19T01:20:37.469Z"
   },
   {
    "duration": 5,
    "start_time": "2024-08-19T01:20:37.512Z"
   },
   {
    "duration": 390,
    "start_time": "2024-08-19T01:20:37.520Z"
   },
   {
    "duration": 255,
    "start_time": "2024-08-19T01:20:37.913Z"
   },
   {
    "duration": 8,
    "start_time": "2024-08-19T01:20:38.171Z"
   },
   {
    "duration": 400,
    "start_time": "2024-08-19T01:20:38.182Z"
   },
   {
    "duration": 25,
    "start_time": "2024-08-19T01:20:38.586Z"
   },
   {
    "duration": 386,
    "start_time": "2024-08-19T01:20:38.614Z"
   },
   {
    "duration": 339,
    "start_time": "2024-08-19T01:20:39.009Z"
   },
   {
    "duration": 321,
    "start_time": "2024-08-19T01:20:39.351Z"
   },
   {
    "duration": 32,
    "start_time": "2024-08-19T01:20:39.676Z"
   },
   {
    "duration": 335,
    "start_time": "2024-08-19T01:20:39.711Z"
   },
   {
    "duration": 173,
    "start_time": "2024-08-19T01:20:40.048Z"
   },
   {
    "duration": 169,
    "start_time": "2024-08-19T01:20:40.224Z"
   },
   {
    "duration": 355,
    "start_time": "2024-08-19T01:20:40.396Z"
   },
   {
    "duration": 94,
    "start_time": "2024-08-19T01:20:40.754Z"
   },
   {
    "duration": 93,
    "start_time": "2024-08-19T01:20:40.851Z"
   },
   {
    "duration": 77,
    "start_time": "2024-08-19T01:20:40.947Z"
   }
  ],
  "kernelspec": {
   "display_name": "Python 3 (ipykernel)",
   "language": "python",
   "name": "python3"
  },
  "language_info": {
   "codemirror_mode": {
    "name": "ipython",
    "version": 3
   },
   "file_extension": ".py",
   "mimetype": "text/x-python",
   "name": "python",
   "nbconvert_exporter": "python",
   "pygments_lexer": "ipython3",
   "version": "3.9.19"
  },
  "toc": {
   "base_numbering": 1,
   "nav_menu": {},
   "number_sections": true,
   "sideBar": true,
   "skip_h1_title": true,
   "title_cell": "Table of Contents",
   "title_sidebar": "Contents",
   "toc_cell": false,
   "toc_position": {},
   "toc_section_display": true,
   "toc_window_display": false
  },
  "vscode": {
   "interpreter": {
    "hash": "01a7be9ec63e704a62cefc5fe7a4756944464ee731be31632bdf42a4cb4688cf"
   }
  }
 },
 "nbformat": 4,
 "nbformat_minor": 5
}
